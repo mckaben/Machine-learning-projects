{
 "cells": [
  {
   "cell_type": "markdown",
   "id": "3e628c6f",
   "metadata": {},
   "source": [
    "Name : Philippe Kabenla\n",
    "\n",
    "Course: CYB 674"
   ]
  },
  {
   "cell_type": "markdown",
   "id": "a4b22b0b",
   "metadata": {},
   "source": [
    "#                                     Analytical Project Assignment\n",
    "##                                              Detecting network intrusions"
   ]
  },
  {
   "cell_type": "markdown",
   "id": "9a57d214",
   "metadata": {},
   "source": [
    "### Data description"
   ]
  },
  {
   "cell_type": "markdown",
   "id": "54a34b7d",
   "metadata": {},
   "source": [
    "XYZ Bank is a large and profitable bank in Saint Louis, Missouri. Like any large corporation, XYZ Bank has a very large\n",
    "\n",
    "and intricate infrastructure that supports its networking system. A Network Analyst recently discovered unusual network\n",
    "\n",
    "activity. Then, pouring over year’s worth of logs, their team of analysts discovered many instances of anomalous\n",
    "\n",
    "network activity that resulted in significant sums of money being siphoned from bank accounts.  The Chief Networking \n",
    "\n",
    "Officer has come to your group for help in developing a system that can automatically detect and warn of such known, as \n",
    "\n",
    "well as other unknown, anomalous network activities.\n",
    "\n",
    "\n",
    "The network_traffic.csv file is a synopsis of logged network activity. It contains labeled examples of benign network \n",
    "\n",
    "sessions as well as examples of sessions involving intrusions.  It is important to note that it is likely that there \n",
    "\n",
    "exist many different intrusion types in the data, but we will treat all intrusions as the same.  The \n",
    "\n",
    "data_description.txt file provides explanations of each of the attributes found in the network_traffic dataset.\n"
   ]
  },
  {
   "cell_type": "markdown",
   "id": "e8d11977",
   "metadata": {},
   "source": [
    "# 1. Data exploration"
   ]
  },
  {
   "cell_type": "code",
   "execution_count": 2,
   "id": "40b00efb",
   "metadata": {},
   "outputs": [],
   "source": [
    "import pandas as pd\n",
    "import numpy as np"
   ]
  },
  {
   "cell_type": "markdown",
   "id": "c993ed19",
   "metadata": {},
   "source": [
    "Let's import the data and see the number of rows and columns."
   ]
  },
  {
   "cell_type": "code",
   "execution_count": 3,
   "id": "2dc0c627",
   "metadata": {},
   "outputs": [
    {
     "data": {
      "text/html": [
       "<div>\n",
       "<style scoped>\n",
       "    .dataframe tbody tr th:only-of-type {\n",
       "        vertical-align: middle;\n",
       "    }\n",
       "\n",
       "    .dataframe tbody tr th {\n",
       "        vertical-align: top;\n",
       "    }\n",
       "\n",
       "    .dataframe thead th {\n",
       "        text-align: right;\n",
       "    }\n",
       "</style>\n",
       "<table border=\"1\" class=\"dataframe\">\n",
       "  <thead>\n",
       "    <tr style=\"text-align: right;\">\n",
       "      <th></th>\n",
       "      <th>Unnamed: 0</th>\n",
       "      <th>duration</th>\n",
       "      <th>protocol_type</th>\n",
       "      <th>service</th>\n",
       "      <th>flag</th>\n",
       "      <th>src_bytes</th>\n",
       "      <th>dst_bytes</th>\n",
       "      <th>land</th>\n",
       "      <th>wrong_fragment</th>\n",
       "      <th>urgent</th>\n",
       "      <th>...</th>\n",
       "      <th>root_shell</th>\n",
       "      <th>su_attempted</th>\n",
       "      <th>num_root</th>\n",
       "      <th>num_file_creations</th>\n",
       "      <th>num_shells</th>\n",
       "      <th>num_access_files</th>\n",
       "      <th>num_outbound_cmds</th>\n",
       "      <th>is_host_login</th>\n",
       "      <th>is_guest_login</th>\n",
       "      <th>is_intrusion</th>\n",
       "    </tr>\n",
       "  </thead>\n",
       "  <tbody>\n",
       "    <tr>\n",
       "      <th>0</th>\n",
       "      <td>0</td>\n",
       "      <td>190.048316</td>\n",
       "      <td>udp</td>\n",
       "      <td>private</td>\n",
       "      <td>SF</td>\n",
       "      <td>105</td>\n",
       "      <td>146</td>\n",
       "      <td>0</td>\n",
       "      <td>0</td>\n",
       "      <td>0</td>\n",
       "      <td>...</td>\n",
       "      <td>0</td>\n",
       "      <td>0</td>\n",
       "      <td>0</td>\n",
       "      <td>0</td>\n",
       "      <td>0</td>\n",
       "      <td>0</td>\n",
       "      <td>0</td>\n",
       "      <td>0</td>\n",
       "      <td>0</td>\n",
       "      <td>1</td>\n",
       "    </tr>\n",
       "    <tr>\n",
       "      <th>1</th>\n",
       "      <td>1</td>\n",
       "      <td>0.000000</td>\n",
       "      <td>udp</td>\n",
       "      <td>private</td>\n",
       "      <td>SF</td>\n",
       "      <td>105</td>\n",
       "      <td>105</td>\n",
       "      <td>0</td>\n",
       "      <td>0</td>\n",
       "      <td>0</td>\n",
       "      <td>...</td>\n",
       "      <td>0</td>\n",
       "      <td>0</td>\n",
       "      <td>0</td>\n",
       "      <td>0</td>\n",
       "      <td>0</td>\n",
       "      <td>0</td>\n",
       "      <td>0</td>\n",
       "      <td>0</td>\n",
       "      <td>0</td>\n",
       "      <td>1</td>\n",
       "    </tr>\n",
       "    <tr>\n",
       "      <th>2</th>\n",
       "      <td>2</td>\n",
       "      <td>0.000000</td>\n",
       "      <td>udp</td>\n",
       "      <td>private</td>\n",
       "      <td>unknown</td>\n",
       "      <td>105</td>\n",
       "      <td>146</td>\n",
       "      <td>0</td>\n",
       "      <td>0</td>\n",
       "      <td>0</td>\n",
       "      <td>...</td>\n",
       "      <td>0</td>\n",
       "      <td>0</td>\n",
       "      <td>0</td>\n",
       "      <td>0</td>\n",
       "      <td>0</td>\n",
       "      <td>0</td>\n",
       "      <td>0</td>\n",
       "      <td>0</td>\n",
       "      <td>0</td>\n",
       "      <td>1</td>\n",
       "    </tr>\n",
       "    <tr>\n",
       "      <th>3</th>\n",
       "      <td>3</td>\n",
       "      <td>0.000000</td>\n",
       "      <td>udp</td>\n",
       "      <td>private</td>\n",
       "      <td>SF</td>\n",
       "      <td>105</td>\n",
       "      <td>146</td>\n",
       "      <td>0</td>\n",
       "      <td>0</td>\n",
       "      <td>0</td>\n",
       "      <td>...</td>\n",
       "      <td>0</td>\n",
       "      <td>0</td>\n",
       "      <td>0</td>\n",
       "      <td>0</td>\n",
       "      <td>0</td>\n",
       "      <td>0</td>\n",
       "      <td>0</td>\n",
       "      <td>0</td>\n",
       "      <td>0</td>\n",
       "      <td>1</td>\n",
       "    </tr>\n",
       "    <tr>\n",
       "      <th>4</th>\n",
       "      <td>4</td>\n",
       "      <td>0.000000</td>\n",
       "      <td>udp</td>\n",
       "      <td>private</td>\n",
       "      <td>SF</td>\n",
       "      <td>105</td>\n",
       "      <td>147</td>\n",
       "      <td>0</td>\n",
       "      <td>0</td>\n",
       "      <td>0</td>\n",
       "      <td>...</td>\n",
       "      <td>0</td>\n",
       "      <td>0</td>\n",
       "      <td>0</td>\n",
       "      <td>0</td>\n",
       "      <td>0</td>\n",
       "      <td>0</td>\n",
       "      <td>0</td>\n",
       "      <td>0</td>\n",
       "      <td>0</td>\n",
       "      <td>1</td>\n",
       "    </tr>\n",
       "  </tbody>\n",
       "</table>\n",
       "<p>5 rows × 24 columns</p>\n",
       "</div>"
      ],
      "text/plain": [
       "   Unnamed: 0    duration protocol_type  service     flag  src_bytes  \\\n",
       "0           0  190.048316           udp  private       SF        105   \n",
       "1           1    0.000000           udp  private       SF        105   \n",
       "2           2    0.000000           udp  private  unknown        105   \n",
       "3           3    0.000000           udp  private       SF        105   \n",
       "4           4    0.000000           udp  private       SF        105   \n",
       "\n",
       "   dst_bytes  land  wrong_fragment  urgent  ...  root_shell  su_attempted  \\\n",
       "0        146     0               0       0  ...           0             0   \n",
       "1        105     0               0       0  ...           0             0   \n",
       "2        146     0               0       0  ...           0             0   \n",
       "3        146     0               0       0  ...           0             0   \n",
       "4        147     0               0       0  ...           0             0   \n",
       "\n",
       "   num_root  num_file_creations  num_shells  num_access_files  \\\n",
       "0         0                   0           0                 0   \n",
       "1         0                   0           0                 0   \n",
       "2         0                   0           0                 0   \n",
       "3         0                   0           0                 0   \n",
       "4         0                   0           0                 0   \n",
       "\n",
       "   num_outbound_cmds  is_host_login  is_guest_login  is_intrusion  \n",
       "0                  0              0               0             1  \n",
       "1                  0              0               0             1  \n",
       "2                  0              0               0             1  \n",
       "3                  0              0               0             1  \n",
       "4                  0              0               0             1  \n",
       "\n",
       "[5 rows x 24 columns]"
      ]
     },
     "execution_count": 3,
     "metadata": {},
     "output_type": "execute_result"
    }
   ],
   "source": [
    "net_df = pd.read_csv(\"network_data_CYB_674.csv\", sep = \",\")\n",
    "net_df = pd.DataFrame(net_df)\n",
    "net_df.head()\n"
   ]
  },
  {
   "cell_type": "code",
   "execution_count": 4,
   "id": "4badc76c",
   "metadata": {},
   "outputs": [],
   "source": [
    "nRow = net_df.shape[0]\n",
    "nCol = net_df.shape[1]"
   ]
  },
  {
   "cell_type": "code",
   "execution_count": 5,
   "id": "df76c453",
   "metadata": {},
   "outputs": [
    {
     "name": "stdout",
     "output_type": "stream",
     "text": [
      " the dataset has initially 699 rows and 24 columns.\n"
     ]
    }
   ],
   "source": [
    "print(f\" the dataset has initially {nRow} rows and {nCol} columns.\")"
   ]
  },
  {
   "cell_type": "markdown",
   "id": "914b80d6",
   "metadata": {},
   "source": [
    "The table above can't fit all the columns. However, le's look at all the possible columns names included in the \n",
    "\n",
    "dataset and then compute a statistical summary."
   ]
  },
  {
   "cell_type": "code",
   "execution_count": 6,
   "id": "1a95fb53",
   "metadata": {},
   "outputs": [
    {
     "data": {
      "text/plain": [
       "Index(['Unnamed: 0', 'duration', 'protocol_type', 'service', 'flag',\n",
       "       'src_bytes', 'dst_bytes', 'land', 'wrong_fragment', 'urgent', 'hot',\n",
       "       'num_failed_logins', 'logged_in', 'num_compromised', 'root_shell',\n",
       "       'su_attempted', 'num_root', 'num_file_creations', 'num_shells',\n",
       "       'num_access_files', 'num_outbound_cmds', 'is_host_login',\n",
       "       'is_guest_login', 'is_intrusion'],\n",
       "      dtype='object')"
      ]
     },
     "execution_count": 6,
     "metadata": {},
     "output_type": "execute_result"
    }
   ],
   "source": [
    "net_df.columns"
   ]
  },
  {
   "cell_type": "code",
   "execution_count": 7,
   "id": "967c962f",
   "metadata": {},
   "outputs": [
    {
     "name": "stdout",
     "output_type": "stream",
     "text": [
      "<class 'pandas.core.frame.DataFrame'>\n",
      "RangeIndex: 699 entries, 0 to 698\n",
      "Data columns (total 24 columns):\n",
      " #   Column              Non-Null Count  Dtype  \n",
      "---  ------              --------------  -----  \n",
      " 0   Unnamed: 0          699 non-null    int64  \n",
      " 1   duration            699 non-null    float64\n",
      " 2   protocol_type       699 non-null    object \n",
      " 3   service             699 non-null    object \n",
      " 4   flag                699 non-null    object \n",
      " 5   src_bytes           699 non-null    int64  \n",
      " 6   dst_bytes           699 non-null    int64  \n",
      " 7   land                699 non-null    int64  \n",
      " 8   wrong_fragment      699 non-null    int64  \n",
      " 9   urgent              699 non-null    int64  \n",
      " 10  hot                 699 non-null    int64  \n",
      " 11  num_failed_logins   699 non-null    int64  \n",
      " 12  logged_in           699 non-null    int64  \n",
      " 13  num_compromised     699 non-null    int64  \n",
      " 14  root_shell          699 non-null    int64  \n",
      " 15  su_attempted        699 non-null    int64  \n",
      " 16  num_root            699 non-null    int64  \n",
      " 17  num_file_creations  699 non-null    int64  \n",
      " 18  num_shells          699 non-null    int64  \n",
      " 19  num_access_files    699 non-null    int64  \n",
      " 20  num_outbound_cmds   699 non-null    int64  \n",
      " 21  is_host_login       699 non-null    int64  \n",
      " 22  is_guest_login      699 non-null    int64  \n",
      " 23  is_intrusion        699 non-null    int64  \n",
      "dtypes: float64(1), int64(20), object(3)\n",
      "memory usage: 131.2+ KB\n"
     ]
    }
   ],
   "source": [
    "#let's get some information about the data\n",
    "net_df.info()"
   ]
  },
  {
   "cell_type": "code",
   "execution_count": 8,
   "id": "8925e332",
   "metadata": {},
   "outputs": [
    {
     "data": {
      "text/html": [
       "<div>\n",
       "<style scoped>\n",
       "    .dataframe tbody tr th:only-of-type {\n",
       "        vertical-align: middle;\n",
       "    }\n",
       "\n",
       "    .dataframe tbody tr th {\n",
       "        vertical-align: top;\n",
       "    }\n",
       "\n",
       "    .dataframe thead th {\n",
       "        text-align: right;\n",
       "    }\n",
       "</style>\n",
       "<table border=\"1\" class=\"dataframe\">\n",
       "  <thead>\n",
       "    <tr style=\"text-align: right;\">\n",
       "      <th></th>\n",
       "      <th>Unnamed: 0</th>\n",
       "      <th>duration</th>\n",
       "      <th>src_bytes</th>\n",
       "      <th>dst_bytes</th>\n",
       "      <th>land</th>\n",
       "      <th>wrong_fragment</th>\n",
       "      <th>urgent</th>\n",
       "      <th>hot</th>\n",
       "      <th>num_failed_logins</th>\n",
       "      <th>logged_in</th>\n",
       "      <th>...</th>\n",
       "      <th>root_shell</th>\n",
       "      <th>su_attempted</th>\n",
       "      <th>num_root</th>\n",
       "      <th>num_file_creations</th>\n",
       "      <th>num_shells</th>\n",
       "      <th>num_access_files</th>\n",
       "      <th>num_outbound_cmds</th>\n",
       "      <th>is_host_login</th>\n",
       "      <th>is_guest_login</th>\n",
       "      <th>is_intrusion</th>\n",
       "    </tr>\n",
       "  </thead>\n",
       "  <tbody>\n",
       "    <tr>\n",
       "      <th>count</th>\n",
       "      <td>699.000000</td>\n",
       "      <td>699.000000</td>\n",
       "      <td>699.000000</td>\n",
       "      <td>699.000000</td>\n",
       "      <td>699.0</td>\n",
       "      <td>699.0</td>\n",
       "      <td>699.0</td>\n",
       "      <td>699.000000</td>\n",
       "      <td>699.0</td>\n",
       "      <td>699.000000</td>\n",
       "      <td>...</td>\n",
       "      <td>699.000000</td>\n",
       "      <td>699.000000</td>\n",
       "      <td>699.000000</td>\n",
       "      <td>699.0</td>\n",
       "      <td>699.0</td>\n",
       "      <td>699.000000</td>\n",
       "      <td>699.0</td>\n",
       "      <td>699.0</td>\n",
       "      <td>699.000000</td>\n",
       "      <td>699.000000</td>\n",
       "    </tr>\n",
       "    <tr>\n",
       "      <th>mean</th>\n",
       "      <td>349.000000</td>\n",
       "      <td>190.048316</td>\n",
       "      <td>18032.052933</td>\n",
       "      <td>1806.351931</td>\n",
       "      <td>0.0</td>\n",
       "      <td>0.0</td>\n",
       "      <td>0.0</td>\n",
       "      <td>0.151645</td>\n",
       "      <td>0.0</td>\n",
       "      <td>0.590844</td>\n",
       "      <td>...</td>\n",
       "      <td>0.001431</td>\n",
       "      <td>0.002861</td>\n",
       "      <td>1.429185</td>\n",
       "      <td>0.0</td>\n",
       "      <td>0.0</td>\n",
       "      <td>0.007153</td>\n",
       "      <td>0.0</td>\n",
       "      <td>0.0</td>\n",
       "      <td>0.051502</td>\n",
       "      <td>0.429185</td>\n",
       "    </tr>\n",
       "    <tr>\n",
       "      <th>std</th>\n",
       "      <td>201.928205</td>\n",
       "      <td>814.873870</td>\n",
       "      <td>59040.018323</td>\n",
       "      <td>8271.114218</td>\n",
       "      <td>0.0</td>\n",
       "      <td>0.0</td>\n",
       "      <td>0.0</td>\n",
       "      <td>1.071863</td>\n",
       "      <td>0.0</td>\n",
       "      <td>0.492030</td>\n",
       "      <td>...</td>\n",
       "      <td>0.037823</td>\n",
       "      <td>0.075647</td>\n",
       "      <td>36.879601</td>\n",
       "      <td>0.0</td>\n",
       "      <td>0.0</td>\n",
       "      <td>0.189117</td>\n",
       "      <td>0.0</td>\n",
       "      <td>0.0</td>\n",
       "      <td>0.221178</td>\n",
       "      <td>0.495314</td>\n",
       "    </tr>\n",
       "    <tr>\n",
       "      <th>min</th>\n",
       "      <td>0.000000</td>\n",
       "      <td>0.000000</td>\n",
       "      <td>0.000000</td>\n",
       "      <td>0.000000</td>\n",
       "      <td>0.0</td>\n",
       "      <td>0.0</td>\n",
       "      <td>0.0</td>\n",
       "      <td>0.000000</td>\n",
       "      <td>0.0</td>\n",
       "      <td>0.000000</td>\n",
       "      <td>...</td>\n",
       "      <td>0.000000</td>\n",
       "      <td>0.000000</td>\n",
       "      <td>0.000000</td>\n",
       "      <td>0.0</td>\n",
       "      <td>0.0</td>\n",
       "      <td>0.000000</td>\n",
       "      <td>0.0</td>\n",
       "      <td>0.0</td>\n",
       "      <td>0.000000</td>\n",
       "      <td>0.000000</td>\n",
       "    </tr>\n",
       "    <tr>\n",
       "      <th>25%</th>\n",
       "      <td>174.500000</td>\n",
       "      <td>0.000000</td>\n",
       "      <td>105.000000</td>\n",
       "      <td>0.000000</td>\n",
       "      <td>0.0</td>\n",
       "      <td>0.0</td>\n",
       "      <td>0.0</td>\n",
       "      <td>0.000000</td>\n",
       "      <td>0.0</td>\n",
       "      <td>0.000000</td>\n",
       "      <td>...</td>\n",
       "      <td>0.000000</td>\n",
       "      <td>0.000000</td>\n",
       "      <td>0.000000</td>\n",
       "      <td>0.0</td>\n",
       "      <td>0.0</td>\n",
       "      <td>0.000000</td>\n",
       "      <td>0.0</td>\n",
       "      <td>0.0</td>\n",
       "      <td>0.000000</td>\n",
       "      <td>0.000000</td>\n",
       "    </tr>\n",
       "    <tr>\n",
       "      <th>50%</th>\n",
       "      <td>349.000000</td>\n",
       "      <td>0.000000</td>\n",
       "      <td>217.000000</td>\n",
       "      <td>147.000000</td>\n",
       "      <td>0.0</td>\n",
       "      <td>0.0</td>\n",
       "      <td>0.0</td>\n",
       "      <td>0.000000</td>\n",
       "      <td>0.0</td>\n",
       "      <td>1.000000</td>\n",
       "      <td>...</td>\n",
       "      <td>0.000000</td>\n",
       "      <td>0.000000</td>\n",
       "      <td>0.000000</td>\n",
       "      <td>0.0</td>\n",
       "      <td>0.0</td>\n",
       "      <td>0.000000</td>\n",
       "      <td>0.0</td>\n",
       "      <td>0.0</td>\n",
       "      <td>0.000000</td>\n",
       "      <td>0.000000</td>\n",
       "    </tr>\n",
       "    <tr>\n",
       "      <th>75%</th>\n",
       "      <td>523.500000</td>\n",
       "      <td>1.000000</td>\n",
       "      <td>330.500000</td>\n",
       "      <td>760.500000</td>\n",
       "      <td>0.0</td>\n",
       "      <td>0.0</td>\n",
       "      <td>0.0</td>\n",
       "      <td>0.000000</td>\n",
       "      <td>0.0</td>\n",
       "      <td>1.000000</td>\n",
       "      <td>...</td>\n",
       "      <td>0.000000</td>\n",
       "      <td>0.000000</td>\n",
       "      <td>0.000000</td>\n",
       "      <td>0.0</td>\n",
       "      <td>0.0</td>\n",
       "      <td>0.000000</td>\n",
       "      <td>0.0</td>\n",
       "      <td>0.0</td>\n",
       "      <td>0.000000</td>\n",
       "      <td>1.000000</td>\n",
       "    </tr>\n",
       "    <tr>\n",
       "      <th>max</th>\n",
       "      <td>698.000000</td>\n",
       "      <td>15122.000000</td>\n",
       "      <td>283618.000000</td>\n",
       "      <td>176690.000000</td>\n",
       "      <td>0.0</td>\n",
       "      <td>0.0</td>\n",
       "      <td>0.0</td>\n",
       "      <td>25.000000</td>\n",
       "      <td>0.0</td>\n",
       "      <td>1.000000</td>\n",
       "      <td>...</td>\n",
       "      <td>1.000000</td>\n",
       "      <td>2.000000</td>\n",
       "      <td>975.000000</td>\n",
       "      <td>0.0</td>\n",
       "      <td>0.0</td>\n",
       "      <td>5.000000</td>\n",
       "      <td>0.0</td>\n",
       "      <td>0.0</td>\n",
       "      <td>1.000000</td>\n",
       "      <td>1.000000</td>\n",
       "    </tr>\n",
       "  </tbody>\n",
       "</table>\n",
       "<p>8 rows × 21 columns</p>\n",
       "</div>"
      ],
      "text/plain": [
       "       Unnamed: 0      duration      src_bytes      dst_bytes   land  \\\n",
       "count  699.000000    699.000000     699.000000     699.000000  699.0   \n",
       "mean   349.000000    190.048316   18032.052933    1806.351931    0.0   \n",
       "std    201.928205    814.873870   59040.018323    8271.114218    0.0   \n",
       "min      0.000000      0.000000       0.000000       0.000000    0.0   \n",
       "25%    174.500000      0.000000     105.000000       0.000000    0.0   \n",
       "50%    349.000000      0.000000     217.000000     147.000000    0.0   \n",
       "75%    523.500000      1.000000     330.500000     760.500000    0.0   \n",
       "max    698.000000  15122.000000  283618.000000  176690.000000    0.0   \n",
       "\n",
       "       wrong_fragment  urgent         hot  num_failed_logins   logged_in  ...  \\\n",
       "count           699.0   699.0  699.000000              699.0  699.000000  ...   \n",
       "mean              0.0     0.0    0.151645                0.0    0.590844  ...   \n",
       "std               0.0     0.0    1.071863                0.0    0.492030  ...   \n",
       "min               0.0     0.0    0.000000                0.0    0.000000  ...   \n",
       "25%               0.0     0.0    0.000000                0.0    0.000000  ...   \n",
       "50%               0.0     0.0    0.000000                0.0    1.000000  ...   \n",
       "75%               0.0     0.0    0.000000                0.0    1.000000  ...   \n",
       "max               0.0     0.0   25.000000                0.0    1.000000  ...   \n",
       "\n",
       "       root_shell  su_attempted    num_root  num_file_creations  num_shells  \\\n",
       "count  699.000000    699.000000  699.000000               699.0       699.0   \n",
       "mean     0.001431      0.002861    1.429185                 0.0         0.0   \n",
       "std      0.037823      0.075647   36.879601                 0.0         0.0   \n",
       "min      0.000000      0.000000    0.000000                 0.0         0.0   \n",
       "25%      0.000000      0.000000    0.000000                 0.0         0.0   \n",
       "50%      0.000000      0.000000    0.000000                 0.0         0.0   \n",
       "75%      0.000000      0.000000    0.000000                 0.0         0.0   \n",
       "max      1.000000      2.000000  975.000000                 0.0         0.0   \n",
       "\n",
       "       num_access_files  num_outbound_cmds  is_host_login  is_guest_login  \\\n",
       "count        699.000000              699.0          699.0      699.000000   \n",
       "mean           0.007153                0.0            0.0        0.051502   \n",
       "std            0.189117                0.0            0.0        0.221178   \n",
       "min            0.000000                0.0            0.0        0.000000   \n",
       "25%            0.000000                0.0            0.0        0.000000   \n",
       "50%            0.000000                0.0            0.0        0.000000   \n",
       "75%            0.000000                0.0            0.0        0.000000   \n",
       "max            5.000000                0.0            0.0        1.000000   \n",
       "\n",
       "       is_intrusion  \n",
       "count    699.000000  \n",
       "mean       0.429185  \n",
       "std        0.495314  \n",
       "min        0.000000  \n",
       "25%        0.000000  \n",
       "50%        0.000000  \n",
       "75%        1.000000  \n",
       "max        1.000000  \n",
       "\n",
       "[8 rows x 21 columns]"
      ]
     },
     "execution_count": 8,
     "metadata": {},
     "output_type": "execute_result"
    }
   ],
   "source": [
    "net_df.describe()"
   ]
  },
  {
   "cell_type": "markdown",
   "id": "50206b8f",
   "metadata": {},
   "source": [
    "The statical summary of the data displays the count of rows, mean, standard deviation, minimum, and maximum for columns \n",
    "\n",
    "that have numerical values. The count for all  the listed columns is the same. However, colums (land, wrong_fragment, \n",
    "\n",
    "urgent, num_failed_logins, num_file_creations, num_shells, num_outbound_cmds, is_host_login) have \"0\" values and \n",
    "\n",
    "therefore, unnecessary for this study."
   ]
  },
  {
   "cell_type": "markdown",
   "id": "aed45993",
   "metadata": {},
   "source": [
    "# 2. Data preparation"
   ]
  },
  {
   "cell_type": "markdown",
   "id": "7312d116",
   "metadata": {},
   "source": [
    "let's identify data elements that are incorrect and decide how to replace them. The process includes identifying all \n",
    "\n",
    "possible null values and then clean the data accordingly."
   ]
  },
  {
   "cell_type": "markdown",
   "id": "447b461d",
   "metadata": {},
   "source": [
    "### A. Identify null values in the data"
   ]
  },
  {
   "cell_type": "code",
   "execution_count": 9,
   "id": "a94192ac",
   "metadata": {},
   "outputs": [
    {
     "data": {
      "text/plain": [
       "Unnamed: 0            0\n",
       "duration              0\n",
       "protocol_type         0\n",
       "service               0\n",
       "flag                  0\n",
       "src_bytes             0\n",
       "dst_bytes             0\n",
       "land                  0\n",
       "wrong_fragment        0\n",
       "urgent                0\n",
       "hot                   0\n",
       "num_failed_logins     0\n",
       "logged_in             0\n",
       "num_compromised       0\n",
       "root_shell            0\n",
       "su_attempted          0\n",
       "num_root              0\n",
       "num_file_creations    0\n",
       "num_shells            0\n",
       "num_access_files      0\n",
       "num_outbound_cmds     0\n",
       "is_host_login         0\n",
       "is_guest_login        0\n",
       "is_intrusion          0\n",
       "dtype: int64"
      ]
     },
     "execution_count": 9,
     "metadata": {},
     "output_type": "execute_result"
    }
   ],
   "source": [
    "#Checking for missing values in the dataset\n",
    "net_df.isnull().sum()"
   ]
  },
  {
   "cell_type": "markdown",
   "id": "b0467885",
   "metadata": {},
   "source": [
    "The data has 20 null values in total and only colums \"duration\" and \"flag\" are affected."
   ]
  },
  {
   "cell_type": "markdown",
   "id": "d9d0298a",
   "metadata": {},
   "source": [
    "### B. Replace null values of \"duration\" by its mean and \"flag\" by \"unknown\""
   ]
  },
  {
   "cell_type": "code",
   "execution_count": 10,
   "id": "d9ace4cb",
   "metadata": {},
   "outputs": [],
   "source": [
    "data_df= net_df"
   ]
  },
  {
   "cell_type": "code",
   "execution_count": 11,
   "id": "748f5fbc",
   "metadata": {},
   "outputs": [
    {
     "data": {
      "text/html": [
       "<div>\n",
       "<style scoped>\n",
       "    .dataframe tbody tr th:only-of-type {\n",
       "        vertical-align: middle;\n",
       "    }\n",
       "\n",
       "    .dataframe tbody tr th {\n",
       "        vertical-align: top;\n",
       "    }\n",
       "\n",
       "    .dataframe thead th {\n",
       "        text-align: right;\n",
       "    }\n",
       "</style>\n",
       "<table border=\"1\" class=\"dataframe\">\n",
       "  <thead>\n",
       "    <tr style=\"text-align: right;\">\n",
       "      <th></th>\n",
       "      <th>Unnamed: 0</th>\n",
       "      <th>duration</th>\n",
       "      <th>protocol_type</th>\n",
       "      <th>service</th>\n",
       "      <th>flag</th>\n",
       "      <th>src_bytes</th>\n",
       "      <th>dst_bytes</th>\n",
       "      <th>land</th>\n",
       "      <th>wrong_fragment</th>\n",
       "      <th>urgent</th>\n",
       "      <th>...</th>\n",
       "      <th>root_shell</th>\n",
       "      <th>su_attempted</th>\n",
       "      <th>num_root</th>\n",
       "      <th>num_file_creations</th>\n",
       "      <th>num_shells</th>\n",
       "      <th>num_access_files</th>\n",
       "      <th>num_outbound_cmds</th>\n",
       "      <th>is_host_login</th>\n",
       "      <th>is_guest_login</th>\n",
       "      <th>is_intrusion</th>\n",
       "    </tr>\n",
       "  </thead>\n",
       "  <tbody>\n",
       "    <tr>\n",
       "      <th>0</th>\n",
       "      <td>0</td>\n",
       "      <td>190.048316</td>\n",
       "      <td>udp</td>\n",
       "      <td>private</td>\n",
       "      <td>SF</td>\n",
       "      <td>105</td>\n",
       "      <td>146</td>\n",
       "      <td>0</td>\n",
       "      <td>0</td>\n",
       "      <td>0</td>\n",
       "      <td>...</td>\n",
       "      <td>0</td>\n",
       "      <td>0</td>\n",
       "      <td>0</td>\n",
       "      <td>0</td>\n",
       "      <td>0</td>\n",
       "      <td>0</td>\n",
       "      <td>0</td>\n",
       "      <td>0</td>\n",
       "      <td>0</td>\n",
       "      <td>1</td>\n",
       "    </tr>\n",
       "    <tr>\n",
       "      <th>1</th>\n",
       "      <td>1</td>\n",
       "      <td>0.000000</td>\n",
       "      <td>udp</td>\n",
       "      <td>private</td>\n",
       "      <td>SF</td>\n",
       "      <td>105</td>\n",
       "      <td>105</td>\n",
       "      <td>0</td>\n",
       "      <td>0</td>\n",
       "      <td>0</td>\n",
       "      <td>...</td>\n",
       "      <td>0</td>\n",
       "      <td>0</td>\n",
       "      <td>0</td>\n",
       "      <td>0</td>\n",
       "      <td>0</td>\n",
       "      <td>0</td>\n",
       "      <td>0</td>\n",
       "      <td>0</td>\n",
       "      <td>0</td>\n",
       "      <td>1</td>\n",
       "    </tr>\n",
       "    <tr>\n",
       "      <th>2</th>\n",
       "      <td>2</td>\n",
       "      <td>0.000000</td>\n",
       "      <td>udp</td>\n",
       "      <td>private</td>\n",
       "      <td>unknown</td>\n",
       "      <td>105</td>\n",
       "      <td>146</td>\n",
       "      <td>0</td>\n",
       "      <td>0</td>\n",
       "      <td>0</td>\n",
       "      <td>...</td>\n",
       "      <td>0</td>\n",
       "      <td>0</td>\n",
       "      <td>0</td>\n",
       "      <td>0</td>\n",
       "      <td>0</td>\n",
       "      <td>0</td>\n",
       "      <td>0</td>\n",
       "      <td>0</td>\n",
       "      <td>0</td>\n",
       "      <td>1</td>\n",
       "    </tr>\n",
       "    <tr>\n",
       "      <th>3</th>\n",
       "      <td>3</td>\n",
       "      <td>0.000000</td>\n",
       "      <td>udp</td>\n",
       "      <td>private</td>\n",
       "      <td>SF</td>\n",
       "      <td>105</td>\n",
       "      <td>146</td>\n",
       "      <td>0</td>\n",
       "      <td>0</td>\n",
       "      <td>0</td>\n",
       "      <td>...</td>\n",
       "      <td>0</td>\n",
       "      <td>0</td>\n",
       "      <td>0</td>\n",
       "      <td>0</td>\n",
       "      <td>0</td>\n",
       "      <td>0</td>\n",
       "      <td>0</td>\n",
       "      <td>0</td>\n",
       "      <td>0</td>\n",
       "      <td>1</td>\n",
       "    </tr>\n",
       "    <tr>\n",
       "      <th>4</th>\n",
       "      <td>4</td>\n",
       "      <td>0.000000</td>\n",
       "      <td>udp</td>\n",
       "      <td>private</td>\n",
       "      <td>SF</td>\n",
       "      <td>105</td>\n",
       "      <td>147</td>\n",
       "      <td>0</td>\n",
       "      <td>0</td>\n",
       "      <td>0</td>\n",
       "      <td>...</td>\n",
       "      <td>0</td>\n",
       "      <td>0</td>\n",
       "      <td>0</td>\n",
       "      <td>0</td>\n",
       "      <td>0</td>\n",
       "      <td>0</td>\n",
       "      <td>0</td>\n",
       "      <td>0</td>\n",
       "      <td>0</td>\n",
       "      <td>1</td>\n",
       "    </tr>\n",
       "  </tbody>\n",
       "</table>\n",
       "<p>5 rows × 24 columns</p>\n",
       "</div>"
      ],
      "text/plain": [
       "   Unnamed: 0    duration protocol_type  service     flag  src_bytes  \\\n",
       "0           0  190.048316           udp  private       SF        105   \n",
       "1           1    0.000000           udp  private       SF        105   \n",
       "2           2    0.000000           udp  private  unknown        105   \n",
       "3           3    0.000000           udp  private       SF        105   \n",
       "4           4    0.000000           udp  private       SF        105   \n",
       "\n",
       "   dst_bytes  land  wrong_fragment  urgent  ...  root_shell  su_attempted  \\\n",
       "0        146     0               0       0  ...           0             0   \n",
       "1        105     0               0       0  ...           0             0   \n",
       "2        146     0               0       0  ...           0             0   \n",
       "3        146     0               0       0  ...           0             0   \n",
       "4        147     0               0       0  ...           0             0   \n",
       "\n",
       "   num_root  num_file_creations  num_shells  num_access_files  \\\n",
       "0         0                   0           0                 0   \n",
       "1         0                   0           0                 0   \n",
       "2         0                   0           0                 0   \n",
       "3         0                   0           0                 0   \n",
       "4         0                   0           0                 0   \n",
       "\n",
       "   num_outbound_cmds  is_host_login  is_guest_login  is_intrusion  \n",
       "0                  0              0               0             1  \n",
       "1                  0              0               0             1  \n",
       "2                  0              0               0             1  \n",
       "3                  0              0               0             1  \n",
       "4                  0              0               0             1  \n",
       "\n",
       "[5 rows x 24 columns]"
      ]
     },
     "execution_count": 11,
     "metadata": {},
     "output_type": "execute_result"
    }
   ],
   "source": [
    "data_df['duration'].fillna(data_df['duration'].mean(), inplace = True)\n",
    "data_df.head()"
   ]
  },
  {
   "cell_type": "code",
   "execution_count": 12,
   "id": "10a3ea4f",
   "metadata": {},
   "outputs": [],
   "source": [
    "#Let's replace null values in \"flag\" columns by 0"
   ]
  },
  {
   "cell_type": "code",
   "execution_count": 13,
   "id": "9cbef1a6",
   "metadata": {},
   "outputs": [
    {
     "data": {
      "text/html": [
       "<div>\n",
       "<style scoped>\n",
       "    .dataframe tbody tr th:only-of-type {\n",
       "        vertical-align: middle;\n",
       "    }\n",
       "\n",
       "    .dataframe tbody tr th {\n",
       "        vertical-align: top;\n",
       "    }\n",
       "\n",
       "    .dataframe thead th {\n",
       "        text-align: right;\n",
       "    }\n",
       "</style>\n",
       "<table border=\"1\" class=\"dataframe\">\n",
       "  <thead>\n",
       "    <tr style=\"text-align: right;\">\n",
       "      <th></th>\n",
       "      <th>Unnamed: 0</th>\n",
       "      <th>duration</th>\n",
       "      <th>protocol_type</th>\n",
       "      <th>service</th>\n",
       "      <th>flag</th>\n",
       "      <th>src_bytes</th>\n",
       "      <th>dst_bytes</th>\n",
       "      <th>land</th>\n",
       "      <th>wrong_fragment</th>\n",
       "      <th>urgent</th>\n",
       "      <th>...</th>\n",
       "      <th>root_shell</th>\n",
       "      <th>su_attempted</th>\n",
       "      <th>num_root</th>\n",
       "      <th>num_file_creations</th>\n",
       "      <th>num_shells</th>\n",
       "      <th>num_access_files</th>\n",
       "      <th>num_outbound_cmds</th>\n",
       "      <th>is_host_login</th>\n",
       "      <th>is_guest_login</th>\n",
       "      <th>is_intrusion</th>\n",
       "    </tr>\n",
       "  </thead>\n",
       "  <tbody>\n",
       "    <tr>\n",
       "      <th>0</th>\n",
       "      <td>0</td>\n",
       "      <td>190.048316</td>\n",
       "      <td>udp</td>\n",
       "      <td>private</td>\n",
       "      <td>SF</td>\n",
       "      <td>105</td>\n",
       "      <td>146</td>\n",
       "      <td>0</td>\n",
       "      <td>0</td>\n",
       "      <td>0</td>\n",
       "      <td>...</td>\n",
       "      <td>0</td>\n",
       "      <td>0</td>\n",
       "      <td>0</td>\n",
       "      <td>0</td>\n",
       "      <td>0</td>\n",
       "      <td>0</td>\n",
       "      <td>0</td>\n",
       "      <td>0</td>\n",
       "      <td>0</td>\n",
       "      <td>1</td>\n",
       "    </tr>\n",
       "    <tr>\n",
       "      <th>1</th>\n",
       "      <td>1</td>\n",
       "      <td>0.000000</td>\n",
       "      <td>udp</td>\n",
       "      <td>private</td>\n",
       "      <td>SF</td>\n",
       "      <td>105</td>\n",
       "      <td>105</td>\n",
       "      <td>0</td>\n",
       "      <td>0</td>\n",
       "      <td>0</td>\n",
       "      <td>...</td>\n",
       "      <td>0</td>\n",
       "      <td>0</td>\n",
       "      <td>0</td>\n",
       "      <td>0</td>\n",
       "      <td>0</td>\n",
       "      <td>0</td>\n",
       "      <td>0</td>\n",
       "      <td>0</td>\n",
       "      <td>0</td>\n",
       "      <td>1</td>\n",
       "    </tr>\n",
       "    <tr>\n",
       "      <th>2</th>\n",
       "      <td>2</td>\n",
       "      <td>0.000000</td>\n",
       "      <td>udp</td>\n",
       "      <td>private</td>\n",
       "      <td>unknown</td>\n",
       "      <td>105</td>\n",
       "      <td>146</td>\n",
       "      <td>0</td>\n",
       "      <td>0</td>\n",
       "      <td>0</td>\n",
       "      <td>...</td>\n",
       "      <td>0</td>\n",
       "      <td>0</td>\n",
       "      <td>0</td>\n",
       "      <td>0</td>\n",
       "      <td>0</td>\n",
       "      <td>0</td>\n",
       "      <td>0</td>\n",
       "      <td>0</td>\n",
       "      <td>0</td>\n",
       "      <td>1</td>\n",
       "    </tr>\n",
       "    <tr>\n",
       "      <th>3</th>\n",
       "      <td>3</td>\n",
       "      <td>0.000000</td>\n",
       "      <td>udp</td>\n",
       "      <td>private</td>\n",
       "      <td>SF</td>\n",
       "      <td>105</td>\n",
       "      <td>146</td>\n",
       "      <td>0</td>\n",
       "      <td>0</td>\n",
       "      <td>0</td>\n",
       "      <td>...</td>\n",
       "      <td>0</td>\n",
       "      <td>0</td>\n",
       "      <td>0</td>\n",
       "      <td>0</td>\n",
       "      <td>0</td>\n",
       "      <td>0</td>\n",
       "      <td>0</td>\n",
       "      <td>0</td>\n",
       "      <td>0</td>\n",
       "      <td>1</td>\n",
       "    </tr>\n",
       "    <tr>\n",
       "      <th>4</th>\n",
       "      <td>4</td>\n",
       "      <td>0.000000</td>\n",
       "      <td>udp</td>\n",
       "      <td>private</td>\n",
       "      <td>SF</td>\n",
       "      <td>105</td>\n",
       "      <td>147</td>\n",
       "      <td>0</td>\n",
       "      <td>0</td>\n",
       "      <td>0</td>\n",
       "      <td>...</td>\n",
       "      <td>0</td>\n",
       "      <td>0</td>\n",
       "      <td>0</td>\n",
       "      <td>0</td>\n",
       "      <td>0</td>\n",
       "      <td>0</td>\n",
       "      <td>0</td>\n",
       "      <td>0</td>\n",
       "      <td>0</td>\n",
       "      <td>1</td>\n",
       "    </tr>\n",
       "  </tbody>\n",
       "</table>\n",
       "<p>5 rows × 24 columns</p>\n",
       "</div>"
      ],
      "text/plain": [
       "   Unnamed: 0    duration protocol_type  service     flag  src_bytes  \\\n",
       "0           0  190.048316           udp  private       SF        105   \n",
       "1           1    0.000000           udp  private       SF        105   \n",
       "2           2    0.000000           udp  private  unknown        105   \n",
       "3           3    0.000000           udp  private       SF        105   \n",
       "4           4    0.000000           udp  private       SF        105   \n",
       "\n",
       "   dst_bytes  land  wrong_fragment  urgent  ...  root_shell  su_attempted  \\\n",
       "0        146     0               0       0  ...           0             0   \n",
       "1        105     0               0       0  ...           0             0   \n",
       "2        146     0               0       0  ...           0             0   \n",
       "3        146     0               0       0  ...           0             0   \n",
       "4        147     0               0       0  ...           0             0   \n",
       "\n",
       "   num_root  num_file_creations  num_shells  num_access_files  \\\n",
       "0         0                   0           0                 0   \n",
       "1         0                   0           0                 0   \n",
       "2         0                   0           0                 0   \n",
       "3         0                   0           0                 0   \n",
       "4         0                   0           0                 0   \n",
       "\n",
       "   num_outbound_cmds  is_host_login  is_guest_login  is_intrusion  \n",
       "0                  0              0               0             1  \n",
       "1                  0              0               0             1  \n",
       "2                  0              0               0             1  \n",
       "3                  0              0               0             1  \n",
       "4                  0              0               0             1  \n",
       "\n",
       "[5 rows x 24 columns]"
      ]
     },
     "execution_count": 13,
     "metadata": {},
     "output_type": "execute_result"
    }
   ],
   "source": [
    "data_df['flag']= data_df['flag'].fillna(\"unknown\")\n",
    "data_df.head()"
   ]
  },
  {
   "cell_type": "markdown",
   "id": "5a44b1bc",
   "metadata": {},
   "source": [
    "Let's see if there is any cull values in the new save dataset."
   ]
  },
  {
   "cell_type": "code",
   "execution_count": 14,
   "id": "97011bc6",
   "metadata": {},
   "outputs": [
    {
     "data": {
      "text/plain": [
       "0"
      ]
     },
     "execution_count": 14,
     "metadata": {},
     "output_type": "execute_result"
    }
   ],
   "source": [
    "data_df.isnull().sum().sum()"
   ]
  },
  {
   "cell_type": "markdown",
   "id": "a9f4e6f7",
   "metadata": {},
   "source": [
    "Now, the dataset has 0 null values."
   ]
  },
  {
   "cell_type": "markdown",
   "id": "22aac4f7",
   "metadata": {},
   "source": [
    "### C. creation of a new dataset with useful columns for this study"
   ]
  },
  {
   "cell_type": "markdown",
   "id": "08be90fa",
   "metadata": {},
   "source": [
    "The new dataset is named \"data_df2\" which contains the the columns below."
   ]
  },
  {
   "cell_type": "code",
   "execution_count": 15,
   "id": "72ed3dd6",
   "metadata": {},
   "outputs": [
    {
     "data": {
      "text/html": [
       "<div>\n",
       "<style scoped>\n",
       "    .dataframe tbody tr th:only-of-type {\n",
       "        vertical-align: middle;\n",
       "    }\n",
       "\n",
       "    .dataframe tbody tr th {\n",
       "        vertical-align: top;\n",
       "    }\n",
       "\n",
       "    .dataframe thead th {\n",
       "        text-align: right;\n",
       "    }\n",
       "</style>\n",
       "<table border=\"1\" class=\"dataframe\">\n",
       "  <thead>\n",
       "    <tr style=\"text-align: right;\">\n",
       "      <th></th>\n",
       "      <th>protocol_type</th>\n",
       "      <th>service</th>\n",
       "      <th>flag</th>\n",
       "      <th>duration</th>\n",
       "      <th>src_bytes</th>\n",
       "      <th>dst_bytes</th>\n",
       "      <th>num_compromised</th>\n",
       "      <th>num_access_files</th>\n",
       "      <th>is_guest_login</th>\n",
       "      <th>is_intrusion</th>\n",
       "    </tr>\n",
       "  </thead>\n",
       "  <tbody>\n",
       "    <tr>\n",
       "      <th>0</th>\n",
       "      <td>udp</td>\n",
       "      <td>private</td>\n",
       "      <td>SF</td>\n",
       "      <td>190.048316</td>\n",
       "      <td>105</td>\n",
       "      <td>146</td>\n",
       "      <td>0</td>\n",
       "      <td>0</td>\n",
       "      <td>0</td>\n",
       "      <td>1</td>\n",
       "    </tr>\n",
       "    <tr>\n",
       "      <th>1</th>\n",
       "      <td>udp</td>\n",
       "      <td>private</td>\n",
       "      <td>SF</td>\n",
       "      <td>0.000000</td>\n",
       "      <td>105</td>\n",
       "      <td>105</td>\n",
       "      <td>0</td>\n",
       "      <td>0</td>\n",
       "      <td>0</td>\n",
       "      <td>1</td>\n",
       "    </tr>\n",
       "    <tr>\n",
       "      <th>2</th>\n",
       "      <td>udp</td>\n",
       "      <td>private</td>\n",
       "      <td>unknown</td>\n",
       "      <td>0.000000</td>\n",
       "      <td>105</td>\n",
       "      <td>146</td>\n",
       "      <td>0</td>\n",
       "      <td>0</td>\n",
       "      <td>0</td>\n",
       "      <td>1</td>\n",
       "    </tr>\n",
       "    <tr>\n",
       "      <th>3</th>\n",
       "      <td>udp</td>\n",
       "      <td>private</td>\n",
       "      <td>SF</td>\n",
       "      <td>0.000000</td>\n",
       "      <td>105</td>\n",
       "      <td>146</td>\n",
       "      <td>0</td>\n",
       "      <td>0</td>\n",
       "      <td>0</td>\n",
       "      <td>1</td>\n",
       "    </tr>\n",
       "    <tr>\n",
       "      <th>4</th>\n",
       "      <td>udp</td>\n",
       "      <td>private</td>\n",
       "      <td>SF</td>\n",
       "      <td>0.000000</td>\n",
       "      <td>105</td>\n",
       "      <td>147</td>\n",
       "      <td>0</td>\n",
       "      <td>0</td>\n",
       "      <td>0</td>\n",
       "      <td>1</td>\n",
       "    </tr>\n",
       "  </tbody>\n",
       "</table>\n",
       "</div>"
      ],
      "text/plain": [
       "  protocol_type  service     flag    duration  src_bytes  dst_bytes  \\\n",
       "0           udp  private       SF  190.048316        105        146   \n",
       "1           udp  private       SF    0.000000        105        105   \n",
       "2           udp  private  unknown    0.000000        105        146   \n",
       "3           udp  private       SF    0.000000        105        146   \n",
       "4           udp  private       SF    0.000000        105        147   \n",
       "\n",
       "   num_compromised  num_access_files  is_guest_login  is_intrusion  \n",
       "0                0                 0               0             1  \n",
       "1                0                 0               0             1  \n",
       "2                0                 0               0             1  \n",
       "3                0                 0               0             1  \n",
       "4                0                 0               0             1  "
      ]
     },
     "execution_count": 15,
     "metadata": {},
     "output_type": "execute_result"
    }
   ],
   "source": [
    "data_df2 = data_df\n",
    "data_df2 = data_df2[['protocol_type', 'service', 'flag','duration','src_bytes', 'dst_bytes',\n",
    "                     'num_compromised', 'num_access_files', 'is_guest_login', 'is_intrusion']]\n",
    "data_df2.head()"
   ]
  },
  {
   "cell_type": "markdown",
   "id": "505ed3fc",
   "metadata": {},
   "source": [
    "#### Now, let's create a new column within the new dataset that returns True if there is intrusion and a False if there is not.\n",
    "\n",
    "Let's name the column \"intrusion\"."
   ]
  },
  {
   "cell_type": "code",
   "execution_count": 16,
   "id": "575d9f89",
   "metadata": {},
   "outputs": [
    {
     "data": {
      "text/plain": [
       "0       True\n",
       "1       True\n",
       "2       True\n",
       "3       True\n",
       "4       True\n",
       "       ...  \n",
       "694    False\n",
       "695    False\n",
       "696    False\n",
       "697    False\n",
       "698    False\n",
       "Name: is_intrusion, Length: 699, dtype: bool"
      ]
     },
     "execution_count": 16,
     "metadata": {},
     "output_type": "execute_result"
    }
   ],
   "source": [
    "intrusion = data_df2['is_intrusion']== 1\n",
    "intrusion"
   ]
  },
  {
   "cell_type": "markdown",
   "id": "35128ba7",
   "metadata": {},
   "source": [
    "#### Let's include the new column \"intrusion\" in the dataset data_df2."
   ]
  },
  {
   "cell_type": "code",
   "execution_count": 17,
   "id": "f4691d03",
   "metadata": {},
   "outputs": [],
   "source": [
    "data_df2.insert(10, 'intrusion', intrusion)"
   ]
  },
  {
   "cell_type": "code",
   "execution_count": 18,
   "id": "443665a1",
   "metadata": {},
   "outputs": [
    {
     "data": {
      "text/html": [
       "<div>\n",
       "<style scoped>\n",
       "    .dataframe tbody tr th:only-of-type {\n",
       "        vertical-align: middle;\n",
       "    }\n",
       "\n",
       "    .dataframe tbody tr th {\n",
       "        vertical-align: top;\n",
       "    }\n",
       "\n",
       "    .dataframe thead th {\n",
       "        text-align: right;\n",
       "    }\n",
       "</style>\n",
       "<table border=\"1\" class=\"dataframe\">\n",
       "  <thead>\n",
       "    <tr style=\"text-align: right;\">\n",
       "      <th></th>\n",
       "      <th>protocol_type</th>\n",
       "      <th>service</th>\n",
       "      <th>flag</th>\n",
       "      <th>duration</th>\n",
       "      <th>src_bytes</th>\n",
       "      <th>dst_bytes</th>\n",
       "      <th>num_compromised</th>\n",
       "      <th>num_access_files</th>\n",
       "      <th>is_guest_login</th>\n",
       "      <th>is_intrusion</th>\n",
       "      <th>intrusion</th>\n",
       "    </tr>\n",
       "  </thead>\n",
       "  <tbody>\n",
       "    <tr>\n",
       "      <th>0</th>\n",
       "      <td>udp</td>\n",
       "      <td>private</td>\n",
       "      <td>SF</td>\n",
       "      <td>190.048316</td>\n",
       "      <td>105</td>\n",
       "      <td>146</td>\n",
       "      <td>0</td>\n",
       "      <td>0</td>\n",
       "      <td>0</td>\n",
       "      <td>1</td>\n",
       "      <td>True</td>\n",
       "    </tr>\n",
       "    <tr>\n",
       "      <th>1</th>\n",
       "      <td>udp</td>\n",
       "      <td>private</td>\n",
       "      <td>SF</td>\n",
       "      <td>0.000000</td>\n",
       "      <td>105</td>\n",
       "      <td>105</td>\n",
       "      <td>0</td>\n",
       "      <td>0</td>\n",
       "      <td>0</td>\n",
       "      <td>1</td>\n",
       "      <td>True</td>\n",
       "    </tr>\n",
       "    <tr>\n",
       "      <th>2</th>\n",
       "      <td>udp</td>\n",
       "      <td>private</td>\n",
       "      <td>unknown</td>\n",
       "      <td>0.000000</td>\n",
       "      <td>105</td>\n",
       "      <td>146</td>\n",
       "      <td>0</td>\n",
       "      <td>0</td>\n",
       "      <td>0</td>\n",
       "      <td>1</td>\n",
       "      <td>True</td>\n",
       "    </tr>\n",
       "    <tr>\n",
       "      <th>3</th>\n",
       "      <td>udp</td>\n",
       "      <td>private</td>\n",
       "      <td>SF</td>\n",
       "      <td>0.000000</td>\n",
       "      <td>105</td>\n",
       "      <td>146</td>\n",
       "      <td>0</td>\n",
       "      <td>0</td>\n",
       "      <td>0</td>\n",
       "      <td>1</td>\n",
       "      <td>True</td>\n",
       "    </tr>\n",
       "    <tr>\n",
       "      <th>4</th>\n",
       "      <td>udp</td>\n",
       "      <td>private</td>\n",
       "      <td>SF</td>\n",
       "      <td>0.000000</td>\n",
       "      <td>105</td>\n",
       "      <td>147</td>\n",
       "      <td>0</td>\n",
       "      <td>0</td>\n",
       "      <td>0</td>\n",
       "      <td>1</td>\n",
       "      <td>True</td>\n",
       "    </tr>\n",
       "  </tbody>\n",
       "</table>\n",
       "</div>"
      ],
      "text/plain": [
       "  protocol_type  service     flag    duration  src_bytes  dst_bytes  \\\n",
       "0           udp  private       SF  190.048316        105        146   \n",
       "1           udp  private       SF    0.000000        105        105   \n",
       "2           udp  private  unknown    0.000000        105        146   \n",
       "3           udp  private       SF    0.000000        105        146   \n",
       "4           udp  private       SF    0.000000        105        147   \n",
       "\n",
       "   num_compromised  num_access_files  is_guest_login  is_intrusion  intrusion  \n",
       "0                0                 0               0             1       True  \n",
       "1                0                 0               0             1       True  \n",
       "2                0                 0               0             1       True  \n",
       "3                0                 0               0             1       True  \n",
       "4                0                 0               0             1       True  "
      ]
     },
     "execution_count": 18,
     "metadata": {},
     "output_type": "execute_result"
    }
   ],
   "source": [
    "data_df2.head()"
   ]
  },
  {
   "cell_type": "markdown",
   "id": "a3ecb0df",
   "metadata": {},
   "source": [
    "## Benign intrusion detection"
   ]
  },
  {
   "cell_type": "markdown",
   "id": "353a7560",
   "metadata": {},
   "source": [
    "Let's create a new function that returnns all the value of benign intrusion supported by a \"for\" function."
   ]
  },
  {
   "cell_type": "code",
   "execution_count": 19,
   "id": "cd37916e",
   "metadata": {},
   "outputs": [],
   "source": [
    "def benign_intrusion_data(intrusion):\n",
    "    for i in range(len(data_df2)):\n",
    "        if intrusion[i] == False:\n",
    "            print(\"Protocol type: {protocol_type:<5s} Service: {service:<10s} has a benign intrusion mainly from destination to source (# data bytes): {dst_bytes}\".format(protocol_type = data_df2.iloc[i,0],\n",
    "            service = data_df2.iloc[i,1], dst_bytes = data_df2.iloc[i,5])) "
   ]
  },
  {
   "cell_type": "code",
   "execution_count": 20,
   "id": "485efc1b",
   "metadata": {},
   "outputs": [
    {
     "name": "stdout",
     "output_type": "stream",
     "text": [
      "Protocol type: tcp   Service: http       has a benign intrusion mainly from destination to source (# data bytes): 896\n",
      "Protocol type: tcp   Service: http       has a benign intrusion mainly from destination to source (# data bytes): 1588\n",
      "Protocol type: tcp   Service: http       has a benign intrusion mainly from destination to source (# data bytes): 7334\n",
      "Protocol type: tcp   Service: http       has a benign intrusion mainly from destination to source (# data bytes): 8679\n",
      "Protocol type: tcp   Service: http       has a benign intrusion mainly from destination to source (# data bytes): 1658\n",
      "Protocol type: tcp   Service: http       has a benign intrusion mainly from destination to source (# data bytes): 505\n",
      "Protocol type: tcp   Service: http       has a benign intrusion mainly from destination to source (# data bytes): 445\n",
      "Protocol type: tcp   Service: http       has a benign intrusion mainly from destination to source (# data bytes): 2431\n",
      "Protocol type: tcp   Service: http       has a benign intrusion mainly from destination to source (# data bytes): 688\n",
      "Protocol type: tcp   Service: http       has a benign intrusion mainly from destination to source (# data bytes): 566\n",
      "Protocol type: tcp   Service: http       has a benign intrusion mainly from destination to source (# data bytes): 470\n",
      "Protocol type: tcp   Service: http       has a benign intrusion mainly from destination to source (# data bytes): 356\n",
      "Protocol type: tcp   Service: http       has a benign intrusion mainly from destination to source (# data bytes): 480\n",
      "Protocol type: tcp   Service: http       has a benign intrusion mainly from destination to source (# data bytes): 356\n",
      "Protocol type: tcp   Service: http       has a benign intrusion mainly from destination to source (# data bytes): 275\n",
      "Protocol type: tcp   Service: http       has a benign intrusion mainly from destination to source (# data bytes): 442\n",
      "Protocol type: tcp   Service: http       has a benign intrusion mainly from destination to source (# data bytes): 255\n",
      "Protocol type: tcp   Service: http       has a benign intrusion mainly from destination to source (# data bytes): 2543\n",
      "Protocol type: tcp   Service: http       has a benign intrusion mainly from destination to source (# data bytes): 556\n",
      "Protocol type: tcp   Service: http       has a benign intrusion mainly from destination to source (# data bytes): 5720\n",
      "Protocol type: tcp   Service: http       has a benign intrusion mainly from destination to source (# data bytes): 1572\n",
      "Protocol type: tcp   Service: http       has a benign intrusion mainly from destination to source (# data bytes): 5615\n",
      "Protocol type: tcp   Service: http       has a benign intrusion mainly from destination to source (# data bytes): 14135\n",
      "Protocol type: tcp   Service: http       has a benign intrusion mainly from destination to source (# data bytes): 4895\n",
      "Protocol type: tcp   Service: http       has a benign intrusion mainly from destination to source (# data bytes): 2276\n",
      "Protocol type: tcp   Service: http       has a benign intrusion mainly from destination to source (# data bytes): 307\n",
      "Protocol type: tcp   Service: http       has a benign intrusion mainly from destination to source (# data bytes): 654\n",
      "Protocol type: tcp   Service: http       has a benign intrusion mainly from destination to source (# data bytes): 11283\n",
      "Protocol type: tcp   Service: http       has a benign intrusion mainly from destination to source (# data bytes): 767\n",
      "Protocol type: tcp   Service: http       has a benign intrusion mainly from destination to source (# data bytes): 15298\n",
      "Protocol type: tcp   Service: http       has a benign intrusion mainly from destination to source (# data bytes): 8478\n",
      "Protocol type: tcp   Service: smtp       has a benign intrusion mainly from destination to source (# data bytes): 324\n",
      "Protocol type: udp   Service: domain_u   has a benign intrusion mainly from destination to source (# data bytes): 0\n",
      "Protocol type: tcp   Service: smtp       has a benign intrusion mainly from destination to source (# data bytes): 375\n",
      "Protocol type: tcp   Service: ftp        has a benign intrusion mainly from destination to source (# data bytes): 1054\n",
      "Protocol type: tcp   Service: http       has a benign intrusion mainly from destination to source (# data bytes): 3758\n",
      "Protocol type: tcp   Service: http       has a benign intrusion mainly from destination to source (# data bytes): 2659\n",
      "Protocol type: tcp   Service: smtp       has a benign intrusion mainly from destination to source (# data bytes): 336\n",
      "Protocol type: tcp   Service: ftp_data   has a benign intrusion mainly from destination to source (# data bytes): 0\n",
      "Protocol type: udp   Service: domain_u   has a benign intrusion mainly from destination to source (# data bytes): 0\n",
      "Protocol type: udp   Service: domain_u   has a benign intrusion mainly from destination to source (# data bytes): 0\n",
      "Protocol type: tcp   Service: http       has a benign intrusion mainly from destination to source (# data bytes): 2313\n",
      "Protocol type: tcp   Service: http       has a benign intrusion mainly from destination to source (# data bytes): 2302\n",
      "Protocol type: tcp   Service: http       has a benign intrusion mainly from destination to source (# data bytes): 4296\n",
      "Protocol type: tcp   Service: http       has a benign intrusion mainly from destination to source (# data bytes): 4019\n",
      "Protocol type: tcp   Service: http       has a benign intrusion mainly from destination to source (# data bytes): 633\n",
      "Protocol type: tcp   Service: http       has a benign intrusion mainly from destination to source (# data bytes): 12021\n",
      "Protocol type: tcp   Service: http       has a benign intrusion mainly from destination to source (# data bytes): 2006\n",
      "Protocol type: tcp   Service: http       has a benign intrusion mainly from destination to source (# data bytes): 6493\n",
      "Protocol type: tcp   Service: http       has a benign intrusion mainly from destination to source (# data bytes): 364\n",
      "Protocol type: tcp   Service: http       has a benign intrusion mainly from destination to source (# data bytes): 254\n",
      "Protocol type: tcp   Service: http       has a benign intrusion mainly from destination to source (# data bytes): 2506\n",
      "Protocol type: tcp   Service: http       has a benign intrusion mainly from destination to source (# data bytes): 6356\n",
      "Protocol type: tcp   Service: http       has a benign intrusion mainly from destination to source (# data bytes): 354\n",
      "Protocol type: tcp   Service: http       has a benign intrusion mainly from destination to source (# data bytes): 7039\n",
      "Protocol type: tcp   Service: http       has a benign intrusion mainly from destination to source (# data bytes): 186\n",
      "Protocol type: tcp   Service: http       has a benign intrusion mainly from destination to source (# data bytes): 5070\n",
      "Protocol type: tcp   Service: http       has a benign intrusion mainly from destination to source (# data bytes): 15340\n",
      "Protocol type: tcp   Service: http       has a benign intrusion mainly from destination to source (# data bytes): 13045\n",
      "Protocol type: tcp   Service: http       has a benign intrusion mainly from destination to source (# data bytes): 39243\n",
      "Protocol type: tcp   Service: http       has a benign intrusion mainly from destination to source (# data bytes): 531\n",
      "Protocol type: tcp   Service: http       has a benign intrusion mainly from destination to source (# data bytes): 7911\n",
      "Protocol type: tcp   Service: http       has a benign intrusion mainly from destination to source (# data bytes): 21400\n",
      "Protocol type: tcp   Service: http       has a benign intrusion mainly from destination to source (# data bytes): 1976\n",
      "Protocol type: tcp   Service: http       has a benign intrusion mainly from destination to source (# data bytes): 1931\n",
      "Protocol type: tcp   Service: http       has a benign intrusion mainly from destination to source (# data bytes): 2416\n",
      "Protocol type: tcp   Service: http       has a benign intrusion mainly from destination to source (# data bytes): 308\n",
      "Protocol type: tcp   Service: http       has a benign intrusion mainly from destination to source (# data bytes): 318\n",
      "Protocol type: tcp   Service: http       has a benign intrusion mainly from destination to source (# data bytes): 935\n",
      "Protocol type: udp   Service: domain_u   has a benign intrusion mainly from destination to source (# data bytes): 42\n",
      "Protocol type: udp   Service: domain_u   has a benign intrusion mainly from destination to source (# data bytes): 42\n",
      "Protocol type: udp   Service: domain_u   has a benign intrusion mainly from destination to source (# data bytes): 42\n",
      "Protocol type: udp   Service: domain_u   has a benign intrusion mainly from destination to source (# data bytes): 42\n",
      "Protocol type: tcp   Service: ftp_data   has a benign intrusion mainly from destination to source (# data bytes): 0\n",
      "Protocol type: tcp   Service: ftp_data   has a benign intrusion mainly from destination to source (# data bytes): 0\n",
      "Protocol type: tcp   Service: smtp       has a benign intrusion mainly from destination to source (# data bytes): 408\n",
      "Protocol type: tcp   Service: ftp_data   has a benign intrusion mainly from destination to source (# data bytes): 0\n",
      "Protocol type: tcp   Service: http       has a benign intrusion mainly from destination to source (# data bytes): 1380\n",
      "Protocol type: udp   Service: domain_u   has a benign intrusion mainly from destination to source (# data bytes): 56\n",
      "Protocol type: udp   Service: domain_u   has a benign intrusion mainly from destination to source (# data bytes): 71\n",
      "Protocol type: udp   Service: domain_u   has a benign intrusion mainly from destination to source (# data bytes): 71\n",
      "Protocol type: udp   Service: domain_u   has a benign intrusion mainly from destination to source (# data bytes): 68\n",
      "Protocol type: udp   Service: domain_u   has a benign intrusion mainly from destination to source (# data bytes): 46\n",
      "Protocol type: udp   Service: domain_u   has a benign intrusion mainly from destination to source (# data bytes): 30\n",
      "Protocol type: tcp   Service: smtp       has a benign intrusion mainly from destination to source (# data bytes): 282\n",
      "Protocol type: tcp   Service: smtp       has a benign intrusion mainly from destination to source (# data bytes): 337\n",
      "Protocol type: udp   Service: domain_u   has a benign intrusion mainly from destination to source (# data bytes): 0\n",
      "Protocol type: tcp   Service: ftp_data   has a benign intrusion mainly from destination to source (# data bytes): 0\n",
      "Protocol type: tcp   Service: http       has a benign intrusion mainly from destination to source (# data bytes): 1401\n",
      "Protocol type: tcp   Service: http       has a benign intrusion mainly from destination to source (# data bytes): 124\n",
      "Protocol type: tcp   Service: http       has a benign intrusion mainly from destination to source (# data bytes): 275\n",
      "Protocol type: tcp   Service: http       has a benign intrusion mainly from destination to source (# data bytes): 1752\n",
      "Protocol type: tcp   Service: http       has a benign intrusion mainly from destination to source (# data bytes): 5615\n",
      "Protocol type: tcp   Service: http       has a benign intrusion mainly from destination to source (# data bytes): 328\n",
      "Protocol type: tcp   Service: http       has a benign intrusion mainly from destination to source (# data bytes): 1460\n",
      "Protocol type: tcp   Service: http       has a benign intrusion mainly from destination to source (# data bytes): 863\n",
      "Protocol type: tcp   Service: http       has a benign intrusion mainly from destination to source (# data bytes): 4406\n",
      "Protocol type: tcp   Service: http       has a benign intrusion mainly from destination to source (# data bytes): 921\n",
      "Protocol type: tcp   Service: http       has a benign intrusion mainly from destination to source (# data bytes): 3692\n",
      "Protocol type: tcp   Service: http       has a benign intrusion mainly from destination to source (# data bytes): 2911\n",
      "Protocol type: tcp   Service: http       has a benign intrusion mainly from destination to source (# data bytes): 118\n",
      "Protocol type: tcp   Service: http       has a benign intrusion mainly from destination to source (# data bytes): 838\n",
      "Protocol type: tcp   Service: http       has a benign intrusion mainly from destination to source (# data bytes): 473\n",
      "Protocol type: tcp   Service: http       has a benign intrusion mainly from destination to source (# data bytes): 788\n",
      "Protocol type: tcp   Service: http       has a benign intrusion mainly from destination to source (# data bytes): 659\n",
      "Protocol type: tcp   Service: http       has a benign intrusion mainly from destination to source (# data bytes): 0\n",
      "Protocol type: tcp   Service: smtp       has a benign intrusion mainly from destination to source (# data bytes): 330\n",
      "Protocol type: udp   Service: domain_u   has a benign intrusion mainly from destination to source (# data bytes): 0\n",
      "Protocol type: tcp   Service: smtp       has a benign intrusion mainly from destination to source (# data bytes): 327\n",
      "Protocol type: tcp   Service: ftp        has a benign intrusion mainly from destination to source (# data bytes): 4152\n",
      "Protocol type: tcp   Service: smtp       has a benign intrusion mainly from destination to source (# data bytes): 321\n",
      "Protocol type: udp   Service: private    has a benign intrusion mainly from destination to source (# data bytes): 146\n",
      "Protocol type: udp   Service: private    has a benign intrusion mainly from destination to source (# data bytes): 146\n",
      "Protocol type: udp   Service: private    has a benign intrusion mainly from destination to source (# data bytes): 146\n",
      "Protocol type: udp   Service: private    has a benign intrusion mainly from destination to source (# data bytes): 146\n",
      "Protocol type: udp   Service: private    has a benign intrusion mainly from destination to source (# data bytes): 146\n",
      "Protocol type: udp   Service: private    has a benign intrusion mainly from destination to source (# data bytes): 0\n",
      "Protocol type: udp   Service: private    has a benign intrusion mainly from destination to source (# data bytes): 0\n",
      "Protocol type: udp   Service: private    has a benign intrusion mainly from destination to source (# data bytes): 146\n",
      "Protocol type: udp   Service: private    has a benign intrusion mainly from destination to source (# data bytes): 0\n",
      "Protocol type: udp   Service: private    has a benign intrusion mainly from destination to source (# data bytes): 146\n",
      "Protocol type: udp   Service: ntp_u      has a benign intrusion mainly from destination to source (# data bytes): 48\n",
      "Protocol type: udp   Service: domain_u   has a benign intrusion mainly from destination to source (# data bytes): 126\n",
      "Protocol type: udp   Service: other      has a benign intrusion mainly from destination to source (# data bytes): 0\n",
      "Protocol type: udp   Service: other      has a benign intrusion mainly from destination to source (# data bytes): 105\n",
      "Protocol type: udp   Service: other      has a benign intrusion mainly from destination to source (# data bytes): 0\n",
      "Protocol type: udp   Service: other      has a benign intrusion mainly from destination to source (# data bytes): 105\n",
      "Protocol type: udp   Service: other      has a benign intrusion mainly from destination to source (# data bytes): 105\n",
      "Protocol type: udp   Service: other      has a benign intrusion mainly from destination to source (# data bytes): 0\n",
      "Protocol type: udp   Service: other      has a benign intrusion mainly from destination to source (# data bytes): 105\n",
      "Protocol type: udp   Service: other      has a benign intrusion mainly from destination to source (# data bytes): 105\n",
      "Protocol type: tcp   Service: smtp       has a benign intrusion mainly from destination to source (# data bytes): 325\n",
      "Protocol type: tcp   Service: smtp       has a benign intrusion mainly from destination to source (# data bytes): 336\n",
      "Protocol type: tcp   Service: smtp       has a benign intrusion mainly from destination to source (# data bytes): 332\n",
      "Protocol type: tcp   Service: http       has a benign intrusion mainly from destination to source (# data bytes): 0\n",
      "Protocol type: tcp   Service: http       has a benign intrusion mainly from destination to source (# data bytes): 0\n",
      "Protocol type: tcp   Service: smtp       has a benign intrusion mainly from destination to source (# data bytes): 278\n",
      "Protocol type: tcp   Service: http       has a benign intrusion mainly from destination to source (# data bytes): 0\n",
      "Protocol type: tcp   Service: http       has a benign intrusion mainly from destination to source (# data bytes): 0\n",
      "Protocol type: udp   Service: private    has a benign intrusion mainly from destination to source (# data bytes): 146\n",
      "Protocol type: icmp  Service: eco_i      has a benign intrusion mainly from destination to source (# data bytes): 0\n",
      "Protocol type: tcp   Service: ftp_data   has a benign intrusion mainly from destination to source (# data bytes): 0\n",
      "Protocol type: tcp   Service: http       has a benign intrusion mainly from destination to source (# data bytes): 0\n",
      "Protocol type: tcp   Service: smtp       has a benign intrusion mainly from destination to source (# data bytes): 325\n",
      "Protocol type: tcp   Service: ftp_data   has a benign intrusion mainly from destination to source (# data bytes): 0\n",
      "Protocol type: tcp   Service: http       has a benign intrusion mainly from destination to source (# data bytes): 0\n",
      "Protocol type: tcp   Service: ftp_data   has a benign intrusion mainly from destination to source (# data bytes): 0\n",
      "Protocol type: udp   Service: ntp_u      has a benign intrusion mainly from destination to source (# data bytes): 48\n",
      "Protocol type: tcp   Service: ftp_data   has a benign intrusion mainly from destination to source (# data bytes): 0\n",
      "Protocol type: tcp   Service: ftp_data   has a benign intrusion mainly from destination to source (# data bytes): 0\n",
      "Protocol type: tcp   Service: smtp       has a benign intrusion mainly from destination to source (# data bytes): 333\n",
      "Protocol type: tcp   Service: http       has a benign intrusion mainly from destination to source (# data bytes): 2507\n",
      "Protocol type: tcp   Service: http       has a benign intrusion mainly from destination to source (# data bytes): 1075\n",
      "Protocol type: icmp  Service: urp_i      has a benign intrusion mainly from destination to source (# data bytes): 0\n",
      "Protocol type: udp   Service: private    has a benign intrusion mainly from destination to source (# data bytes): 145\n",
      "Protocol type: udp   Service: private    has a benign intrusion mainly from destination to source (# data bytes): 0\n",
      "Protocol type: udp   Service: private    has a benign intrusion mainly from destination to source (# data bytes): 145\n",
      "Protocol type: udp   Service: private    has a benign intrusion mainly from destination to source (# data bytes): 145\n",
      "Protocol type: udp   Service: private    has a benign intrusion mainly from destination to source (# data bytes): 145\n",
      "Protocol type: udp   Service: private    has a benign intrusion mainly from destination to source (# data bytes): 145\n",
      "Protocol type: udp   Service: private    has a benign intrusion mainly from destination to source (# data bytes): 0\n",
      "Protocol type: udp   Service: private    has a benign intrusion mainly from destination to source (# data bytes): 0\n",
      "Protocol type: icmp  Service: eco_i      has a benign intrusion mainly from destination to source (# data bytes): 0\n",
      "Protocol type: udp   Service: private    has a benign intrusion mainly from destination to source (# data bytes): 145\n",
      "Protocol type: udp   Service: ntp_u      has a benign intrusion mainly from destination to source (# data bytes): 48\n",
      "Protocol type: udp   Service: other      has a benign intrusion mainly from destination to source (# data bytes): 105\n",
      "Protocol type: tcp   Service: http       has a benign intrusion mainly from destination to source (# data bytes): 1151\n",
      "Protocol type: tcp   Service: http       has a benign intrusion mainly from destination to source (# data bytes): 468\n",
      "Protocol type: tcp   Service: http       has a benign intrusion mainly from destination to source (# data bytes): 9317\n",
      "Protocol type: tcp   Service: http       has a benign intrusion mainly from destination to source (# data bytes): 45263\n",
      "Protocol type: tcp   Service: smtp       has a benign intrusion mainly from destination to source (# data bytes): 326\n",
      "Protocol type: tcp   Service: http       has a benign intrusion mainly from destination to source (# data bytes): 5280\n",
      "Protocol type: tcp   Service: http       has a benign intrusion mainly from destination to source (# data bytes): 769\n",
      "Protocol type: tcp   Service: http       has a benign intrusion mainly from destination to source (# data bytes): 934\n",
      "Protocol type: tcp   Service: http       has a benign intrusion mainly from destination to source (# data bytes): 1726\n",
      "Protocol type: tcp   Service: http       has a benign intrusion mainly from destination to source (# data bytes): 370\n",
      "Protocol type: tcp   Service: smtp       has a benign intrusion mainly from destination to source (# data bytes): 330\n",
      "Protocol type: tcp   Service: http       has a benign intrusion mainly from destination to source (# data bytes): 3210\n",
      "Protocol type: tcp   Service: http       has a benign intrusion mainly from destination to source (# data bytes): 18472\n",
      "Protocol type: tcp   Service: http       has a benign intrusion mainly from destination to source (# data bytes): 664\n",
      "Protocol type: tcp   Service: http       has a benign intrusion mainly from destination to source (# data bytes): 526\n",
      "Protocol type: tcp   Service: http       has a benign intrusion mainly from destination to source (# data bytes): 637\n",
      "Protocol type: tcp   Service: http       has a benign intrusion mainly from destination to source (# data bytes): 2367\n",
      "Protocol type: tcp   Service: http       has a benign intrusion mainly from destination to source (# data bytes): 3534\n",
      "Protocol type: tcp   Service: http       has a benign intrusion mainly from destination to source (# data bytes): 1256\n",
      "Protocol type: tcp   Service: http       has a benign intrusion mainly from destination to source (# data bytes): 362\n",
      "Protocol type: tcp   Service: http       has a benign intrusion mainly from destination to source (# data bytes): 1271\n",
      "Protocol type: tcp   Service: http       has a benign intrusion mainly from destination to source (# data bytes): 558\n",
      "Protocol type: tcp   Service: http       has a benign intrusion mainly from destination to source (# data bytes): 354\n",
      "Protocol type: tcp   Service: http       has a benign intrusion mainly from destination to source (# data bytes): 1708\n",
      "Protocol type: tcp   Service: http       has a benign intrusion mainly from destination to source (# data bytes): 2543\n",
      "Protocol type: tcp   Service: http       has a benign intrusion mainly from destination to source (# data bytes): 5790\n",
      "Protocol type: tcp   Service: http       has a benign intrusion mainly from destination to source (# data bytes): 6534\n",
      "Protocol type: tcp   Service: http       has a benign intrusion mainly from destination to source (# data bytes): 22780\n",
      "Protocol type: tcp   Service: http       has a benign intrusion mainly from destination to source (# data bytes): 1433\n",
      "Protocol type: tcp   Service: http       has a benign intrusion mainly from destination to source (# data bytes): 3370\n",
      "Protocol type: tcp   Service: http       has a benign intrusion mainly from destination to source (# data bytes): 382\n",
      "Protocol type: tcp   Service: http       has a benign intrusion mainly from destination to source (# data bytes): 12304\n",
      "Protocol type: tcp   Service: http       has a benign intrusion mainly from destination to source (# data bytes): 1112\n",
      "Protocol type: tcp   Service: http       has a benign intrusion mainly from destination to source (# data bytes): 764\n",
      "Protocol type: tcp   Service: http       has a benign intrusion mainly from destination to source (# data bytes): 891\n",
      "Protocol type: tcp   Service: http       has a benign intrusion mainly from destination to source (# data bytes): 16617\n",
      "Protocol type: tcp   Service: http       has a benign intrusion mainly from destination to source (# data bytes): 1806\n",
      "Protocol type: udp   Service: domain_u   has a benign intrusion mainly from destination to source (# data bytes): 72\n",
      "Protocol type: udp   Service: domain_u   has a benign intrusion mainly from destination to source (# data bytes): 77\n",
      "Protocol type: tcp   Service: http       has a benign intrusion mainly from destination to source (# data bytes): 565\n",
      "Protocol type: tcp   Service: http       has a benign intrusion mainly from destination to source (# data bytes): 14420\n",
      "Protocol type: tcp   Service: http       has a benign intrusion mainly from destination to source (# data bytes): 2762\n",
      "Protocol type: tcp   Service: http       has a benign intrusion mainly from destination to source (# data bytes): 28076\n",
      "Protocol type: tcp   Service: http       has a benign intrusion mainly from destination to source (# data bytes): 2289\n",
      "Protocol type: tcp   Service: http       has a benign intrusion mainly from destination to source (# data bytes): 2446\n",
      "Protocol type: tcp   Service: http       has a benign intrusion mainly from destination to source (# data bytes): 535\n",
      "Protocol type: tcp   Service: http       has a benign intrusion mainly from destination to source (# data bytes): 501\n",
      "Protocol type: tcp   Service: http       has a benign intrusion mainly from destination to source (# data bytes): 1856\n",
      "Protocol type: tcp   Service: http       has a benign intrusion mainly from destination to source (# data bytes): 253\n",
      "Protocol type: tcp   Service: http       has a benign intrusion mainly from destination to source (# data bytes): 495\n",
      "Protocol type: tcp   Service: http       has a benign intrusion mainly from destination to source (# data bytes): 306\n",
      "Protocol type: tcp   Service: http       has a benign intrusion mainly from destination to source (# data bytes): 2318\n",
      "Protocol type: tcp   Service: http       has a benign intrusion mainly from destination to source (# data bytes): 258\n",
      "Protocol type: tcp   Service: http       has a benign intrusion mainly from destination to source (# data bytes): 272\n",
      "Protocol type: tcp   Service: http       has a benign intrusion mainly from destination to source (# data bytes): 1342\n",
      "Protocol type: tcp   Service: http       has a benign intrusion mainly from destination to source (# data bytes): 5273\n",
      "Protocol type: tcp   Service: http       has a benign intrusion mainly from destination to source (# data bytes): 1805\n",
      "Protocol type: tcp   Service: http       has a benign intrusion mainly from destination to source (# data bytes): 1948\n",
      "Protocol type: tcp   Service: http       has a benign intrusion mainly from destination to source (# data bytes): 1084\n",
      "Protocol type: tcp   Service: http       has a benign intrusion mainly from destination to source (# data bytes): 1484\n",
      "Protocol type: tcp   Service: ftp_data   has a benign intrusion mainly from destination to source (# data bytes): 0\n",
      "Protocol type: tcp   Service: http       has a benign intrusion mainly from destination to source (# data bytes): 5380\n",
      "Protocol type: tcp   Service: http       has a benign intrusion mainly from destination to source (# data bytes): 1112\n",
      "Protocol type: tcp   Service: http       has a benign intrusion mainly from destination to source (# data bytes): 8419\n",
      "Protocol type: tcp   Service: http       has a benign intrusion mainly from destination to source (# data bytes): 1425\n",
      "Protocol type: tcp   Service: http       has a benign intrusion mainly from destination to source (# data bytes): 1481\n",
      "Protocol type: tcp   Service: http       has a benign intrusion mainly from destination to source (# data bytes): 15650\n",
      "Protocol type: tcp   Service: http       has a benign intrusion mainly from destination to source (# data bytes): 1408\n",
      "Protocol type: tcp   Service: http       has a benign intrusion mainly from destination to source (# data bytes): 757\n",
      "Protocol type: tcp   Service: http       has a benign intrusion mainly from destination to source (# data bytes): 712\n",
      "Protocol type: udp   Service: domain_u   has a benign intrusion mainly from destination to source (# data bytes): 35\n",
      "Protocol type: udp   Service: ntp_u      has a benign intrusion mainly from destination to source (# data bytes): 48\n",
      "Protocol type: tcp   Service: smtp       has a benign intrusion mainly from destination to source (# data bytes): 234\n",
      "Protocol type: tcp   Service: http       has a benign intrusion mainly from destination to source (# data bytes): 1295\n",
      "Protocol type: icmp  Service: eco_i      has a benign intrusion mainly from destination to source (# data bytes): 0\n",
      "Protocol type: udp   Service: domain_u   has a benign intrusion mainly from destination to source (# data bytes): 110\n",
      "Protocol type: udp   Service: domain_u   has a benign intrusion mainly from destination to source (# data bytes): 75\n",
      "Protocol type: udp   Service: domain_u   has a benign intrusion mainly from destination to source (# data bytes): 72\n",
      "Protocol type: tcp   Service: http       has a benign intrusion mainly from destination to source (# data bytes): 674\n",
      "Protocol type: tcp   Service: ftp_data   has a benign intrusion mainly from destination to source (# data bytes): 0\n",
      "Protocol type: tcp   Service: http       has a benign intrusion mainly from destination to source (# data bytes): 1973\n",
      "Protocol type: tcp   Service: http       has a benign intrusion mainly from destination to source (# data bytes): 2420\n",
      "Protocol type: tcp   Service: http       has a benign intrusion mainly from destination to source (# data bytes): 1075\n",
      "Protocol type: tcp   Service: http       has a benign intrusion mainly from destination to source (# data bytes): 13644\n",
      "Protocol type: tcp   Service: http       has a benign intrusion mainly from destination to source (# data bytes): 535\n",
      "Protocol type: tcp   Service: http       has a benign intrusion mainly from destination to source (# data bytes): 1214\n",
      "Protocol type: tcp   Service: http       has a benign intrusion mainly from destination to source (# data bytes): 1029\n",
      "Protocol type: tcp   Service: http       has a benign intrusion mainly from destination to source (# data bytes): 10528\n",
      "Protocol type: tcp   Service: http       has a benign intrusion mainly from destination to source (# data bytes): 366\n",
      "Protocol type: tcp   Service: http       has a benign intrusion mainly from destination to source (# data bytes): 2837\n",
      "Protocol type: tcp   Service: http       has a benign intrusion mainly from destination to source (# data bytes): 310\n",
      "Protocol type: tcp   Service: http       has a benign intrusion mainly from destination to source (# data bytes): 453\n",
      "Protocol type: tcp   Service: http       has a benign intrusion mainly from destination to source (# data bytes): 852\n",
      "Protocol type: tcp   Service: http       has a benign intrusion mainly from destination to source (# data bytes): 679\n",
      "Protocol type: tcp   Service: http       has a benign intrusion mainly from destination to source (# data bytes): 1248\n",
      "Protocol type: tcp   Service: http       has a benign intrusion mainly from destination to source (# data bytes): 2006\n",
      "Protocol type: tcp   Service: http       has a benign intrusion mainly from destination to source (# data bytes): 1918\n",
      "Protocol type: tcp   Service: http       has a benign intrusion mainly from destination to source (# data bytes): 392\n",
      "Protocol type: tcp   Service: http       has a benign intrusion mainly from destination to source (# data bytes): 817\n",
      "Protocol type: tcp   Service: http       has a benign intrusion mainly from destination to source (# data bytes): 78153\n",
      "Protocol type: tcp   Service: http       has a benign intrusion mainly from destination to source (# data bytes): 16493\n",
      "Protocol type: tcp   Service: http       has a benign intrusion mainly from destination to source (# data bytes): 1484\n",
      "Protocol type: tcp   Service: http       has a benign intrusion mainly from destination to source (# data bytes): 911\n",
      "Protocol type: tcp   Service: http       has a benign intrusion mainly from destination to source (# data bytes): 302\n",
      "Protocol type: tcp   Service: http       has a benign intrusion mainly from destination to source (# data bytes): 401\n",
      "Protocol type: tcp   Service: smtp       has a benign intrusion mainly from destination to source (# data bytes): 338\n",
      "Protocol type: tcp   Service: ftp_data   has a benign intrusion mainly from destination to source (# data bytes): 0\n",
      "Protocol type: tcp   Service: ftp_data   has a benign intrusion mainly from destination to source (# data bytes): 0\n",
      "Protocol type: tcp   Service: smtp       has a benign intrusion mainly from destination to source (# data bytes): 328\n",
      "Protocol type: udp   Service: domain_u   has a benign intrusion mainly from destination to source (# data bytes): 133\n",
      "Protocol type: tcp   Service: ftp_data   has a benign intrusion mainly from destination to source (# data bytes): 0\n",
      "Protocol type: tcp   Service: ftp_data   has a benign intrusion mainly from destination to source (# data bytes): 0\n",
      "Protocol type: tcp   Service: http       has a benign intrusion mainly from destination to source (# data bytes): 13020\n",
      "Protocol type: tcp   Service: http       has a benign intrusion mainly from destination to source (# data bytes): 1885\n",
      "Protocol type: tcp   Service: http       has a benign intrusion mainly from destination to source (# data bytes): 2727\n",
      "Protocol type: tcp   Service: http       has a benign intrusion mainly from destination to source (# data bytes): 3183\n",
      "Protocol type: tcp   Service: http       has a benign intrusion mainly from destination to source (# data bytes): 249\n",
      "Protocol type: tcp   Service: http       has a benign intrusion mainly from destination to source (# data bytes): 458\n",
      "Protocol type: tcp   Service: http       has a benign intrusion mainly from destination to source (# data bytes): 1023\n",
      "Protocol type: tcp   Service: http       has a benign intrusion mainly from destination to source (# data bytes): 1164\n",
      "Protocol type: tcp   Service: http       has a benign intrusion mainly from destination to source (# data bytes): 1348\n",
      "Protocol type: tcp   Service: http       has a benign intrusion mainly from destination to source (# data bytes): 466\n",
      "Protocol type: tcp   Service: http       has a benign intrusion mainly from destination to source (# data bytes): 313\n",
      "Protocol type: tcp   Service: http       has a benign intrusion mainly from destination to source (# data bytes): 365\n",
      "Protocol type: tcp   Service: http       has a benign intrusion mainly from destination to source (# data bytes): 3413\n",
      "Protocol type: tcp   Service: http       has a benign intrusion mainly from destination to source (# data bytes): 1990\n",
      "Protocol type: tcp   Service: http       has a benign intrusion mainly from destination to source (# data bytes): 1039\n",
      "Protocol type: tcp   Service: http       has a benign intrusion mainly from destination to source (# data bytes): 1047\n",
      "Protocol type: tcp   Service: http       has a benign intrusion mainly from destination to source (# data bytes): 320\n",
      "Protocol type: tcp   Service: http       has a benign intrusion mainly from destination to source (# data bytes): 294\n",
      "Protocol type: tcp   Service: http       has a benign intrusion mainly from destination to source (# data bytes): 1012\n",
      "Protocol type: tcp   Service: http       has a benign intrusion mainly from destination to source (# data bytes): 10444\n",
      "Protocol type: tcp   Service: http       has a benign intrusion mainly from destination to source (# data bytes): 7512\n",
      "Protocol type: tcp   Service: http       has a benign intrusion mainly from destination to source (# data bytes): 2115\n",
      "Protocol type: tcp   Service: http       has a benign intrusion mainly from destination to source (# data bytes): 23971\n",
      "Protocol type: tcp   Service: http       has a benign intrusion mainly from destination to source (# data bytes): 5587\n",
      "Protocol type: tcp   Service: http       has a benign intrusion mainly from destination to source (# data bytes): 1875\n",
      "Protocol type: tcp   Service: ftp_data   has a benign intrusion mainly from destination to source (# data bytes): 0\n",
      "Protocol type: tcp   Service: http       has a benign intrusion mainly from destination to source (# data bytes): 324\n",
      "Protocol type: tcp   Service: http       has a benign intrusion mainly from destination to source (# data bytes): 324\n",
      "Protocol type: tcp   Service: http       has a benign intrusion mainly from destination to source (# data bytes): 247\n",
      "Protocol type: tcp   Service: http       has a benign intrusion mainly from destination to source (# data bytes): 7353\n",
      "Protocol type: tcp   Service: http       has a benign intrusion mainly from destination to source (# data bytes): 401\n",
      "Protocol type: tcp   Service: http       has a benign intrusion mainly from destination to source (# data bytes): 314\n",
      "Protocol type: tcp   Service: ftp_data   has a benign intrusion mainly from destination to source (# data bytes): 0\n",
      "Protocol type: tcp   Service: smtp       has a benign intrusion mainly from destination to source (# data bytes): 339\n",
      "Protocol type: tcp   Service: telnet     has a benign intrusion mainly from destination to source (# data bytes): 176690\n",
      "Protocol type: tcp   Service: smtp       has a benign intrusion mainly from destination to source (# data bytes): 399\n",
      "Protocol type: tcp   Service: smtp       has a benign intrusion mainly from destination to source (# data bytes): 331\n",
      "Protocol type: tcp   Service: http       has a benign intrusion mainly from destination to source (# data bytes): 1075\n",
      "Protocol type: tcp   Service: http       has a benign intrusion mainly from destination to source (# data bytes): 2919\n",
      "Protocol type: udp   Service: domain_u   has a benign intrusion mainly from destination to source (# data bytes): 130\n",
      "Protocol type: tcp   Service: ftp_data   has a benign intrusion mainly from destination to source (# data bytes): 0\n",
      "Protocol type: tcp   Service: smtp       has a benign intrusion mainly from destination to source (# data bytes): 334\n",
      "Protocol type: tcp   Service: http       has a benign intrusion mainly from destination to source (# data bytes): 819\n",
      "Protocol type: tcp   Service: http       has a benign intrusion mainly from destination to source (# data bytes): 1524\n",
      "Protocol type: tcp   Service: http       has a benign intrusion mainly from destination to source (# data bytes): 671\n",
      "Protocol type: tcp   Service: http       has a benign intrusion mainly from destination to source (# data bytes): 3450\n",
      "Protocol type: tcp   Service: http       has a benign intrusion mainly from destination to source (# data bytes): 261\n",
      "Protocol type: tcp   Service: http       has a benign intrusion mainly from destination to source (# data bytes): 3485\n",
      "Protocol type: tcp   Service: http       has a benign intrusion mainly from destination to source (# data bytes): 486\n",
      "Protocol type: tcp   Service: http       has a benign intrusion mainly from destination to source (# data bytes): 7761\n",
      "Protocol type: tcp   Service: http       has a benign intrusion mainly from destination to source (# data bytes): 22654\n",
      "Protocol type: tcp   Service: http       has a benign intrusion mainly from destination to source (# data bytes): 8565\n",
      "Protocol type: tcp   Service: http       has a benign intrusion mainly from destination to source (# data bytes): 434\n",
      "Protocol type: tcp   Service: http       has a benign intrusion mainly from destination to source (# data bytes): 1380\n",
      "Protocol type: tcp   Service: http       has a benign intrusion mainly from destination to source (# data bytes): 1395\n",
      "Protocol type: tcp   Service: http       has a benign intrusion mainly from destination to source (# data bytes): 1927\n",
      "Protocol type: tcp   Service: http       has a benign intrusion mainly from destination to source (# data bytes): 1197\n",
      "Protocol type: tcp   Service: http       has a benign intrusion mainly from destination to source (# data bytes): 643\n",
      "Protocol type: tcp   Service: http       has a benign intrusion mainly from destination to source (# data bytes): 17087\n",
      "Protocol type: tcp   Service: http       has a benign intrusion mainly from destination to source (# data bytes): 2435\n",
      "Protocol type: tcp   Service: http       has a benign intrusion mainly from destination to source (# data bytes): 10644\n",
      "Protocol type: tcp   Service: http       has a benign intrusion mainly from destination to source (# data bytes): 819\n",
      "Protocol type: tcp   Service: http       has a benign intrusion mainly from destination to source (# data bytes): 13016\n",
      "Protocol type: tcp   Service: http       has a benign intrusion mainly from destination to source (# data bytes): 3413\n",
      "Protocol type: tcp   Service: http       has a benign intrusion mainly from destination to source (# data bytes): 14050\n",
      "Protocol type: tcp   Service: http       has a benign intrusion mainly from destination to source (# data bytes): 383\n",
      "Protocol type: tcp   Service: http       has a benign intrusion mainly from destination to source (# data bytes): 913\n",
      "Protocol type: tcp   Service: http       has a benign intrusion mainly from destination to source (# data bytes): 9284\n",
      "Protocol type: tcp   Service: http       has a benign intrusion mainly from destination to source (# data bytes): 2831\n",
      "Protocol type: tcp   Service: http       has a benign intrusion mainly from destination to source (# data bytes): 4062\n",
      "Protocol type: tcp   Service: http       has a benign intrusion mainly from destination to source (# data bytes): 392\n",
      "Protocol type: tcp   Service: http       has a benign intrusion mainly from destination to source (# data bytes): 665\n",
      "Protocol type: tcp   Service: http       has a benign intrusion mainly from destination to source (# data bytes): 12326\n",
      "Protocol type: tcp   Service: http       has a benign intrusion mainly from destination to source (# data bytes): 1981\n",
      "Protocol type: tcp   Service: http       has a benign intrusion mainly from destination to source (# data bytes): 10279\n",
      "Protocol type: tcp   Service: http       has a benign intrusion mainly from destination to source (# data bytes): 8303\n",
      "Protocol type: tcp   Service: http       has a benign intrusion mainly from destination to source (# data bytes): 500\n",
      "Protocol type: tcp   Service: http       has a benign intrusion mainly from destination to source (# data bytes): 13700\n",
      "Protocol type: tcp   Service: http       has a benign intrusion mainly from destination to source (# data bytes): 0\n",
      "Protocol type: udp   Service: ntp_u      has a benign intrusion mainly from destination to source (# data bytes): 48\n",
      "Protocol type: tcp   Service: smtp       has a benign intrusion mainly from destination to source (# data bytes): 365\n",
      "Protocol type: tcp   Service: smtp       has a benign intrusion mainly from destination to source (# data bytes): 332\n",
      "Protocol type: tcp   Service: http       has a benign intrusion mainly from destination to source (# data bytes): 3889\n",
      "Protocol type: tcp   Service: http       has a benign intrusion mainly from destination to source (# data bytes): 259\n",
      "Protocol type: tcp   Service: http       has a benign intrusion mainly from destination to source (# data bytes): 971\n",
      "Protocol type: udp   Service: ntp_u      has a benign intrusion mainly from destination to source (# data bytes): 48\n",
      "Protocol type: tcp   Service: smtp       has a benign intrusion mainly from destination to source (# data bytes): 329\n",
      "Protocol type: tcp   Service: smtp       has a benign intrusion mainly from destination to source (# data bytes): 336\n",
      "Protocol type: tcp   Service: ftp_data   has a benign intrusion mainly from destination to source (# data bytes): 0\n",
      "Protocol type: tcp   Service: http       has a benign intrusion mainly from destination to source (# data bytes): 4073\n",
      "Protocol type: tcp   Service: http       has a benign intrusion mainly from destination to source (# data bytes): 0\n",
      "Protocol type: tcp   Service: http       has a benign intrusion mainly from destination to source (# data bytes): 0\n",
      "Protocol type: tcp   Service: http       has a benign intrusion mainly from destination to source (# data bytes): 0\n",
      "Protocol type: tcp   Service: http       has a benign intrusion mainly from destination to source (# data bytes): 0\n",
      "Protocol type: tcp   Service: smtp       has a benign intrusion mainly from destination to source (# data bytes): 328\n",
      "Protocol type: tcp   Service: smtp       has a benign intrusion mainly from destination to source (# data bytes): 338\n",
      "Protocol type: tcp   Service: smtp       has a benign intrusion mainly from destination to source (# data bytes): 335\n",
      "Protocol type: tcp   Service: smtp       has a benign intrusion mainly from destination to source (# data bytes): 332\n",
      "Protocol type: tcp   Service: http       has a benign intrusion mainly from destination to source (# data bytes): 279\n",
      "Protocol type: tcp   Service: http       has a benign intrusion mainly from destination to source (# data bytes): 2507\n",
      "Protocol type: tcp   Service: http       has a benign intrusion mainly from destination to source (# data bytes): 1774\n",
      "Protocol type: icmp  Service: eco_i      has a benign intrusion mainly from destination to source (# data bytes): 0\n",
      "Protocol type: tcp   Service: smtp       has a benign intrusion mainly from destination to source (# data bytes): 328\n",
      "Protocol type: tcp   Service: ftp_data   has a benign intrusion mainly from destination to source (# data bytes): 0\n",
      "Protocol type: tcp   Service: http       has a benign intrusion mainly from destination to source (# data bytes): 0\n",
      "Protocol type: tcp   Service: http       has a benign intrusion mainly from destination to source (# data bytes): 0\n",
      "Protocol type: tcp   Service: smtp       has a benign intrusion mainly from destination to source (# data bytes): 328\n",
      "Protocol type: tcp   Service: smtp       has a benign intrusion mainly from destination to source (# data bytes): 332\n",
      "Protocol type: tcp   Service: smtp       has a benign intrusion mainly from destination to source (# data bytes): 328\n",
      "Protocol type: tcp   Service: smtp       has a benign intrusion mainly from destination to source (# data bytes): 334\n",
      "Protocol type: tcp   Service: smtp       has a benign intrusion mainly from destination to source (# data bytes): 332\n",
      "Protocol type: tcp   Service: smtp       has a benign intrusion mainly from destination to source (# data bytes): 335\n",
      "Protocol type: tcp   Service: finger     has a benign intrusion mainly from destination to source (# data bytes): 141\n",
      "Protocol type: tcp   Service: smtp       has a benign intrusion mainly from destination to source (# data bytes): 336\n",
      "Protocol type: tcp   Service: smtp       has a benign intrusion mainly from destination to source (# data bytes): 335\n"
     ]
    },
    {
     "name": "stdout",
     "output_type": "stream",
     "text": [
      "Protocol type: tcp   Service: http       has a benign intrusion mainly from destination to source (# data bytes): 2239\n",
      "Protocol type: udp   Service: domain_u   has a benign intrusion mainly from destination to source (# data bytes): 91\n",
      "Protocol type: udp   Service: domain_u   has a benign intrusion mainly from destination to source (# data bytes): 44\n",
      "Protocol type: tcp   Service: http       has a benign intrusion mainly from destination to source (# data bytes): 0\n",
      "Protocol type: udp   Service: domain_u   has a benign intrusion mainly from destination to source (# data bytes): 0\n",
      "Protocol type: tcp   Service: ftp        has a benign intrusion mainly from destination to source (# data bytes): 777\n"
     ]
    }
   ],
   "source": [
    "benign_intrusion_data(intrusion)"
   ]
  },
  {
   "cell_type": "markdown",
   "id": "c27c06d4",
   "metadata": {},
   "source": [
    "## Malicious intrusion detection"
   ]
  },
  {
   "cell_type": "markdown",
   "id": "4977d35c",
   "metadata": {},
   "source": [
    "Let's create a new function that returnns all the value of malicious intrusion supported by a \"for\" function"
   ]
  },
  {
   "cell_type": "code",
   "execution_count": 21,
   "id": "030e53f6",
   "metadata": {},
   "outputs": [],
   "source": [
    "def malicious_intrusion_data(intrusion):\n",
    "    for i in range(len(data_df2)):\n",
    "        if intrusion[i] == True:\n",
    "            print(\"Protocol type: {protocol_type:<5s} Service: {service:<7s} has a malicious intrusion mainly from source to destination (# data bytes): {src_bytes}\".format(protocol_type = data_df2.iloc[i,0],\n",
    "            service = data_df2.iloc[i,1], src_bytes = data_df2.iloc[i,4])) "
   ]
  },
  {
   "cell_type": "code",
   "execution_count": 22,
   "id": "47aa0ef5",
   "metadata": {},
   "outputs": [
    {
     "name": "stdout",
     "output_type": "stream",
     "text": [
      "Protocol type: udp   Service: private has a malicious intrusion mainly from source to destination (# data bytes): 105\n",
      "Protocol type: udp   Service: private has a malicious intrusion mainly from source to destination (# data bytes): 105\n",
      "Protocol type: udp   Service: private has a malicious intrusion mainly from source to destination (# data bytes): 105\n",
      "Protocol type: udp   Service: private has a malicious intrusion mainly from source to destination (# data bytes): 105\n",
      "Protocol type: udp   Service: private has a malicious intrusion mainly from source to destination (# data bytes): 105\n",
      "Protocol type: udp   Service: private has a malicious intrusion mainly from source to destination (# data bytes): 105\n",
      "Protocol type: udp   Service: private has a malicious intrusion mainly from source to destination (# data bytes): 105\n",
      "Protocol type: udp   Service: private has a malicious intrusion mainly from source to destination (# data bytes): 105\n",
      "Protocol type: udp   Service: private has a malicious intrusion mainly from source to destination (# data bytes): 105\n",
      "Protocol type: udp   Service: private has a malicious intrusion mainly from source to destination (# data bytes): 105\n",
      "Protocol type: udp   Service: private has a malicious intrusion mainly from source to destination (# data bytes): 105\n",
      "Protocol type: udp   Service: private has a malicious intrusion mainly from source to destination (# data bytes): 105\n",
      "Protocol type: udp   Service: private has a malicious intrusion mainly from source to destination (# data bytes): 105\n",
      "Protocol type: udp   Service: private has a malicious intrusion mainly from source to destination (# data bytes): 105\n",
      "Protocol type: udp   Service: private has a malicious intrusion mainly from source to destination (# data bytes): 105\n",
      "Protocol type: udp   Service: private has a malicious intrusion mainly from source to destination (# data bytes): 105\n",
      "Protocol type: tcp   Service: http    has a malicious intrusion mainly from source to destination (# data bytes): 0\n",
      "Protocol type: tcp   Service: http    has a malicious intrusion mainly from source to destination (# data bytes): 56504\n",
      "Protocol type: tcp   Service: http    has a malicious intrusion mainly from source to destination (# data bytes): 56504\n",
      "Protocol type: tcp   Service: http    has a malicious intrusion mainly from source to destination (# data bytes): 0\n",
      "Protocol type: tcp   Service: http    has a malicious intrusion mainly from source to destination (# data bytes): 55744\n",
      "Protocol type: tcp   Service: http    has a malicious intrusion mainly from source to destination (# data bytes): 3944\n",
      "Protocol type: tcp   Service: http    has a malicious intrusion mainly from source to destination (# data bytes): 56504\n",
      "Protocol type: tcp   Service: http    has a malicious intrusion mainly from source to destination (# data bytes): 0\n",
      "Protocol type: tcp   Service: http    has a malicious intrusion mainly from source to destination (# data bytes): 0\n",
      "Protocol type: tcp   Service: http    has a malicious intrusion mainly from source to destination (# data bytes): 0\n",
      "Protocol type: tcp   Service: http    has a malicious intrusion mainly from source to destination (# data bytes): 60884\n",
      "Protocol type: tcp   Service: http    has a malicious intrusion mainly from source to destination (# data bytes): 57964\n",
      "Protocol type: tcp   Service: http    has a malicious intrusion mainly from source to destination (# data bytes): 0\n",
      "Protocol type: tcp   Service: http    has a malicious intrusion mainly from source to destination (# data bytes): 0\n",
      "Protocol type: tcp   Service: http    has a malicious intrusion mainly from source to destination (# data bytes): 72564\n",
      "Protocol type: tcp   Service: http    has a malicious intrusion mainly from source to destination (# data bytes): 62344\n",
      "Protocol type: tcp   Service: http    has a malicious intrusion mainly from source to destination (# data bytes): 71584\n",
      "Protocol type: tcp   Service: http    has a malicious intrusion mainly from source to destination (# data bytes): 63804\n",
      "Protocol type: tcp   Service: http    has a malicious intrusion mainly from source to destination (# data bytes): 78404\n",
      "Protocol type: tcp   Service: http    has a malicious intrusion mainly from source to destination (# data bytes): 75484\n",
      "Protocol type: tcp   Service: http    has a malicious intrusion mainly from source to destination (# data bytes): 68184\n",
      "Protocol type: tcp   Service: http    has a malicious intrusion mainly from source to destination (# data bytes): 0\n",
      "Protocol type: tcp   Service: http    has a malicious intrusion mainly from source to destination (# data bytes): 0\n",
      "Protocol type: tcp   Service: http    has a malicious intrusion mainly from source to destination (# data bytes): 60064\n",
      "Protocol type: tcp   Service: http    has a malicious intrusion mainly from source to destination (# data bytes): 58624\n",
      "Protocol type: tcp   Service: http    has a malicious intrusion mainly from source to destination (# data bytes): 0\n",
      "Protocol type: tcp   Service: http    has a malicious intrusion mainly from source to destination (# data bytes): 71104\n",
      "Protocol type: tcp   Service: http    has a malicious intrusion mainly from source to destination (# data bytes): 56504\n",
      "Protocol type: tcp   Service: http    has a malicious intrusion mainly from source to destination (# data bytes): 24064\n",
      "Protocol type: tcp   Service: http    has a malicious intrusion mainly from source to destination (# data bytes): 0\n",
      "Protocol type: tcp   Service: http    has a malicious intrusion mainly from source to destination (# data bytes): 62344\n",
      "Protocol type: tcp   Service: http    has a malicious intrusion mainly from source to destination (# data bytes): 60884\n",
      "Protocol type: tcp   Service: http    has a malicious intrusion mainly from source to destination (# data bytes): 72564\n",
      "Protocol type: tcp   Service: http    has a malicious intrusion mainly from source to destination (# data bytes): 71584\n",
      "Protocol type: tcp   Service: http    has a malicious intrusion mainly from source to destination (# data bytes): 72564\n",
      "Protocol type: tcp   Service: http    has a malicious intrusion mainly from source to destination (# data bytes): 72564\n",
      "Protocol type: tcp   Service: http    has a malicious intrusion mainly from source to destination (# data bytes): 72564\n",
      "Protocol type: tcp   Service: http    has a malicious intrusion mainly from source to destination (# data bytes): 60884\n",
      "Protocol type: tcp   Service: http    has a malicious intrusion mainly from source to destination (# data bytes): 0\n",
      "Protocol type: tcp   Service: http    has a malicious intrusion mainly from source to destination (# data bytes): 0\n",
      "Protocol type: tcp   Service: http    has a malicious intrusion mainly from source to destination (# data bytes): 81324\n",
      "Protocol type: tcp   Service: http    has a malicious intrusion mainly from source to destination (# data bytes): 0\n",
      "Protocol type: tcp   Service: http    has a malicious intrusion mainly from source to destination (# data bytes): 0\n",
      "Protocol type: tcp   Service: http    has a malicious intrusion mainly from source to destination (# data bytes): 60064\n",
      "Protocol type: tcp   Service: http    has a malicious intrusion mainly from source to destination (# data bytes): 57964\n",
      "Protocol type: tcp   Service: http    has a malicious intrusion mainly from source to destination (# data bytes): 0\n",
      "Protocol type: tcp   Service: http    has a malicious intrusion mainly from source to destination (# data bytes): 25844\n",
      "Protocol type: udp   Service: private has a malicious intrusion mainly from source to destination (# data bytes): 105\n",
      "Protocol type: udp   Service: private has a malicious intrusion mainly from source to destination (# data bytes): 105\n",
      "Protocol type: udp   Service: private has a malicious intrusion mainly from source to destination (# data bytes): 105\n",
      "Protocol type: udp   Service: private has a malicious intrusion mainly from source to destination (# data bytes): 105\n",
      "Protocol type: udp   Service: private has a malicious intrusion mainly from source to destination (# data bytes): 105\n",
      "Protocol type: udp   Service: private has a malicious intrusion mainly from source to destination (# data bytes): 105\n",
      "Protocol type: udp   Service: private has a malicious intrusion mainly from source to destination (# data bytes): 105\n",
      "Protocol type: udp   Service: private has a malicious intrusion mainly from source to destination (# data bytes): 105\n",
      "Protocol type: udp   Service: private has a malicious intrusion mainly from source to destination (# data bytes): 105\n",
      "Protocol type: udp   Service: private has a malicious intrusion mainly from source to destination (# data bytes): 105\n",
      "Protocol type: udp   Service: private has a malicious intrusion mainly from source to destination (# data bytes): 105\n",
      "Protocol type: udp   Service: private has a malicious intrusion mainly from source to destination (# data bytes): 105\n",
      "Protocol type: udp   Service: private has a malicious intrusion mainly from source to destination (# data bytes): 105\n",
      "Protocol type: udp   Service: private has a malicious intrusion mainly from source to destination (# data bytes): 105\n",
      "Protocol type: udp   Service: private has a malicious intrusion mainly from source to destination (# data bytes): 105\n",
      "Protocol type: udp   Service: private has a malicious intrusion mainly from source to destination (# data bytes): 105\n",
      "Protocol type: udp   Service: private has a malicious intrusion mainly from source to destination (# data bytes): 105\n",
      "Protocol type: udp   Service: private has a malicious intrusion mainly from source to destination (# data bytes): 105\n",
      "Protocol type: udp   Service: private has a malicious intrusion mainly from source to destination (# data bytes): 105\n",
      "Protocol type: udp   Service: private has a malicious intrusion mainly from source to destination (# data bytes): 105\n",
      "Protocol type: udp   Service: private has a malicious intrusion mainly from source to destination (# data bytes): 105\n",
      "Protocol type: udp   Service: private has a malicious intrusion mainly from source to destination (# data bytes): 105\n",
      "Protocol type: udp   Service: private has a malicious intrusion mainly from source to destination (# data bytes): 105\n",
      "Protocol type: udp   Service: private has a malicious intrusion mainly from source to destination (# data bytes): 105\n",
      "Protocol type: udp   Service: private has a malicious intrusion mainly from source to destination (# data bytes): 105\n",
      "Protocol type: udp   Service: private has a malicious intrusion mainly from source to destination (# data bytes): 105\n",
      "Protocol type: udp   Service: private has a malicious intrusion mainly from source to destination (# data bytes): 105\n",
      "Protocol type: udp   Service: private has a malicious intrusion mainly from source to destination (# data bytes): 105\n",
      "Protocol type: udp   Service: private has a malicious intrusion mainly from source to destination (# data bytes): 105\n",
      "Protocol type: udp   Service: private has a malicious intrusion mainly from source to destination (# data bytes): 105\n",
      "Protocol type: udp   Service: private has a malicious intrusion mainly from source to destination (# data bytes): 105\n",
      "Protocol type: udp   Service: private has a malicious intrusion mainly from source to destination (# data bytes): 105\n",
      "Protocol type: udp   Service: private has a malicious intrusion mainly from source to destination (# data bytes): 105\n",
      "Protocol type: udp   Service: private has a malicious intrusion mainly from source to destination (# data bytes): 105\n",
      "Protocol type: udp   Service: private has a malicious intrusion mainly from source to destination (# data bytes): 105\n",
      "Protocol type: udp   Service: private has a malicious intrusion mainly from source to destination (# data bytes): 105\n",
      "Protocol type: udp   Service: private has a malicious intrusion mainly from source to destination (# data bytes): 105\n",
      "Protocol type: udp   Service: private has a malicious intrusion mainly from source to destination (# data bytes): 105\n",
      "Protocol type: udp   Service: private has a malicious intrusion mainly from source to destination (# data bytes): 105\n",
      "Protocol type: udp   Service: private has a malicious intrusion mainly from source to destination (# data bytes): 105\n",
      "Protocol type: udp   Service: private has a malicious intrusion mainly from source to destination (# data bytes): 105\n",
      "Protocol type: udp   Service: private has a malicious intrusion mainly from source to destination (# data bytes): 105\n",
      "Protocol type: udp   Service: private has a malicious intrusion mainly from source to destination (# data bytes): 105\n",
      "Protocol type: udp   Service: private has a malicious intrusion mainly from source to destination (# data bytes): 105\n",
      "Protocol type: udp   Service: private has a malicious intrusion mainly from source to destination (# data bytes): 105\n",
      "Protocol type: udp   Service: private has a malicious intrusion mainly from source to destination (# data bytes): 105\n",
      "Protocol type: udp   Service: private has a malicious intrusion mainly from source to destination (# data bytes): 105\n",
      "Protocol type: udp   Service: private has a malicious intrusion mainly from source to destination (# data bytes): 105\n",
      "Protocol type: udp   Service: private has a malicious intrusion mainly from source to destination (# data bytes): 105\n",
      "Protocol type: udp   Service: private has a malicious intrusion mainly from source to destination (# data bytes): 105\n",
      "Protocol type: udp   Service: private has a malicious intrusion mainly from source to destination (# data bytes): 105\n",
      "Protocol type: udp   Service: private has a malicious intrusion mainly from source to destination (# data bytes): 105\n",
      "Protocol type: udp   Service: private has a malicious intrusion mainly from source to destination (# data bytes): 105\n",
      "Protocol type: udp   Service: private has a malicious intrusion mainly from source to destination (# data bytes): 105\n",
      "Protocol type: udp   Service: private has a malicious intrusion mainly from source to destination (# data bytes): 105\n",
      "Protocol type: udp   Service: private has a malicious intrusion mainly from source to destination (# data bytes): 105\n",
      "Protocol type: udp   Service: private has a malicious intrusion mainly from source to destination (# data bytes): 105\n",
      "Protocol type: udp   Service: private has a malicious intrusion mainly from source to destination (# data bytes): 105\n",
      "Protocol type: udp   Service: private has a malicious intrusion mainly from source to destination (# data bytes): 105\n",
      "Protocol type: udp   Service: private has a malicious intrusion mainly from source to destination (# data bytes): 105\n",
      "Protocol type: udp   Service: private has a malicious intrusion mainly from source to destination (# data bytes): 105\n",
      "Protocol type: udp   Service: private has a malicious intrusion mainly from source to destination (# data bytes): 105\n",
      "Protocol type: udp   Service: private has a malicious intrusion mainly from source to destination (# data bytes): 105\n",
      "Protocol type: udp   Service: private has a malicious intrusion mainly from source to destination (# data bytes): 105\n",
      "Protocol type: udp   Service: private has a malicious intrusion mainly from source to destination (# data bytes): 105\n",
      "Protocol type: udp   Service: private has a malicious intrusion mainly from source to destination (# data bytes): 105\n",
      "Protocol type: udp   Service: private has a malicious intrusion mainly from source to destination (# data bytes): 105\n",
      "Protocol type: udp   Service: private has a malicious intrusion mainly from source to destination (# data bytes): 105\n",
      "Protocol type: udp   Service: private has a malicious intrusion mainly from source to destination (# data bytes): 105\n",
      "Protocol type: udp   Service: private has a malicious intrusion mainly from source to destination (# data bytes): 105\n",
      "Protocol type: udp   Service: private has a malicious intrusion mainly from source to destination (# data bytes): 105\n",
      "Protocol type: udp   Service: private has a malicious intrusion mainly from source to destination (# data bytes): 105\n",
      "Protocol type: udp   Service: private has a malicious intrusion mainly from source to destination (# data bytes): 105\n",
      "Protocol type: udp   Service: private has a malicious intrusion mainly from source to destination (# data bytes): 105\n",
      "Protocol type: udp   Service: private has a malicious intrusion mainly from source to destination (# data bytes): 105\n",
      "Protocol type: udp   Service: private has a malicious intrusion mainly from source to destination (# data bytes): 105\n",
      "Protocol type: udp   Service: private has a malicious intrusion mainly from source to destination (# data bytes): 105\n",
      "Protocol type: udp   Service: private has a malicious intrusion mainly from source to destination (# data bytes): 105\n",
      "Protocol type: udp   Service: private has a malicious intrusion mainly from source to destination (# data bytes): 105\n",
      "Protocol type: udp   Service: private has a malicious intrusion mainly from source to destination (# data bytes): 105\n",
      "Protocol type: udp   Service: private has a malicious intrusion mainly from source to destination (# data bytes): 105\n",
      "Protocol type: udp   Service: private has a malicious intrusion mainly from source to destination (# data bytes): 105\n",
      "Protocol type: udp   Service: private has a malicious intrusion mainly from source to destination (# data bytes): 105\n",
      "Protocol type: udp   Service: private has a malicious intrusion mainly from source to destination (# data bytes): 105\n",
      "Protocol type: tcp   Service: http    has a malicious intrusion mainly from source to destination (# data bytes): 37024\n",
      "Protocol type: tcp   Service: http    has a malicious intrusion mainly from source to destination (# data bytes): 0\n",
      "Protocol type: tcp   Service: http    has a malicious intrusion mainly from source to destination (# data bytes): 59424\n",
      "Protocol type: tcp   Service: http    has a malicious intrusion mainly from source to destination (# data bytes): 72564\n",
      "Protocol type: tcp   Service: http    has a malicious intrusion mainly from source to destination (# data bytes): 72564\n",
      "Protocol type: tcp   Service: http    has a malicious intrusion mainly from source to destination (# data bytes): 62344\n",
      "Protocol type: tcp   Service: http    has a malicious intrusion mainly from source to destination (# data bytes): 57964\n",
      "Protocol type: tcp   Service: http    has a malicious intrusion mainly from source to destination (# data bytes): 62344\n",
      "Protocol type: tcp   Service: http    has a malicious intrusion mainly from source to destination (# data bytes): 59424\n",
      "Protocol type: tcp   Service: http    has a malicious intrusion mainly from source to destination (# data bytes): 75904\n",
      "Protocol type: tcp   Service: http    has a malicious intrusion mainly from source to destination (# data bytes): 0\n",
      "Protocol type: tcp   Service: ftp_data has a malicious intrusion mainly from source to destination (# data bytes): 12\n",
      "Protocol type: tcp   Service: ftp     has a malicious intrusion mainly from source to destination (# data bytes): 160\n",
      "Protocol type: tcp   Service: ftp_data has a malicious intrusion mainly from source to destination (# data bytes): 12\n",
      "Protocol type: tcp   Service: ftp     has a malicious intrusion mainly from source to destination (# data bytes): 162\n",
      "Protocol type: tcp   Service: ftp_data has a malicious intrusion mainly from source to destination (# data bytes): 283618\n",
      "Protocol type: tcp   Service: ftp     has a malicious intrusion mainly from source to destination (# data bytes): 158\n",
      "Protocol type: tcp   Service: ftp     has a malicious intrusion mainly from source to destination (# data bytes): 160\n",
      "Protocol type: tcp   Service: ftp_data has a malicious intrusion mainly from source to destination (# data bytes): 283618\n",
      "Protocol type: tcp   Service: ftp     has a malicious intrusion mainly from source to destination (# data bytes): 164\n",
      "Protocol type: tcp   Service: ftp_data has a malicious intrusion mainly from source to destination (# data bytes): 12\n",
      "Protocol type: tcp   Service: ftp_data has a malicious intrusion mainly from source to destination (# data bytes): 12\n",
      "Protocol type: tcp   Service: ftp_data has a malicious intrusion mainly from source to destination (# data bytes): 283618\n",
      "Protocol type: tcp   Service: ftp_data has a malicious intrusion mainly from source to destination (# data bytes): 12\n",
      "Protocol type: tcp   Service: ftp_data has a malicious intrusion mainly from source to destination (# data bytes): 12\n",
      "Protocol type: tcp   Service: ftp_data has a malicious intrusion mainly from source to destination (# data bytes): 12\n",
      "Protocol type: tcp   Service: ftp_data has a malicious intrusion mainly from source to destination (# data bytes): 12\n",
      "Protocol type: tcp   Service: ftp_data has a malicious intrusion mainly from source to destination (# data bytes): 12\n",
      "Protocol type: tcp   Service: ftp     has a malicious intrusion mainly from source to destination (# data bytes): 164\n",
      "Protocol type: tcp   Service: http    has a malicious intrusion mainly from source to destination (# data bytes): 0\n",
      "Protocol type: tcp   Service: http    has a malicious intrusion mainly from source to destination (# data bytes): 0\n",
      "Protocol type: tcp   Service: http    has a malicious intrusion mainly from source to destination (# data bytes): 0\n",
      "Protocol type: tcp   Service: http    has a malicious intrusion mainly from source to destination (# data bytes): 0\n",
      "Protocol type: tcp   Service: http    has a malicious intrusion mainly from source to destination (# data bytes): 75484\n",
      "Protocol type: tcp   Service: http    has a malicious intrusion mainly from source to destination (# data bytes): 68184\n",
      "Protocol type: tcp   Service: http    has a malicious intrusion mainly from source to destination (# data bytes): 59424\n",
      "Protocol type: tcp   Service: http    has a malicious intrusion mainly from source to destination (# data bytes): 72564\n",
      "Protocol type: tcp   Service: http    has a malicious intrusion mainly from source to destination (# data bytes): 78404\n",
      "Protocol type: tcp   Service: http    has a malicious intrusion mainly from source to destination (# data bytes): 0\n",
      "Protocol type: tcp   Service: http    has a malicious intrusion mainly from source to destination (# data bytes): 0\n",
      "Protocol type: tcp   Service: http    has a malicious intrusion mainly from source to destination (# data bytes): 1024\n",
      "Protocol type: tcp   Service: http    has a malicious intrusion mainly from source to destination (# data bytes): 3904\n",
      "Protocol type: tcp   Service: http    has a malicious intrusion mainly from source to destination (# data bytes): 0\n",
      "Protocol type: tcp   Service: http    has a malicious intrusion mainly from source to destination (# data bytes): 57964\n",
      "Protocol type: tcp   Service: http    has a malicious intrusion mainly from source to destination (# data bytes): 57964\n",
      "Protocol type: tcp   Service: http    has a malicious intrusion mainly from source to destination (# data bytes): 56504\n",
      "Protocol type: tcp   Service: http    has a malicious intrusion mainly from source to destination (# data bytes): 0\n",
      "Protocol type: tcp   Service: http    has a malicious intrusion mainly from source to destination (# data bytes): 0\n",
      "Protocol type: tcp   Service: http    has a malicious intrusion mainly from source to destination (# data bytes): 56504\n",
      "Protocol type: tcp   Service: http    has a malicious intrusion mainly from source to destination (# data bytes): 0\n",
      "Protocol type: tcp   Service: http    has a malicious intrusion mainly from source to destination (# data bytes): 20004\n",
      "Protocol type: tcp   Service: http    has a malicious intrusion mainly from source to destination (# data bytes): 0\n",
      "Protocol type: tcp   Service: http    has a malicious intrusion mainly from source to destination (# data bytes): 53584\n",
      "Protocol type: tcp   Service: http    has a malicious intrusion mainly from source to destination (# data bytes): 3944\n",
      "Protocol type: tcp   Service: http    has a malicious intrusion mainly from source to destination (# data bytes): 55044\n",
      "Protocol type: tcp   Service: http    has a malicious intrusion mainly from source to destination (# data bytes): 74024\n",
      "Protocol type: tcp   Service: http    has a malicious intrusion mainly from source to destination (# data bytes): 61504\n",
      "Protocol type: tcp   Service: http    has a malicious intrusion mainly from source to destination (# data bytes): 60884\n",
      "Protocol type: tcp   Service: http    has a malicious intrusion mainly from source to destination (# data bytes): 57964\n",
      "Protocol type: tcp   Service: http    has a malicious intrusion mainly from source to destination (# data bytes): 0\n",
      "Protocol type: tcp   Service: http    has a malicious intrusion mainly from source to destination (# data bytes): 59424\n",
      "Protocol type: tcp   Service: http    has a malicious intrusion mainly from source to destination (# data bytes): 0\n",
      "Protocol type: tcp   Service: http    has a malicious intrusion mainly from source to destination (# data bytes): 0\n",
      "Protocol type: tcp   Service: http    has a malicious intrusion mainly from source to destination (# data bytes): 34144\n",
      "Protocol type: tcp   Service: http    has a malicious intrusion mainly from source to destination (# data bytes): 54304\n",
      "Protocol type: tcp   Service: http    has a malicious intrusion mainly from source to destination (# data bytes): 0\n",
      "Protocol type: tcp   Service: http    has a malicious intrusion mainly from source to destination (# data bytes): 55744\n",
      "Protocol type: tcp   Service: http    has a malicious intrusion mainly from source to destination (# data bytes): 62344\n",
      "Protocol type: tcp   Service: http    has a malicious intrusion mainly from source to destination (# data bytes): 60884\n",
      "Protocol type: tcp   Service: http    has a malicious intrusion mainly from source to destination (# data bytes): 55744\n",
      "Protocol type: tcp   Service: http    has a malicious intrusion mainly from source to destination (# data bytes): 72564\n",
      "Protocol type: tcp   Service: ftp_data has a malicious intrusion mainly from source to destination (# data bytes): 283618\n",
      "Protocol type: tcp   Service: ftp     has a malicious intrusion mainly from source to destination (# data bytes): 160\n",
      "Protocol type: tcp   Service: ftp     has a malicious intrusion mainly from source to destination (# data bytes): 158\n",
      "Protocol type: tcp   Service: ftp     has a malicious intrusion mainly from source to destination (# data bytes): 162\n",
      "Protocol type: tcp   Service: ftp_data has a malicious intrusion mainly from source to destination (# data bytes): 12\n",
      "Protocol type: tcp   Service: ftp_data has a malicious intrusion mainly from source to destination (# data bytes): 283618\n",
      "Protocol type: tcp   Service: ftp_data has a malicious intrusion mainly from source to destination (# data bytes): 12\n",
      "Protocol type: tcp   Service: ftp     has a malicious intrusion mainly from source to destination (# data bytes): 162\n",
      "Protocol type: tcp   Service: ftp_data has a malicious intrusion mainly from source to destination (# data bytes): 12\n",
      "Protocol type: tcp   Service: ftp_data has a malicious intrusion mainly from source to destination (# data bytes): 283618\n",
      "Protocol type: tcp   Service: ftp_data has a malicious intrusion mainly from source to destination (# data bytes): 283618\n",
      "Protocol type: tcp   Service: ftp_data has a malicious intrusion mainly from source to destination (# data bytes): 12\n",
      "Protocol type: tcp   Service: ftp_data has a malicious intrusion mainly from source to destination (# data bytes): 283618\n",
      "Protocol type: tcp   Service: ftp     has a malicious intrusion mainly from source to destination (# data bytes): 164\n",
      "Protocol type: tcp   Service: ftp_data has a malicious intrusion mainly from source to destination (# data bytes): 12\n",
      "Protocol type: tcp   Service: ftp_data has a malicious intrusion mainly from source to destination (# data bytes): 12\n",
      "Protocol type: tcp   Service: ftp_data has a malicious intrusion mainly from source to destination (# data bytes): 12\n"
     ]
    },
    {
     "name": "stdout",
     "output_type": "stream",
     "text": [
      "Protocol type: tcp   Service: ftp_data has a malicious intrusion mainly from source to destination (# data bytes): 283618\n",
      "Protocol type: tcp   Service: ftp_data has a malicious intrusion mainly from source to destination (# data bytes): 12\n",
      "Protocol type: tcp   Service: ftp_data has a malicious intrusion mainly from source to destination (# data bytes): 12\n",
      "Protocol type: tcp   Service: ftp     has a malicious intrusion mainly from source to destination (# data bytes): 162\n",
      "Protocol type: tcp   Service: ftp     has a malicious intrusion mainly from source to destination (# data bytes): 158\n",
      "Protocol type: tcp   Service: ftp_data has a malicious intrusion mainly from source to destination (# data bytes): 12\n",
      "Protocol type: tcp   Service: ftp_data has a malicious intrusion mainly from source to destination (# data bytes): 283618\n",
      "Protocol type: tcp   Service: ftp     has a malicious intrusion mainly from source to destination (# data bytes): 160\n",
      "Protocol type: tcp   Service: ftp_data has a malicious intrusion mainly from source to destination (# data bytes): 12\n",
      "Protocol type: tcp   Service: ftp_data has a malicious intrusion mainly from source to destination (# data bytes): 283618\n",
      "Protocol type: tcp   Service: ftp     has a malicious intrusion mainly from source to destination (# data bytes): 160\n",
      "Protocol type: tcp   Service: ftp_data has a malicious intrusion mainly from source to destination (# data bytes): 283618\n",
      "Protocol type: tcp   Service: ftp_data has a malicious intrusion mainly from source to destination (# data bytes): 283618\n",
      "Protocol type: tcp   Service: ftp_data has a malicious intrusion mainly from source to destination (# data bytes): 12\n",
      "Protocol type: tcp   Service: ftp_data has a malicious intrusion mainly from source to destination (# data bytes): 12\n",
      "Protocol type: tcp   Service: ftp_data has a malicious intrusion mainly from source to destination (# data bytes): 283618\n",
      "Protocol type: tcp   Service: ftp_data has a malicious intrusion mainly from source to destination (# data bytes): 283618\n",
      "Protocol type: tcp   Service: ftp     has a malicious intrusion mainly from source to destination (# data bytes): 160\n",
      "Protocol type: tcp   Service: ftp_data has a malicious intrusion mainly from source to destination (# data bytes): 12\n",
      "Protocol type: tcp   Service: ftp     has a malicious intrusion mainly from source to destination (# data bytes): 160\n",
      "Protocol type: tcp   Service: ftp     has a malicious intrusion mainly from source to destination (# data bytes): 158\n",
      "Protocol type: tcp   Service: ftp     has a malicious intrusion mainly from source to destination (# data bytes): 160\n",
      "Protocol type: tcp   Service: ftp     has a malicious intrusion mainly from source to destination (# data bytes): 156\n",
      "Protocol type: tcp   Service: ftp     has a malicious intrusion mainly from source to destination (# data bytes): 164\n",
      "Protocol type: tcp   Service: ftp_data has a malicious intrusion mainly from source to destination (# data bytes): 283618\n",
      "Protocol type: tcp   Service: ftp     has a malicious intrusion mainly from source to destination (# data bytes): 158\n",
      "Protocol type: tcp   Service: ftp_data has a malicious intrusion mainly from source to destination (# data bytes): 12\n",
      "Protocol type: tcp   Service: ftp_data has a malicious intrusion mainly from source to destination (# data bytes): 12\n",
      "Protocol type: tcp   Service: ftp_data has a malicious intrusion mainly from source to destination (# data bytes): 283618\n",
      "Protocol type: tcp   Service: ftp     has a malicious intrusion mainly from source to destination (# data bytes): 159\n",
      "Protocol type: tcp   Service: ftp     has a malicious intrusion mainly from source to destination (# data bytes): 160\n",
      "Protocol type: tcp   Service: ftp_data has a malicious intrusion mainly from source to destination (# data bytes): 283618\n",
      "Protocol type: tcp   Service: ftp_data has a malicious intrusion mainly from source to destination (# data bytes): 12\n",
      "Protocol type: tcp   Service: ftp     has a malicious intrusion mainly from source to destination (# data bytes): 162\n",
      "Protocol type: tcp   Service: ftp_data has a malicious intrusion mainly from source to destination (# data bytes): 12\n",
      "Protocol type: tcp   Service: ftp_data has a malicious intrusion mainly from source to destination (# data bytes): 12\n",
      "Protocol type: tcp   Service: ftp_data has a malicious intrusion mainly from source to destination (# data bytes): 12\n",
      "Protocol type: tcp   Service: ftp_data has a malicious intrusion mainly from source to destination (# data bytes): 12\n",
      "Protocol type: tcp   Service: ftp_data has a malicious intrusion mainly from source to destination (# data bytes): 283618\n",
      "Protocol type: tcp   Service: ftp_data has a malicious intrusion mainly from source to destination (# data bytes): 283618\n",
      "Protocol type: tcp   Service: ftp_data has a malicious intrusion mainly from source to destination (# data bytes): 12\n",
      "Protocol type: tcp   Service: ftp_data has a malicious intrusion mainly from source to destination (# data bytes): 283618\n",
      "Protocol type: tcp   Service: ftp_data has a malicious intrusion mainly from source to destination (# data bytes): 283618\n",
      "Protocol type: tcp   Service: ftp     has a malicious intrusion mainly from source to destination (# data bytes): 158\n",
      "Protocol type: tcp   Service: ftp_data has a malicious intrusion mainly from source to destination (# data bytes): 283618\n",
      "Protocol type: tcp   Service: ftp_data has a malicious intrusion mainly from source to destination (# data bytes): 283618\n",
      "Protocol type: tcp   Service: ftp     has a malicious intrusion mainly from source to destination (# data bytes): 154\n",
      "Protocol type: tcp   Service: ftp_data has a malicious intrusion mainly from source to destination (# data bytes): 283618\n",
      "Protocol type: tcp   Service: ftp     has a malicious intrusion mainly from source to destination (# data bytes): 160\n",
      "Protocol type: tcp   Service: ftp_data has a malicious intrusion mainly from source to destination (# data bytes): 283618\n",
      "Protocol type: tcp   Service: ftp     has a malicious intrusion mainly from source to destination (# data bytes): 160\n",
      "Protocol type: tcp   Service: ftp_data has a malicious intrusion mainly from source to destination (# data bytes): 283618\n",
      "Protocol type: tcp   Service: ftp_data has a malicious intrusion mainly from source to destination (# data bytes): 12\n",
      "Protocol type: tcp   Service: ftp     has a malicious intrusion mainly from source to destination (# data bytes): 160\n",
      "Protocol type: tcp   Service: ftp_data has a malicious intrusion mainly from source to destination (# data bytes): 12\n",
      "Protocol type: tcp   Service: ftp_data has a malicious intrusion mainly from source to destination (# data bytes): 283618\n",
      "Protocol type: tcp   Service: ftp_data has a malicious intrusion mainly from source to destination (# data bytes): 12\n",
      "Protocol type: tcp   Service: ftp_data has a malicious intrusion mainly from source to destination (# data bytes): 12\n",
      "Protocol type: tcp   Service: ftp_data has a malicious intrusion mainly from source to destination (# data bytes): 12\n",
      "Protocol type: tcp   Service: ftp_data has a malicious intrusion mainly from source to destination (# data bytes): 12\n",
      "Protocol type: tcp   Service: ftp     has a malicious intrusion mainly from source to destination (# data bytes): 164\n",
      "Protocol type: tcp   Service: ftp     has a malicious intrusion mainly from source to destination (# data bytes): 162\n",
      "Protocol type: tcp   Service: ftp_data has a malicious intrusion mainly from source to destination (# data bytes): 283618\n",
      "Protocol type: tcp   Service: ftp_data has a malicious intrusion mainly from source to destination (# data bytes): 283618\n",
      "Protocol type: tcp   Service: ftp     has a malicious intrusion mainly from source to destination (# data bytes): 158\n"
     ]
    }
   ],
   "source": [
    "malicious_intrusion_data(intrusion)"
   ]
  },
  {
   "cell_type": "markdown",
   "id": "89c8d0ee",
   "metadata": {},
   "source": [
    "# D. Data visualization"
   ]
  },
  {
   "cell_type": "code",
   "execution_count": 23,
   "id": "a6954029",
   "metadata": {},
   "outputs": [],
   "source": [
    "import seaborn as sns\n",
    "import matplotlib.pyplot as plt"
   ]
  },
  {
   "cell_type": "markdown",
   "id": "fcc39332",
   "metadata": {},
   "source": [
    "#### Let's get a summary of the new dataset called data_df2."
   ]
  },
  {
   "cell_type": "code",
   "execution_count": 24,
   "id": "3727471c",
   "metadata": {},
   "outputs": [
    {
     "data": {
      "text/html": [
       "<div>\n",
       "<style scoped>\n",
       "    .dataframe tbody tr th:only-of-type {\n",
       "        vertical-align: middle;\n",
       "    }\n",
       "\n",
       "    .dataframe tbody tr th {\n",
       "        vertical-align: top;\n",
       "    }\n",
       "\n",
       "    .dataframe thead th {\n",
       "        text-align: right;\n",
       "    }\n",
       "</style>\n",
       "<table border=\"1\" class=\"dataframe\">\n",
       "  <thead>\n",
       "    <tr style=\"text-align: right;\">\n",
       "      <th></th>\n",
       "      <th>duration</th>\n",
       "      <th>src_bytes</th>\n",
       "      <th>dst_bytes</th>\n",
       "      <th>num_compromised</th>\n",
       "      <th>num_access_files</th>\n",
       "      <th>is_guest_login</th>\n",
       "      <th>is_intrusion</th>\n",
       "    </tr>\n",
       "  </thead>\n",
       "  <tbody>\n",
       "    <tr>\n",
       "      <th>count</th>\n",
       "      <td>699.00</td>\n",
       "      <td>699.00</td>\n",
       "      <td>699.00</td>\n",
       "      <td>699.00</td>\n",
       "      <td>699.00</td>\n",
       "      <td>699.00</td>\n",
       "      <td>699.00</td>\n",
       "    </tr>\n",
       "    <tr>\n",
       "      <th>mean</th>\n",
       "      <td>190.05</td>\n",
       "      <td>18032.05</td>\n",
       "      <td>1806.35</td>\n",
       "      <td>1.26</td>\n",
       "      <td>0.01</td>\n",
       "      <td>0.05</td>\n",
       "      <td>0.43</td>\n",
       "    </tr>\n",
       "    <tr>\n",
       "      <th>std</th>\n",
       "      <td>814.87</td>\n",
       "      <td>59040.02</td>\n",
       "      <td>8271.11</td>\n",
       "      <td>33.44</td>\n",
       "      <td>0.19</td>\n",
       "      <td>0.22</td>\n",
       "      <td>0.50</td>\n",
       "    </tr>\n",
       "    <tr>\n",
       "      <th>min</th>\n",
       "      <td>0.00</td>\n",
       "      <td>0.00</td>\n",
       "      <td>0.00</td>\n",
       "      <td>0.00</td>\n",
       "      <td>0.00</td>\n",
       "      <td>0.00</td>\n",
       "      <td>0.00</td>\n",
       "    </tr>\n",
       "    <tr>\n",
       "      <th>25%</th>\n",
       "      <td>0.00</td>\n",
       "      <td>105.00</td>\n",
       "      <td>0.00</td>\n",
       "      <td>0.00</td>\n",
       "      <td>0.00</td>\n",
       "      <td>0.00</td>\n",
       "      <td>0.00</td>\n",
       "    </tr>\n",
       "    <tr>\n",
       "      <th>50%</th>\n",
       "      <td>0.00</td>\n",
       "      <td>217.00</td>\n",
       "      <td>147.00</td>\n",
       "      <td>0.00</td>\n",
       "      <td>0.00</td>\n",
       "      <td>0.00</td>\n",
       "      <td>0.00</td>\n",
       "    </tr>\n",
       "    <tr>\n",
       "      <th>75%</th>\n",
       "      <td>1.00</td>\n",
       "      <td>330.50</td>\n",
       "      <td>760.50</td>\n",
       "      <td>0.00</td>\n",
       "      <td>0.00</td>\n",
       "      <td>0.00</td>\n",
       "      <td>1.00</td>\n",
       "    </tr>\n",
       "    <tr>\n",
       "      <th>max</th>\n",
       "      <td>15122.00</td>\n",
       "      <td>283618.00</td>\n",
       "      <td>176690.00</td>\n",
       "      <td>884.00</td>\n",
       "      <td>5.00</td>\n",
       "      <td>1.00</td>\n",
       "      <td>1.00</td>\n",
       "    </tr>\n",
       "  </tbody>\n",
       "</table>\n",
       "</div>"
      ],
      "text/plain": [
       "       duration  src_bytes  dst_bytes  num_compromised  num_access_files  \\\n",
       "count    699.00     699.00     699.00           699.00            699.00   \n",
       "mean     190.05   18032.05    1806.35             1.26              0.01   \n",
       "std      814.87   59040.02    8271.11            33.44              0.19   \n",
       "min        0.00       0.00       0.00             0.00              0.00   \n",
       "25%        0.00     105.00       0.00             0.00              0.00   \n",
       "50%        0.00     217.00     147.00             0.00              0.00   \n",
       "75%        1.00     330.50     760.50             0.00              0.00   \n",
       "max    15122.00  283618.00  176690.00           884.00              5.00   \n",
       "\n",
       "       is_guest_login  is_intrusion  \n",
       "count          699.00        699.00  \n",
       "mean             0.05          0.43  \n",
       "std              0.22          0.50  \n",
       "min              0.00          0.00  \n",
       "25%              0.00          0.00  \n",
       "50%              0.00          0.00  \n",
       "75%              0.00          1.00  \n",
       "max              1.00          1.00  "
      ]
     },
     "execution_count": 24,
     "metadata": {},
     "output_type": "execute_result"
    }
   ],
   "source": [
    "pd.set_option('display.float_format', lambda x: '%.2f' % x)\n",
    "data_df2.describe()"
   ]
  },
  {
   "cell_type": "markdown",
   "id": "d4e999da",
   "metadata": {},
   "source": [
    "### D.1. Protocol type "
   ]
  },
  {
   "cell_type": "code",
   "execution_count": 25,
   "id": "7dc0550d",
   "metadata": {},
   "outputs": [
    {
     "data": {
      "text/plain": [
       "tcp     532\n",
       "udp     162\n",
       "icmp      5\n",
       "Name: protocol_type, dtype: int64"
      ]
     },
     "execution_count": 25,
     "metadata": {},
     "output_type": "execute_result"
    }
   ],
   "source": [
    "#let's get the count values of protocol type\n",
    "protocol_type_count = data_df2['protocol_type'].value_counts()\n",
    "protocol_type_count"
   ]
  },
  {
   "cell_type": "code",
   "execution_count": 26,
   "id": "65578cab",
   "metadata": {},
   "outputs": [
    {
     "data": {
      "text/plain": [
       "tcp    0.76\n",
       "udp    0.23\n",
       "icmp   0.01\n",
       "Name: protocol_type, dtype: float64"
      ]
     },
     "execution_count": 26,
     "metadata": {},
     "output_type": "execute_result"
    }
   ],
   "source": [
    "#create some percent values of each protocol type\n",
    "protocol_type_percent = protocol_type_count/len(data_df2['protocol_type'])\n",
    "protocol_type_percent"
   ]
  },
  {
   "cell_type": "code",
   "execution_count": 27,
   "id": "7f484649",
   "metadata": {},
   "outputs": [
    {
     "data": {
      "text/plain": [
       "Float64Index([0.7610872675250357, 0.2317596566523605, 0.00715307582260372], dtype='float64')"
      ]
     },
     "execution_count": 27,
     "metadata": {},
     "output_type": "execute_result"
    }
   ],
   "source": [
    "#create index of protocol type\n",
    "protocol_type_index = protocol_type_percent.value_counts().index\n",
    "protocol_type_index"
   ]
  },
  {
   "cell_type": "code",
   "execution_count": 28,
   "id": "0a299264",
   "metadata": {},
   "outputs": [
    {
     "data": {
      "text/plain": [
       "Index(['tcp', 'udp', 'icmp'], dtype='object')"
      ]
     },
     "execution_count": 28,
     "metadata": {},
     "output_type": "execute_result"
    }
   ],
   "source": [
    "protocol_type_index_new = data_df2['protocol_type'].value_counts().index\n",
    "protocol_type_index_new"
   ]
  },
  {
   "cell_type": "markdown",
   "id": "d4514b77",
   "metadata": {},
   "source": [
    "###   D.1.2. Now, let's plot the bar graph"
   ]
  },
  {
   "cell_type": "code",
   "execution_count": 29,
   "id": "e499cc91",
   "metadata": {},
   "outputs": [
    {
     "data": {
      "image/png": "[encoded data removed]",
      "text/plain": [
       "<Figure size 432x288 with 1 Axes>"
      ]
     },
     "metadata": {
      "needs_background": "light"
     },
     "output_type": "display_data"
    }
   ],
   "source": [
    "plt.bar( protocol_type_index_new, protocol_type_percent , edgecolor ='black')\n",
    "plt.xlabel('Protocol Type')\n",
    "plt.ylabel('Protocol Type percent')\n",
    "plt.title('percent of Protocol type ')\n",
    "plt.show()"
   ]
  },
  {
   "cell_type": "markdown",
   "id": "f6637791",
   "metadata": {},
   "source": [
    "### both UDP and TCP have the most network intrusions based of the chart above\n",
    "\n",
    "The dataset contains a list of three protocol types such as: TCP, ICMP, and UDP.\n",
    "\n",
    "During the analysis, both UDP and TCP protocols come out to be the only pathways of intrusion."
   ]
  },
  {
   "cell_type": "markdown",
   "id": "846b4bf2",
   "metadata": {},
   "source": [
    "This data appears to represent the protocol types used in this study. TCP represents 76% of benign and malicious \n",
    "\n",
    "intrusion, while UDP and ICMP represent 23%, 1% respectively."
   ]
  },
  {
   "cell_type": "markdown",
   "id": "c5211e5c",
   "metadata": {},
   "source": [
    "### D.2. Service"
   ]
  },
  {
   "cell_type": "code",
   "execution_count": 30,
   "id": "cc7ec426",
   "metadata": {},
   "outputs": [
    {
     "data": {
      "text/plain": [
       "http        365\n",
       "private     120\n",
       "ftp_data     88\n",
       "smtp         41\n",
       "ftp          36\n",
       "domain_u     27\n",
       "other         9\n",
       "ntp_u         6\n",
       "eco_i         4\n",
       "urp_i         1\n",
       "telnet        1\n",
       "finger        1\n",
       "Name: service, dtype: int64"
      ]
     },
     "execution_count": 30,
     "metadata": {},
     "output_type": "execute_result"
    }
   ],
   "source": [
    "#let's get the network service counts\n",
    "service_count = data_df2['service'].value_counts()\n",
    "service_count"
   ]
  },
  {
   "cell_type": "code",
   "execution_count": 31,
   "id": "28392909",
   "metadata": {},
   "outputs": [
    {
     "data": {
      "text/plain": [
       "http       0.52\n",
       "private    0.17\n",
       "ftp_data   0.13\n",
       "smtp       0.06\n",
       "ftp        0.05\n",
       "domain_u   0.04\n",
       "other      0.01\n",
       "ntp_u      0.01\n",
       "eco_i      0.01\n",
       "urp_i      0.00\n",
       "telnet     0.00\n",
       "finger     0.00\n",
       "Name: service, dtype: float64"
      ]
     },
     "execution_count": 31,
     "metadata": {},
     "output_type": "execute_result"
    }
   ],
   "source": [
    "#get the count value for each type of service\n",
    "service_percent = service_count/len(data_df2['service'])\n",
    "service_percent"
   ]
  },
  {
   "cell_type": "code",
   "execution_count": 32,
   "id": "73f29ce6",
   "metadata": {},
   "outputs": [
    {
     "data": {
      "text/plain": [
       "Index(['http', 'private', 'ftp_data', 'smtp', 'ftp', 'domain_u', 'other',\n",
       "       'ntp_u', 'eco_i', 'urp_i', 'telnet', 'finger'],\n",
       "      dtype='object')"
      ]
     },
     "execution_count": 32,
     "metadata": {},
     "output_type": "execute_result"
    }
   ],
   "source": [
    "#get the indices\n",
    "service_index = data_df2['service'].value_counts().index\n",
    "service_index"
   ]
  },
  {
   "cell_type": "markdown",
   "id": "1fb858f3",
   "metadata": {},
   "source": [
    "### D.2.1. service's visualization"
   ]
  },
  {
   "cell_type": "code",
   "execution_count": 33,
   "id": "3ba75082",
   "metadata": {},
   "outputs": [
    {
     "data": {
      "image/png": "[encoded data removed]",
      "text/plain": [
       "<Figure size 864x360 with 1 Axes>"
      ]
     },
     "metadata": {
      "needs_background": "light"
     },
     "output_type": "display_data"
    }
   ],
   "source": [
    "plt.figure(figsize=(12,5))\n",
    "plt.bar(service_index, service_percent , edgecolor ='black', width =.7)\n",
    "plt.xlabel('Service Type')\n",
    "plt.ylabel('Service type count')\n",
    "plt.title('percent of service type ')\n",
    "plt.show()\n"
   ]
  },
  {
   "cell_type": "markdown",
   "id": "189ee06a",
   "metadata": {},
   "source": [
    "This data appears to represent the service used in this stusy. HTTP is the most used service with a percent of 0.52, followed \n",
    "\n",
    "by private and ftp_data with some percent of 0.17 and 0.13 respectively on a scale of 0 to 1."
   ]
  },
  {
   "cell_type": "markdown",
   "id": "afadc9a4",
   "metadata": {},
   "source": [
    "### D.3. identify differences between benign and malicious intrusion data"
   ]
  },
  {
   "cell_type": "code",
   "execution_count": 34,
   "id": "e0aad9e6",
   "metadata": {},
   "outputs": [
    {
     "data": {
      "text/plain": [
       "<AxesSubplot:xlabel='intrusion'>"
      ]
     },
     "execution_count": 34,
     "metadata": {},
     "output_type": "execute_result"
    },
    {
     "data": {
      "image/png": "[encoded data removed]",
      "text/plain": [
       "<Figure size 432x288 with 1 Axes>"
      ]
     },
     "metadata": {
      "needs_background": "light"
     },
     "output_type": "display_data"
    }
   ],
   "source": [
    "# le's plot the benign and malicious intrusion data.\n",
    "# size() is equivalent to counting the distinct rows\n",
    "result = data_df2.groupby(['intrusion']).size()\n",
    " \n",
    "# plot the result\n",
    "sns.barplot(x = result.index, y = result.values)"
   ]
  },
  {
   "cell_type": "code",
   "execution_count": 35,
   "id": "e1ea18f8",
   "metadata": {},
   "outputs": [
    {
     "data": {
      "text/plain": [
       "False    399\n",
       "True     300\n",
       "Name: intrusion, dtype: int64"
      ]
     },
     "execution_count": 35,
     "metadata": {},
     "output_type": "execute_result"
    }
   ],
   "source": [
    "#let's get the value counts and percent of \"intrusion\" variable.\n",
    "intrusion_count = data_df2['intrusion'].value_counts()\n",
    "intrusion_count"
   ]
  },
  {
   "cell_type": "code",
   "execution_count": 36,
   "id": "f192c0d7",
   "metadata": {},
   "outputs": [
    {
     "data": {
      "text/plain": [
       "False   0.57\n",
       "True    0.43\n",
       "Name: intrusion, dtype: float64"
      ]
     },
     "execution_count": 36,
     "metadata": {},
     "output_type": "execute_result"
    }
   ],
   "source": [
    "intrusion_percent = intrusion_count/len(data_df2['intrusion'])\n",
    "intrusion_percent"
   ]
  },
  {
   "cell_type": "markdown",
   "id": "62011663",
   "metadata": {},
   "source": [
    "For this study, \"False\" represents benign intrusion and \"True\", malicious intrusion. the graph displayed above shows the \n",
    "\n",
    "diffefence between benign and malicious intrusion. As you can see, there are 57% benign and 43% malicious intrusions. However, \n",
    "\n",
    "let's see the factors that contributed to these results and which areas were affected the most.\n"
   ]
  },
  {
   "cell_type": "markdown",
   "id": "8ebd34a7",
   "metadata": {},
   "source": [
    "### D.3.1. Intrusion type for each protocol type based on the length of connection (duration)"
   ]
  },
  {
   "cell_type": "code",
   "execution_count": 37,
   "id": "8d84b976",
   "metadata": {},
   "outputs": [
    {
     "data": {
      "image/png": "[encoded data removed]",
      "text/plain": [
       "<Figure size 570.561x360 with 1 Axes>"
      ]
     },
     "metadata": {
      "needs_background": "light"
     },
     "output_type": "display_data"
    }
   ],
   "source": [
    "#let's plot the graph\n",
    "sns.catplot(data = data_df2, kind= \"bar\", x = 'protocol_type', y= 'duration', \n",
    "            hue ='intrusion', edgecolor ='black', aspect=11.7/8.27)\n",
    "plt.title('Intrusion type for each protocol type based on the length of connection (duration)')\n",
    "plt.show()"
   ]
  },
  {
   "cell_type": "code",
   "execution_count": 38,
   "id": "1fdb333b",
   "metadata": {},
   "outputs": [
    {
     "data": {
      "text/plain": [
       "protocol_type  intrusion\n",
       "icmp           False         0.00\n",
       "tcp            False        55.08\n",
       "               True        463.21\n",
       "udp            False       350.37\n",
       "               True          1.92\n",
       "Name: duration, dtype: float64"
      ]
     },
     "execution_count": 38,
     "metadata": {},
     "output_type": "execute_result"
    }
   ],
   "source": [
    "#let's get some information about the graph\n",
    "pro_dur_int_count = data_df2.groupby(['protocol_type','intrusion' ]).mean()['duration']\n",
    "pro_dur_int_count"
   ]
  },
  {
   "cell_type": "code",
   "execution_count": 39,
   "id": "7f16fcc5",
   "metadata": {},
   "outputs": [
    {
     "data": {
      "text/plain": [
       "protocol_type  intrusion\n",
       "icmp           False       0.00\n",
       "tcp            False       0.08\n",
       "               True        0.66\n",
       "udp            False       0.50\n",
       "               True        0.00\n",
       "Name: duration, dtype: float64"
      ]
     },
     "execution_count": 39,
     "metadata": {},
     "output_type": "execute_result"
    }
   ],
   "source": [
    "percent = pro_dur_int_count / len(data_df2['protocol_type'])\n",
    "percent"
   ]
  },
  {
   "cell_type": "markdown",
   "id": "0be2aef1",
   "metadata": {},
   "source": [
    "the visualization above displays the intrusion type for each protocol type based on the length of connection (duration).\n",
    "\n",
    "As you can see, ICMP accounts for 0% of both benign and malicious intrusion. TCP and UDP are the protocol types the most used \n",
    "\n",
    "according to the study. TCP accounts for 8% benign and 66% malicious, while UDP accounts for 50% benign and 0% malicious \n",
    "\n",
    "intrusion. However, malicious intrusions mostly occur at the protocol \"TCP\" and benign at the UDP protocol. Next, let's see the \n",
    "\n",
    "intrusion type for each protocol type based on number of data bytes from source to destination."
   ]
  },
  {
   "cell_type": "markdown",
   "id": "96307e9e",
   "metadata": {},
   "source": [
    "### D.3.2. Intrusion type for each protocol type based on number of data bytes from source to destination."
   ]
  },
  {
   "cell_type": "code",
   "execution_count": 40,
   "id": "1f933bbb",
   "metadata": {},
   "outputs": [
    {
     "data": {
      "image/png": "[encoded data removed]",
      "text/plain": [
       "<Figure size 570.561x360 with 1 Axes>"
      ]
     },
     "metadata": {
      "needs_background": "light"
     },
     "output_type": "display_data"
    }
   ],
   "source": [
    "#let's plot the graphof intrusion and protocol based on src_bytes.\n",
    "sns.catplot(data = data_df2, kind= \"bar\", x = 'protocol_type', y= 'src_bytes', \n",
    "            hue ='intrusion', edgecolor ='black', aspect=11.7/8.27)\n",
    "plt.title('Intrusion type for each protocol type based on src_bytes')\n",
    "plt.show()"
   ]
  },
  {
   "cell_type": "code",
   "execution_count": 41,
   "id": "4cef7daa",
   "metadata": {},
   "outputs": [
    {
     "data": {
      "text/plain": [
       "protocol_type  intrusion\n",
       "icmp           False          60.20\n",
       "tcp            False         611.16\n",
       "               True        61928.89\n",
       "udp            False          79.35\n",
       "               True          105.00\n",
       "Name: src_bytes, dtype: float64"
      ]
     },
     "execution_count": 41,
     "metadata": {},
     "output_type": "execute_result"
    }
   ],
   "source": [
    "pro_byt_int = data_df2.groupby(['protocol_type', 'intrusion']).mean()['src_bytes']\n",
    "pro_byt_int"
   ]
  },
  {
   "cell_type": "markdown",
   "id": "750e0f26",
   "metadata": {},
   "source": [
    "The graph above displays the intrusion type for each protocol type based on number of data bytes from source to destination. As \n",
    "\n",
    "you can see, the intrusions are mostly malicious and in provenance of TCP protocol with 98.6%.Therefore, malicious intrusions occurred \n",
    "\n",
    "mostly from source to destination  Next, let's see inntrusion type for each protocol type based on number of data bytes from \n",
    "\n",
    "destination to source."
   ]
  },
  {
   "cell_type": "markdown",
   "id": "b6dd7088",
   "metadata": {},
   "source": [
    "### D.3.3. Intrusion type for each protocol type based on number of data bytes from destination to source."
   ]
  },
  {
   "cell_type": "code",
   "execution_count": 42,
   "id": "b471d0b4",
   "metadata": {},
   "outputs": [
    {
     "data": {
      "image/png": "[encoded data removed]",
      "text/plain": [
       "<Figure size 570.561x360 with 1 Axes>"
      ]
     },
     "metadata": {
      "needs_background": "light"
     },
     "output_type": "display_data"
    }
   ],
   "source": [
    "#let's plot the grath with seaborn\n",
    "sns.catplot(data = data_df2, kind= \"bar\", x = 'protocol_type', y= 'dst_bytes', \n",
    "            hue ='intrusion', edgecolor ='black', aspect=11.7/8.27)\n",
    "plt.title('Intrusion type for each service by protocol type')\n",
    "plt.show()"
   ]
  },
  {
   "cell_type": "code",
   "execution_count": 43,
   "id": "f71dc6b7",
   "metadata": {},
   "outputs": [
    {
     "data": {
      "text/plain": [
       "protocol_type  intrusion\n",
       "icmp           False          0.00\n",
       "tcp            False       3687.30\n",
       "               True          98.58\n",
       "udp            False         71.47\n",
       "               True         143.09\n",
       "Name: dst_bytes, dtype: float64"
      ]
     },
     "execution_count": 43,
     "metadata": {},
     "output_type": "execute_result"
    }
   ],
   "source": [
    "pro_byt_int2 = data_df2.groupby(['protocol_type', 'intrusion']).mean()['dst_bytes']\n",
    "pro_byt_int2"
   ]
  },
  {
   "cell_type": "markdown",
   "id": "540b2595",
   "metadata": {},
   "source": [
    "The graph above represents the intrusion type for each protocol based on the number of data bytes from destination to source. \n",
    "\n",
    "the results clearly unfold the dominance of benign intrusion through TCP protocol with 92.2%. Next, let's take a deeper look of \n",
    "\n",
    "intrusions through the different types of service such as (private, http, ftp_data, ftp and so on). "
   ]
  },
  {
   "cell_type": "markdown",
   "id": "af89a789",
   "metadata": {},
   "source": [
    "### D.3.4. Intrusion type for each network service based on the number of data bytes from source to destination."
   ]
  },
  {
   "cell_type": "code",
   "execution_count": 44,
   "id": "f9b4c52c",
   "metadata": {},
   "outputs": [
    {
     "data": {
      "image/png": "[encoded data removed]",
      "text/plain": [
       "<Figure size 570.561x360 with 1 Axes>"
      ]
     },
     "metadata": {
      "needs_background": "light"
     },
     "output_type": "display_data"
    }
   ],
   "source": [
    "#let's plot the graph\n",
    "sns.catplot(data = data_df2, kind= \"bar\", x = 'service', y= 'src_bytes', \n",
    "            hue ='intrusion', edgecolor ='black', aspect=11.7/8.27)\n",
    "plt.title('Intrusion type for each service by number of data bytes from source to destination ')\n",
    "plt.show()"
   ]
  },
  {
   "cell_type": "code",
   "execution_count": 45,
   "id": "1e9fb028",
   "metadata": {},
   "outputs": [
    {
     "data": {
      "text/plain": [
       "service   intrusion\n",
       "domain_u  False           45.15\n",
       "eco_i     False           30.00\n",
       "finger    False            7.00\n",
       "ftp       False          693.67\n",
       "          True           160.21\n",
       "ftp_data  False         3162.38\n",
       "          True        126999.76\n",
       "http      False          300.92\n",
       "          True         38715.08\n",
       "ntp_u     False           48.00\n",
       "other     False          145.89\n",
       "private   False          105.00\n",
       "          True           105.00\n",
       "smtp      False         1305.12\n",
       "telnet    False         1154.00\n",
       "urp_i     False          181.00\n",
       "Name: src_bytes, dtype: float64"
      ]
     },
     "execution_count": 45,
     "metadata": {},
     "output_type": "execute_result"
    }
   ],
   "source": [
    "ser_byt_int = data_df2.groupby(['service', 'intrusion']).mean()['src_bytes']\n",
    "ser_byt_int"
   ]
  },
  {
   "cell_type": "markdown",
   "id": "b94d4373",
   "metadata": {},
   "source": [
    "As you can see the services such as HTTP and FTP_data display more malicious intrusion than any other services. In addition, \n",
    "\n",
    "FTP_data shows the most malicious intrusions ever detected from source to destination only with 73.3% followed by HTTP \n",
    "\n",
    "accounting for 22.4%. Next, let's see what association the length of connection has to do with the intrusion through each \n",
    "\n",
    "network service."
   ]
  },
  {
   "cell_type": "markdown",
   "id": "433b19b1",
   "metadata": {},
   "source": [
    "### D.3.5. Intrusion type for each network service based on the length of the connection."
   ]
  },
  {
   "cell_type": "code",
   "execution_count": 46,
   "id": "6fc9fd79",
   "metadata": {},
   "outputs": [
    {
     "data": {
      "image/png": "[encoded data removed]",
      "text/plain": [
       "<Figure size 570.561x360 with 1 Axes>"
      ]
     },
     "metadata": {
      "needs_background": "light"
     },
     "output_type": "display_data"
    }
   ],
   "source": [
    "#let's plot the graph\n",
    "sns.catplot(data = data_df2, kind= \"bar\", x = 'service', y= 'duration', \n",
    "            hue ='intrusion', edgecolor ='black', aspect=11.7/8.27)\n",
    "plt.title('Intrusion type for each network service based on the length of the connection ')\n",
    "plt.show()"
   ]
  },
  {
   "cell_type": "code",
   "execution_count": 47,
   "id": "5e93473a",
   "metadata": {},
   "outputs": [
    {
     "data": {
      "text/plain": [
       "service   intrusion\n",
       "domain_u  False           0.11\n",
       "eco_i     False           0.00\n",
       "finger    False           0.00\n",
       "ftp       False          24.67\n",
       "          True          282.06\n",
       "ftp_data  False           0.00\n",
       "          True          125.37\n",
       "http      False          11.27\n",
       "          True          749.35\n",
       "ntp_u     False           0.00\n",
       "other     False        2408.78\n",
       "private   False           2.05\n",
       "          True            1.92\n",
       "smtp      False           2.49\n",
       "telnet    False       15122.00\n",
       "urp_i     False           0.00\n",
       "Name: duration, dtype: float64"
      ]
     },
     "execution_count": 47,
     "metadata": {},
     "output_type": "execute_result"
    }
   ],
   "source": [
    "ser_byt = data_df2.groupby(['service', 'intrusion']).mean()['duration']\n",
    "ser_byt"
   ]
  },
  {
   "cell_type": "markdown",
   "id": "83f34c21",
   "metadata": {},
   "source": [
    "The graph above displays the intrusion type for each network service based on the length of the connection. However, the network \n",
    "\n",
    "services such as: \"telnet\" and \"other\" display most of the benign intrusion with a large margin where telnet accounts for 80.7% \n",
    "\n",
    "and \"other\", 12.9%. From the left of the chart, you can see that HTTP , FTP, and FTP_data show some malicious intrusions but \n",
    "\n",
    "very minimal compared to volume of benign intrusions. Next, let's see what the number of data bytes from destination to source \n",
    "\n",
    "has to do with intrusion through the network services."
   ]
  },
  {
   "cell_type": "markdown",
   "id": "76ec93a0",
   "metadata": {},
   "source": [
    "### D.3.6. Intrusion type for each network service based on the number of data bytes from destination to source."
   ]
  },
  {
   "cell_type": "code",
   "execution_count": 48,
   "id": "c5c0fdac",
   "metadata": {},
   "outputs": [
    {
     "data": {
      "image/png": "[encoded data removed]",
      "text/plain": [
       "<Figure size 570.561x360 with 1 Axes>"
      ]
     },
     "metadata": {
      "needs_background": "light"
     },
     "output_type": "display_data"
    }
   ],
   "source": [
    "#let's plot the graph\n",
    "sns.catplot(data = data_df2, kind= \"bar\", x = 'service', y= 'dst_bytes', \n",
    "            hue ='intrusion', edgecolor ='black', aspect=11.7/8.27)\n",
    "plt.title('Intrusion type for each service by number of data bytes from source to destination ')\n",
    "plt.show()"
   ]
  },
  {
   "cell_type": "code",
   "execution_count": 49,
   "id": "f538951f",
   "metadata": {},
   "outputs": [
    {
     "data": {
      "text/plain": [
       "service   intrusion\n",
       "domain_u  False           54.63\n",
       "eco_i     False            0.00\n",
       "finger    False          141.00\n",
       "ftp       False         1994.33\n",
       "          True           597.24\n",
       "ftp_data  False            0.00\n",
       "          True             0.00\n",
       "http      False         3878.34\n",
       "          True             0.07\n",
       "ntp_u     False           48.00\n",
       "other     False           70.00\n",
       "private   False          101.90\n",
       "          True           143.09\n",
       "smtp      False          331.98\n",
       "telnet    False       176690.00\n",
       "urp_i     False            0.00\n",
       "Name: dst_bytes, dtype: float64"
      ]
     },
     "execution_count": 49,
     "metadata": {},
     "output_type": "execute_result"
    }
   ],
   "source": [
    "ser_bytes = data_df2.groupby(['service', 'intrusion']).mean()['dst_bytes']\n",
    "ser_bytes"
   ]
  },
  {
   "cell_type": "markdown",
   "id": "c71db426",
   "metadata": {},
   "source": [
    "The graph above shows the intrusion type for each network service based on the number of data bytes from destination to source.\n",
    "\n",
    "The network service \"telnet\" displays increbible data of benign intrusions from destination to source with 96% accounted for \n",
    "\n",
    "telnet only and 2.1% for HTTP. Therefore, from destination to source, a significance of benign intrusions occur."
   ]
  },
  {
   "cell_type": "markdown",
   "id": "0933196a",
   "metadata": {},
   "source": [
    "### D.3.7 Quick glance at Telnet network service"
   ]
  },
  {
   "cell_type": "code",
   "execution_count": 50,
   "id": "57a2f067",
   "metadata": {},
   "outputs": [
    {
     "data": {
      "text/html": [
       "<div>\n",
       "<style scoped>\n",
       "    .dataframe tbody tr th:only-of-type {\n",
       "        vertical-align: middle;\n",
       "    }\n",
       "\n",
       "    .dataframe tbody tr th {\n",
       "        vertical-align: top;\n",
       "    }\n",
       "\n",
       "    .dataframe thead th {\n",
       "        text-align: right;\n",
       "    }\n",
       "</style>\n",
       "<table border=\"1\" class=\"dataframe\">\n",
       "  <thead>\n",
       "    <tr style=\"text-align: right;\">\n",
       "      <th></th>\n",
       "      <th>Unnamed: 0</th>\n",
       "      <th>duration</th>\n",
       "      <th>src_bytes</th>\n",
       "      <th>dst_bytes</th>\n",
       "      <th>land</th>\n",
       "      <th>wrong_fragment</th>\n",
       "      <th>urgent</th>\n",
       "      <th>hot</th>\n",
       "      <th>num_failed_logins</th>\n",
       "      <th>logged_in</th>\n",
       "      <th>...</th>\n",
       "      <th>root_shell</th>\n",
       "      <th>su_attempted</th>\n",
       "      <th>num_root</th>\n",
       "      <th>num_file_creations</th>\n",
       "      <th>num_shells</th>\n",
       "      <th>num_access_files</th>\n",
       "      <th>num_outbound_cmds</th>\n",
       "      <th>is_host_login</th>\n",
       "      <th>is_guest_login</th>\n",
       "      <th>is_intrusion</th>\n",
       "    </tr>\n",
       "    <tr>\n",
       "      <th>service</th>\n",
       "      <th></th>\n",
       "      <th></th>\n",
       "      <th></th>\n",
       "      <th></th>\n",
       "      <th></th>\n",
       "      <th></th>\n",
       "      <th></th>\n",
       "      <th></th>\n",
       "      <th></th>\n",
       "      <th></th>\n",
       "      <th></th>\n",
       "      <th></th>\n",
       "      <th></th>\n",
       "      <th></th>\n",
       "      <th></th>\n",
       "      <th></th>\n",
       "      <th></th>\n",
       "      <th></th>\n",
       "      <th></th>\n",
       "      <th></th>\n",
       "      <th></th>\n",
       "    </tr>\n",
       "  </thead>\n",
       "  <tbody>\n",
       "    <tr>\n",
       "      <th>domain_u</th>\n",
       "      <td>460.67</td>\n",
       "      <td>0.11</td>\n",
       "      <td>45.15</td>\n",
       "      <td>54.63</td>\n",
       "      <td>0.00</td>\n",
       "      <td>0.00</td>\n",
       "      <td>0.00</td>\n",
       "      <td>0.00</td>\n",
       "      <td>0.00</td>\n",
       "      <td>0.00</td>\n",
       "      <td>...</td>\n",
       "      <td>0.00</td>\n",
       "      <td>0.00</td>\n",
       "      <td>0.00</td>\n",
       "      <td>0.00</td>\n",
       "      <td>0.00</td>\n",
       "      <td>0.00</td>\n",
       "      <td>0.00</td>\n",
       "      <td>0.00</td>\n",
       "      <td>0.00</td>\n",
       "      <td>0.00</td>\n",
       "    </tr>\n",
       "    <tr>\n",
       "      <th>eco_i</th>\n",
       "      <td>530.25</td>\n",
       "      <td>0.00</td>\n",
       "      <td>30.00</td>\n",
       "      <td>0.00</td>\n",
       "      <td>0.00</td>\n",
       "      <td>0.00</td>\n",
       "      <td>0.00</td>\n",
       "      <td>0.00</td>\n",
       "      <td>0.00</td>\n",
       "      <td>0.00</td>\n",
       "      <td>...</td>\n",
       "      <td>0.00</td>\n",
       "      <td>0.00</td>\n",
       "      <td>0.00</td>\n",
       "      <td>0.00</td>\n",
       "      <td>0.00</td>\n",
       "      <td>0.00</td>\n",
       "      <td>0.00</td>\n",
       "      <td>0.00</td>\n",
       "      <td>0.00</td>\n",
       "      <td>0.00</td>\n",
       "    </tr>\n",
       "    <tr>\n",
       "      <th>finger</th>\n",
       "      <td>690.00</td>\n",
       "      <td>0.00</td>\n",
       "      <td>7.00</td>\n",
       "      <td>141.00</td>\n",
       "      <td>0.00</td>\n",
       "      <td>0.00</td>\n",
       "      <td>0.00</td>\n",
       "      <td>0.00</td>\n",
       "      <td>0.00</td>\n",
       "      <td>0.00</td>\n",
       "      <td>...</td>\n",
       "      <td>0.00</td>\n",
       "      <td>0.00</td>\n",
       "      <td>0.00</td>\n",
       "      <td>0.00</td>\n",
       "      <td>0.00</td>\n",
       "      <td>0.00</td>\n",
       "      <td>0.00</td>\n",
       "      <td>0.00</td>\n",
       "      <td>0.00</td>\n",
       "      <td>0.00</td>\n",
       "    </tr>\n",
       "    <tr>\n",
       "      <th>ftp</th>\n",
       "      <td>261.19</td>\n",
       "      <td>260.61</td>\n",
       "      <td>204.67</td>\n",
       "      <td>713.67</td>\n",
       "      <td>0.00</td>\n",
       "      <td>0.00</td>\n",
       "      <td>0.00</td>\n",
       "      <td>2.81</td>\n",
       "      <td>0.00</td>\n",
       "      <td>1.00</td>\n",
       "      <td>...</td>\n",
       "      <td>0.00</td>\n",
       "      <td>0.00</td>\n",
       "      <td>0.00</td>\n",
       "      <td>0.00</td>\n",
       "      <td>0.00</td>\n",
       "      <td>0.00</td>\n",
       "      <td>0.00</td>\n",
       "      <td>0.00</td>\n",
       "      <td>1.00</td>\n",
       "      <td>0.92</td>\n",
       "    </tr>\n",
       "    <tr>\n",
       "      <th>ftp_data</th>\n",
       "      <td>305.17</td>\n",
       "      <td>95.45</td>\n",
       "      <td>97447.66</td>\n",
       "      <td>0.00</td>\n",
       "      <td>0.00</td>\n",
       "      <td>0.00</td>\n",
       "      <td>0.00</td>\n",
       "      <td>0.06</td>\n",
       "      <td>0.00</td>\n",
       "      <td>0.20</td>\n",
       "      <td>...</td>\n",
       "      <td>0.00</td>\n",
       "      <td>0.00</td>\n",
       "      <td>0.27</td>\n",
       "      <td>0.00</td>\n",
       "      <td>0.00</td>\n",
       "      <td>0.00</td>\n",
       "      <td>0.00</td>\n",
       "      <td>0.00</td>\n",
       "      <td>0.00</td>\n",
       "      <td>0.76</td>\n",
       "    </tr>\n",
       "    <tr>\n",
       "      <th>http</th>\n",
       "      <td>394.78</td>\n",
       "      <td>213.49</td>\n",
       "      <td>10825.35</td>\n",
       "      <td>2815.80</td>\n",
       "      <td>0.00</td>\n",
       "      <td>0.00</td>\n",
       "      <td>0.00</td>\n",
       "      <td>0.00</td>\n",
       "      <td>0.00</td>\n",
       "      <td>0.87</td>\n",
       "      <td>...</td>\n",
       "      <td>0.00</td>\n",
       "      <td>0.00</td>\n",
       "      <td>0.00</td>\n",
       "      <td>0.00</td>\n",
       "      <td>0.00</td>\n",
       "      <td>0.00</td>\n",
       "      <td>0.00</td>\n",
       "      <td>0.00</td>\n",
       "      <td>0.00</td>\n",
       "      <td>0.27</td>\n",
       "    </tr>\n",
       "    <tr>\n",
       "      <th>ntp_u</th>\n",
       "      <td>531.50</td>\n",
       "      <td>0.00</td>\n",
       "      <td>48.00</td>\n",
       "      <td>48.00</td>\n",
       "      <td>0.00</td>\n",
       "      <td>0.00</td>\n",
       "      <td>0.00</td>\n",
       "      <td>0.00</td>\n",
       "      <td>0.00</td>\n",
       "      <td>0.00</td>\n",
       "      <td>...</td>\n",
       "      <td>0.00</td>\n",
       "      <td>0.00</td>\n",
       "      <td>0.00</td>\n",
       "      <td>0.00</td>\n",
       "      <td>0.00</td>\n",
       "      <td>0.00</td>\n",
       "      <td>0.00</td>\n",
       "      <td>0.00</td>\n",
       "      <td>0.00</td>\n",
       "      <td>0.00</td>\n",
       "    </tr>\n",
       "    <tr>\n",
       "      <th>other</th>\n",
       "      <td>430.78</td>\n",
       "      <td>2408.78</td>\n",
       "      <td>145.89</td>\n",
       "      <td>70.00</td>\n",
       "      <td>0.00</td>\n",
       "      <td>0.00</td>\n",
       "      <td>0.00</td>\n",
       "      <td>0.00</td>\n",
       "      <td>0.00</td>\n",
       "      <td>0.00</td>\n",
       "      <td>...</td>\n",
       "      <td>0.00</td>\n",
       "      <td>0.00</td>\n",
       "      <td>0.00</td>\n",
       "      <td>0.00</td>\n",
       "      <td>0.00</td>\n",
       "      <td>0.00</td>\n",
       "      <td>0.00</td>\n",
       "      <td>0.00</td>\n",
       "      <td>0.00</td>\n",
       "      <td>0.00</td>\n",
       "    </tr>\n",
       "    <tr>\n",
       "      <th>private</th>\n",
       "      <td>146.79</td>\n",
       "      <td>1.94</td>\n",
       "      <td>105.00</td>\n",
       "      <td>136.22</td>\n",
       "      <td>0.00</td>\n",
       "      <td>0.00</td>\n",
       "      <td>0.00</td>\n",
       "      <td>0.00</td>\n",
       "      <td>0.00</td>\n",
       "      <td>0.00</td>\n",
       "      <td>...</td>\n",
       "      <td>0.00</td>\n",
       "      <td>0.00</td>\n",
       "      <td>0.00</td>\n",
       "      <td>0.00</td>\n",
       "      <td>0.00</td>\n",
       "      <td>0.00</td>\n",
       "      <td>0.00</td>\n",
       "      <td>0.00</td>\n",
       "      <td>0.00</td>\n",
       "      <td>0.83</td>\n",
       "    </tr>\n",
       "    <tr>\n",
       "      <th>smtp</th>\n",
       "      <td>551.27</td>\n",
       "      <td>2.49</td>\n",
       "      <td>1305.12</td>\n",
       "      <td>331.98</td>\n",
       "      <td>0.00</td>\n",
       "      <td>0.00</td>\n",
       "      <td>0.00</td>\n",
       "      <td>0.00</td>\n",
       "      <td>0.00</td>\n",
       "      <td>1.00</td>\n",
       "      <td>...</td>\n",
       "      <td>0.00</td>\n",
       "      <td>0.00</td>\n",
       "      <td>0.00</td>\n",
       "      <td>0.00</td>\n",
       "      <td>0.00</td>\n",
       "      <td>0.00</td>\n",
       "      <td>0.00</td>\n",
       "      <td>0.00</td>\n",
       "      <td>0.00</td>\n",
       "      <td>0.00</td>\n",
       "    </tr>\n",
       "    <tr>\n",
       "      <th>telnet</th>\n",
       "      <td>612.00</td>\n",
       "      <td>15122.00</td>\n",
       "      <td>1154.00</td>\n",
       "      <td>176690.00</td>\n",
       "      <td>0.00</td>\n",
       "      <td>0.00</td>\n",
       "      <td>0.00</td>\n",
       "      <td>0.00</td>\n",
       "      <td>0.00</td>\n",
       "      <td>1.00</td>\n",
       "      <td>...</td>\n",
       "      <td>1.00</td>\n",
       "      <td>2.00</td>\n",
       "      <td>975.00</td>\n",
       "      <td>0.00</td>\n",
       "      <td>0.00</td>\n",
       "      <td>5.00</td>\n",
       "      <td>0.00</td>\n",
       "      <td>0.00</td>\n",
       "      <td>0.00</td>\n",
       "      <td>0.00</td>\n",
       "    </tr>\n",
       "    <tr>\n",
       "      <th>urp_i</th>\n",
       "      <td>453.00</td>\n",
       "      <td>0.00</td>\n",
       "      <td>181.00</td>\n",
       "      <td>0.00</td>\n",
       "      <td>0.00</td>\n",
       "      <td>0.00</td>\n",
       "      <td>0.00</td>\n",
       "      <td>0.00</td>\n",
       "      <td>0.00</td>\n",
       "      <td>0.00</td>\n",
       "      <td>...</td>\n",
       "      <td>0.00</td>\n",
       "      <td>0.00</td>\n",
       "      <td>0.00</td>\n",
       "      <td>0.00</td>\n",
       "      <td>0.00</td>\n",
       "      <td>0.00</td>\n",
       "      <td>0.00</td>\n",
       "      <td>0.00</td>\n",
       "      <td>0.00</td>\n",
       "      <td>0.00</td>\n",
       "    </tr>\n",
       "  </tbody>\n",
       "</table>\n",
       "<p>12 rows × 21 columns</p>\n",
       "</div>"
      ],
      "text/plain": [
       "          Unnamed: 0  duration  src_bytes  dst_bytes  land  wrong_fragment  \\\n",
       "service                                                                      \n",
       "domain_u      460.67      0.11      45.15      54.63  0.00            0.00   \n",
       "eco_i         530.25      0.00      30.00       0.00  0.00            0.00   \n",
       "finger        690.00      0.00       7.00     141.00  0.00            0.00   \n",
       "ftp           261.19    260.61     204.67     713.67  0.00            0.00   \n",
       "ftp_data      305.17     95.45   97447.66       0.00  0.00            0.00   \n",
       "http          394.78    213.49   10825.35    2815.80  0.00            0.00   \n",
       "ntp_u         531.50      0.00      48.00      48.00  0.00            0.00   \n",
       "other         430.78   2408.78     145.89      70.00  0.00            0.00   \n",
       "private       146.79      1.94     105.00     136.22  0.00            0.00   \n",
       "smtp          551.27      2.49    1305.12     331.98  0.00            0.00   \n",
       "telnet        612.00  15122.00    1154.00  176690.00  0.00            0.00   \n",
       "urp_i         453.00      0.00     181.00       0.00  0.00            0.00   \n",
       "\n",
       "          urgent  hot  num_failed_logins  logged_in  ...  root_shell  \\\n",
       "service                                              ...               \n",
       "domain_u    0.00 0.00               0.00       0.00  ...        0.00   \n",
       "eco_i       0.00 0.00               0.00       0.00  ...        0.00   \n",
       "finger      0.00 0.00               0.00       0.00  ...        0.00   \n",
       "ftp         0.00 2.81               0.00       1.00  ...        0.00   \n",
       "ftp_data    0.00 0.06               0.00       0.20  ...        0.00   \n",
       "http        0.00 0.00               0.00       0.87  ...        0.00   \n",
       "ntp_u       0.00 0.00               0.00       0.00  ...        0.00   \n",
       "other       0.00 0.00               0.00       0.00  ...        0.00   \n",
       "private     0.00 0.00               0.00       0.00  ...        0.00   \n",
       "smtp        0.00 0.00               0.00       1.00  ...        0.00   \n",
       "telnet      0.00 0.00               0.00       1.00  ...        1.00   \n",
       "urp_i       0.00 0.00               0.00       0.00  ...        0.00   \n",
       "\n",
       "          su_attempted  num_root  num_file_creations  num_shells  \\\n",
       "service                                                            \n",
       "domain_u          0.00      0.00                0.00        0.00   \n",
       "eco_i             0.00      0.00                0.00        0.00   \n",
       "finger            0.00      0.00                0.00        0.00   \n",
       "ftp               0.00      0.00                0.00        0.00   \n",
       "ftp_data          0.00      0.27                0.00        0.00   \n",
       "http              0.00      0.00                0.00        0.00   \n",
       "ntp_u             0.00      0.00                0.00        0.00   \n",
       "other             0.00      0.00                0.00        0.00   \n",
       "private           0.00      0.00                0.00        0.00   \n",
       "smtp              0.00      0.00                0.00        0.00   \n",
       "telnet            2.00    975.00                0.00        0.00   \n",
       "urp_i             0.00      0.00                0.00        0.00   \n",
       "\n",
       "          num_access_files  num_outbound_cmds  is_host_login  is_guest_login  \\\n",
       "service                                                                        \n",
       "domain_u              0.00               0.00           0.00            0.00   \n",
       "eco_i                 0.00               0.00           0.00            0.00   \n",
       "finger                0.00               0.00           0.00            0.00   \n",
       "ftp                   0.00               0.00           0.00            1.00   \n",
       "ftp_data              0.00               0.00           0.00            0.00   \n",
       "http                  0.00               0.00           0.00            0.00   \n",
       "ntp_u                 0.00               0.00           0.00            0.00   \n",
       "other                 0.00               0.00           0.00            0.00   \n",
       "private               0.00               0.00           0.00            0.00   \n",
       "smtp                  0.00               0.00           0.00            0.00   \n",
       "telnet                5.00               0.00           0.00            0.00   \n",
       "urp_i                 0.00               0.00           0.00            0.00   \n",
       "\n",
       "          is_intrusion  \n",
       "service                 \n",
       "domain_u          0.00  \n",
       "eco_i             0.00  \n",
       "finger            0.00  \n",
       "ftp               0.92  \n",
       "ftp_data          0.76  \n",
       "http              0.27  \n",
       "ntp_u             0.00  \n",
       "other             0.00  \n",
       "private           0.83  \n",
       "smtp              0.00  \n",
       "telnet            0.00  \n",
       "urp_i             0.00  \n",
       "\n",
       "[12 rows x 21 columns]"
      ]
     },
     "execution_count": 50,
     "metadata": {},
     "output_type": "execute_result"
    }
   ],
   "source": [
    "net_df.groupby('service').mean()"
   ]
  },
  {
   "cell_type": "markdown",
   "id": "1783934e",
   "metadata": {},
   "source": [
    "## Note"
   ]
  },
  {
   "cell_type": "markdown",
   "id": "c121f102",
   "metadata": {},
   "source": [
    "This code below is used to get the the value of \"whole\" in the \"def\" function"
   ]
  },
  {
   "cell_type": "code",
   "execution_count": 51,
   "id": "df47e2af",
   "metadata": {},
   "outputs": [
    {
     "data": {
      "text/plain": [
       "18730.072016980474"
      ]
     },
     "execution_count": 51,
     "metadata": {},
     "output_type": "execute_result"
    }
   ],
   "source": [
    "#for example:\n",
    "sum(data_df2.groupby(['service', 'intrusion']).mean()['duration'])"
   ]
  },
  {
   "cell_type": "markdown",
   "id": "d1aa2358",
   "metadata": {},
   "source": [
    "The code below is used to calculate the percentage in this study"
   ]
  },
  {
   "cell_type": "code",
   "execution_count": 52,
   "id": "5124fd12",
   "metadata": {},
   "outputs": [
    {
     "name": "stdout",
     "output_type": "stream",
     "text": [
      "80.7367859049653%\n"
     ]
    }
   ],
   "source": [
    "#for example\n",
    "def percentage(part, whole):\n",
    "    percentage = 100 * float(part)/float(whole)\n",
    "    return str(percentage) + \"%\"\n",
    "print(percentage(15122, 18730))"
   ]
  },
  {
   "cell_type": "markdown",
   "id": "b0310f19",
   "metadata": {},
   "source": [
    "# Logistic regression"
   ]
  },
  {
   "cell_type": "code",
   "execution_count": 53,
   "id": "1d58b7a9",
   "metadata": {},
   "outputs": [],
   "source": [
    "import numpy as np\n",
    "import pandas as pd\n",
    "import statsmodels.api as sm\n",
    "import matplotlib.pyplot as plt\n",
    "import seaborn as sns\n",
    "sns.set()\n",
    "\n",
    "from scipy import stats\n",
    "stats.chisqprob = lambda chisq, df: stats.chi2.sf(chisq, df)"
   ]
  },
  {
   "cell_type": "code",
   "execution_count": 54,
   "id": "82469015",
   "metadata": {},
   "outputs": [
    {
     "data": {
      "text/html": [
       "<div>\n",
       "<style scoped>\n",
       "    .dataframe tbody tr th:only-of-type {\n",
       "        vertical-align: middle;\n",
       "    }\n",
       "\n",
       "    .dataframe tbody tr th {\n",
       "        vertical-align: top;\n",
       "    }\n",
       "\n",
       "    .dataframe thead th {\n",
       "        text-align: right;\n",
       "    }\n",
       "</style>\n",
       "<table border=\"1\" class=\"dataframe\">\n",
       "  <thead>\n",
       "    <tr style=\"text-align: right;\">\n",
       "      <th></th>\n",
       "      <th>duration</th>\n",
       "      <th>src_bytes</th>\n",
       "      <th>dst_bytes</th>\n",
       "      <th>is_guest_login</th>\n",
       "      <th>is_intrusion</th>\n",
       "    </tr>\n",
       "  </thead>\n",
       "  <tbody>\n",
       "    <tr>\n",
       "      <th>0</th>\n",
       "      <td>190.05</td>\n",
       "      <td>105</td>\n",
       "      <td>146</td>\n",
       "      <td>0</td>\n",
       "      <td>1</td>\n",
       "    </tr>\n",
       "    <tr>\n",
       "      <th>1</th>\n",
       "      <td>0.00</td>\n",
       "      <td>105</td>\n",
       "      <td>105</td>\n",
       "      <td>0</td>\n",
       "      <td>1</td>\n",
       "    </tr>\n",
       "    <tr>\n",
       "      <th>2</th>\n",
       "      <td>0.00</td>\n",
       "      <td>105</td>\n",
       "      <td>146</td>\n",
       "      <td>0</td>\n",
       "      <td>1</td>\n",
       "    </tr>\n",
       "    <tr>\n",
       "      <th>3</th>\n",
       "      <td>0.00</td>\n",
       "      <td>105</td>\n",
       "      <td>146</td>\n",
       "      <td>0</td>\n",
       "      <td>1</td>\n",
       "    </tr>\n",
       "    <tr>\n",
       "      <th>4</th>\n",
       "      <td>0.00</td>\n",
       "      <td>105</td>\n",
       "      <td>147</td>\n",
       "      <td>0</td>\n",
       "      <td>1</td>\n",
       "    </tr>\n",
       "  </tbody>\n",
       "</table>\n",
       "</div>"
      ],
      "text/plain": [
       "   duration  src_bytes  dst_bytes  is_guest_login  is_intrusion\n",
       "0    190.05        105        146               0             1\n",
       "1      0.00        105        105               0             1\n",
       "2      0.00        105        146               0             1\n",
       "3      0.00        105        146               0             1\n",
       "4      0.00        105        147               0             1"
      ]
     },
     "execution_count": 54,
     "metadata": {},
     "output_type": "execute_result"
    }
   ],
   "source": [
    "data_df2.head()\n",
    "datat = data_df2\n",
    "datat = datat.drop(['protocol_type','service','flag','intrusion','num_compromised', 'num_access_files' ], axis = 1)\n",
    "datat.head()"
   ]
  },
  {
   "cell_type": "code",
   "execution_count": 55,
   "id": "1ac706da",
   "metadata": {},
   "outputs": [
    {
     "data": {
      "text/html": [
       "<div>\n",
       "<style scoped>\n",
       "    .dataframe tbody tr th:only-of-type {\n",
       "        vertical-align: middle;\n",
       "    }\n",
       "\n",
       "    .dataframe tbody tr th {\n",
       "        vertical-align: top;\n",
       "    }\n",
       "\n",
       "    .dataframe thead th {\n",
       "        text-align: right;\n",
       "    }\n",
       "</style>\n",
       "<table border=\"1\" class=\"dataframe\">\n",
       "  <thead>\n",
       "    <tr style=\"text-align: right;\">\n",
       "      <th></th>\n",
       "      <th>src_bytes</th>\n",
       "      <th>dst_bytes</th>\n",
       "      <th>is_guest_login</th>\n",
       "    </tr>\n",
       "  </thead>\n",
       "  <tbody>\n",
       "    <tr>\n",
       "      <th>0</th>\n",
       "      <td>105</td>\n",
       "      <td>146</td>\n",
       "      <td>0</td>\n",
       "    </tr>\n",
       "    <tr>\n",
       "      <th>1</th>\n",
       "      <td>105</td>\n",
       "      <td>105</td>\n",
       "      <td>0</td>\n",
       "    </tr>\n",
       "    <tr>\n",
       "      <th>2</th>\n",
       "      <td>105</td>\n",
       "      <td>146</td>\n",
       "      <td>0</td>\n",
       "    </tr>\n",
       "    <tr>\n",
       "      <th>3</th>\n",
       "      <td>105</td>\n",
       "      <td>146</td>\n",
       "      <td>0</td>\n",
       "    </tr>\n",
       "    <tr>\n",
       "      <th>4</th>\n",
       "      <td>105</td>\n",
       "      <td>147</td>\n",
       "      <td>0</td>\n",
       "    </tr>\n",
       "  </tbody>\n",
       "</table>\n",
       "</div>"
      ],
      "text/plain": [
       "   src_bytes  dst_bytes  is_guest_login\n",
       "0        105        146               0\n",
       "1        105        105               0\n",
       "2        105        146               0\n",
       "3        105        146               0\n",
       "4        105        147               0"
      ]
     },
     "execution_count": 55,
     "metadata": {},
     "output_type": "execute_result"
    }
   ],
   "source": [
    "#let's define the dependent and independent variables\n",
    "x = datat.drop(['is_intrusion', 'duration'], axis = 1)\n",
    "y = datat['is_intrusion']\n",
    "x.head()\n"
   ]
  },
  {
   "cell_type": "code",
   "execution_count": 56,
   "id": "69189267",
   "metadata": {},
   "outputs": [
    {
     "name": "stdout",
     "output_type": "stream",
     "text": [
      "Optimization terminated successfully.\n",
      "         Current function value: 0.342870\n",
      "         Iterations 12\n"
     ]
    },
    {
     "name": "stderr",
     "output_type": "stream",
     "text": [
      "C:\\Users\\philippe\\anaconda3\\lib\\site-packages\\statsmodels\\discrete\\discrete_model.py:1819: RuntimeWarning: overflow encountered in exp\n",
      "  return 1/(1+np.exp(-X))\n",
      "C:\\Users\\philippe\\anaconda3\\lib\\site-packages\\statsmodels\\discrete\\discrete_model.py:1819: RuntimeWarning: overflow encountered in exp\n",
      "  return 1/(1+np.exp(-X))\n"
     ]
    },
    {
     "data": {
      "text/html": [
       "<table class=\"simpletable\">\n",
       "<caption>Logit Regression Results</caption>\n",
       "<tr>\n",
       "  <th>Dep. Variable:</th>     <td>is_intrusion</td>   <th>  No. Observations:  </th>   <td>   699</td>  \n",
       "</tr>\n",
       "<tr>\n",
       "  <th>Model:</th>                 <td>Logit</td>      <th>  Df Residuals:      </th>   <td>   695</td>  \n",
       "</tr>\n",
       "<tr>\n",
       "  <th>Method:</th>                 <td>MLE</td>       <th>  Df Model:          </th>   <td>     3</td>  \n",
       "</tr>\n",
       "<tr>\n",
       "  <th>Date:</th>            <td>Mon, 08 Aug 2022</td> <th>  Pseudo R-squ.:     </th>   <td>0.4981</td>  \n",
       "</tr>\n",
       "<tr>\n",
       "  <th>Time:</th>                <td>19:26:11</td>     <th>  Log-Likelihood:    </th>  <td> -239.67</td> \n",
       "</tr>\n",
       "<tr>\n",
       "  <th>converged:</th>             <td>True</td>       <th>  LL-Null:           </th>  <td> -477.48</td> \n",
       "</tr>\n",
       "<tr>\n",
       "  <th>Covariance Type:</th>     <td>nonrobust</td>    <th>  LLR p-value:       </th> <td>9.165e-103</td>\n",
       "</tr>\n",
       "</table>\n",
       "<table class=\"simpletable\">\n",
       "<tr>\n",
       "         <td></td>           <th>coef</th>     <th>std err</th>      <th>z</th>      <th>P>|z|</th>  <th>[0.025</th>    <th>0.975]</th>  \n",
       "</tr>\n",
       "<tr>\n",
       "  <th>const</th>          <td>    0.7767</td> <td>    0.156</td> <td>    4.973</td> <td> 0.000</td> <td>    0.471</td> <td>    1.083</td>\n",
       "</tr>\n",
       "<tr>\n",
       "  <th>src_bytes</th>      <td> 5.355e-05</td> <td> 1.63e-05</td> <td>    3.290</td> <td> 0.001</td> <td> 2.17e-05</td> <td> 8.54e-05</td>\n",
       "</tr>\n",
       "<tr>\n",
       "  <th>dst_bytes</th>      <td>   -0.0073</td> <td>    0.001</td> <td>   -8.207</td> <td> 0.000</td> <td>   -0.009</td> <td>   -0.006</td>\n",
       "</tr>\n",
       "<tr>\n",
       "  <th>is_guest_login</th> <td>    6.7776</td> <td>    0.936</td> <td>    7.239</td> <td> 0.000</td> <td>    4.942</td> <td>    8.613</td>\n",
       "</tr>\n",
       "</table><br/><br/>Possibly complete quasi-separation: A fraction 0.23 of observations can be<br/>perfectly predicted. This might indicate that there is complete<br/>quasi-separation. In this case some parameters will not be identified."
      ],
      "text/plain": [
       "<class 'statsmodels.iolib.summary.Summary'>\n",
       "\"\"\"\n",
       "                           Logit Regression Results                           \n",
       "==============================================================================\n",
       "Dep. Variable:           is_intrusion   No. Observations:                  699\n",
       "Model:                          Logit   Df Residuals:                      695\n",
       "Method:                           MLE   Df Model:                            3\n",
       "Date:                Mon, 08 Aug 2022   Pseudo R-squ.:                  0.4981\n",
       "Time:                        19:26:11   Log-Likelihood:                -239.67\n",
       "converged:                       True   LL-Null:                       -477.48\n",
       "Covariance Type:            nonrobust   LLR p-value:                9.165e-103\n",
       "==================================================================================\n",
       "                     coef    std err          z      P>|z|      [0.025      0.975]\n",
       "----------------------------------------------------------------------------------\n",
       "const              0.7767      0.156      4.973      0.000       0.471       1.083\n",
       "src_bytes       5.355e-05   1.63e-05      3.290      0.001    2.17e-05    8.54e-05\n",
       "dst_bytes         -0.0073      0.001     -8.207      0.000      -0.009      -0.006\n",
       "is_guest_login     6.7776      0.936      7.239      0.000       4.942       8.613\n",
       "==================================================================================\n",
       "\n",
       "Possibly complete quasi-separation: A fraction 0.23 of observations can be\n",
       "perfectly predicted. This might indicate that there is complete\n",
       "quasi-separation. In this case some parameters will not be identified.\n",
       "\"\"\""
      ]
     },
     "execution_count": 56,
     "metadata": {},
     "output_type": "execute_result"
    }
   ],
   "source": [
    "#run the regression and graph\n",
    "x1 = sm.add_constant(x)\n",
    "reg_log = sm.Logit(y,x1)\n",
    "results_log = reg_log.fit()\n",
    "# Get the regression summary\n",
    "results_log.summary()"
   ]
  },
  {
   "cell_type": "markdown",
   "id": "949034ae",
   "metadata": {},
   "source": [
    "# confusion matrix"
   ]
  },
  {
   "cell_type": "code",
   "execution_count": 57,
   "id": "47dd08ec",
   "metadata": {},
   "outputs": [],
   "source": [
    "def confusion_matrix(datat,actual_values,model):\n",
    "    pred_values = model.predict(datat)\n",
    "    # Specify the bins \n",
    "    bins=np.array([0,0.5,1])\n",
    "    # Create a histogram, where if values are between 0 and 0.5 tell will be considered 0\n",
    "    # if they are between 0.5 and 1, they will be considered 1\n",
    "    cm = np.histogram2d(actual_values, pred_values, bins=bins)[0]\n",
    "    # Calculate the accuracy\n",
    "    accuracy = (cm[0,0]+cm[1,1])/cm.sum()\n",
    "    # Return the confusion matrix and \n",
    "    return cm, accuracy\n",
    "    # Confusion matrix \n",
    "        \n",
    "        # Parameters\n",
    "        # ----------\n",
    "        # data: data frame or array\n",
    "            # data is a data frame formatted in the same way as your input data (without the actual values)\n",
    "            # e.g. const, var1, var2, etc. Order is very important!\n",
    "        # actual_values: data frame or array\n",
    "            # These are the actual values from the test_data\n",
    "            # In the case of a logistic regression, it should be a single column with 0s and 1s\n",
    "            \n",
    "        # model: a LogitResults object\n",
    "            # this is the variable where you have the fitted model \n",
    "            # e.g. results_log in this course\n",
    "        # ----------    "
   ]
  },
  {
   "cell_type": "code",
   "execution_count": 58,
   "id": "d692f70f",
   "metadata": {},
   "outputs": [
    {
     "data": {
      "text/plain": [
       "(array([[312.,  87.],\n",
       "        [ 92., 208.]]),\n",
       " 0.7439198855507868)"
      ]
     },
     "execution_count": 58,
     "metadata": {},
     "output_type": "execute_result"
    }
   ],
   "source": [
    "confusion_matrix(x1, y, results_log)"
   ]
  },
  {
   "cell_type": "code",
   "execution_count": 59,
   "id": "ee27edc5",
   "metadata": {},
   "outputs": [
    {
     "data": {
      "text/plain": [
       "(699, 5)"
      ]
     },
     "execution_count": 59,
     "metadata": {},
     "output_type": "execute_result"
    }
   ],
   "source": [
    "datat.shape"
   ]
  },
  {
   "cell_type": "markdown",
   "id": "283a7a63",
   "metadata": {},
   "source": [
    "# k-nearest neighbor algorithm in Python"
   ]
  },
  {
   "cell_type": "code",
   "execution_count": 60,
   "id": "00f095e7",
   "metadata": {},
   "outputs": [],
   "source": [
    "# Import necessary modules\n",
    "from sklearn.neighbors import KNeighborsClassifier\n",
    "from sklearn.model_selection import train_test_split\n",
    "import numpy as np\n",
    "import matplotlib.pyplot as plt"
   ]
  },
  {
   "cell_type": "code",
   "execution_count": 61,
   "id": "50eca915",
   "metadata": {},
   "outputs": [],
   "source": [
    "# Create feature and target arrays\n",
    "x = datat.drop(['is_intrusion', 'duration'], axis = 1)\n",
    "y = datat['is_intrusion']"
   ]
  },
  {
   "cell_type": "code",
   "execution_count": 62,
   "id": "6bdea14d",
   "metadata": {},
   "outputs": [],
   "source": [
    "# Split into training and test set\n",
    "x_train, x_test, y_train, y_test = train_test_split(\n",
    "             x, y, test_size = 0.2, random_state=42)"
   ]
  },
  {
   "cell_type": "code",
   "execution_count": 63,
   "id": "240d3270",
   "metadata": {},
   "outputs": [],
   "source": [
    "from sklearn.preprocessing import StandardScaler\n",
    "scaler = StandardScaler()\n",
    "scaler.fit(x_train)\n",
    "\n",
    "x_train = scaler.transform(x_train)\n",
    "x_test = scaler.transform(x_test)"
   ]
  },
  {
   "cell_type": "code",
   "execution_count": 64,
   "id": "dc43ff33",
   "metadata": {},
   "outputs": [
    {
     "data": {
      "text/plain": [
       "KNeighborsClassifier(n_neighbors=4)"
      ]
     },
     "execution_count": 64,
     "metadata": {},
     "output_type": "execute_result"
    }
   ],
   "source": [
    "knn = KNeighborsClassifier(n_neighbors=4)\n",
    " \n",
    "knn.fit(x_train, y_train)"
   ]
  },
  {
   "cell_type": "code",
   "execution_count": 65,
   "id": "2856c626",
   "metadata": {},
   "outputs": [
    {
     "name": "stdout",
     "output_type": "stream",
     "text": [
      "[1 0 0 1 0 1 1 1 0 0 0 0 1 1 0 0 0 0 0 0 0 0 1 1 1 0 0 1 1 1 1 0 1 1 1 0 0\n",
      " 0 0 1 1 1 1 0 0 0 0 0 1 1 0 1 0 1 1 0 1 1 1 0 1 0 0 1 0 0 1 1 1 1 0 1 1 1\n",
      " 0 1 0 0 1 0 1 1 0 1 1 0 1 0 1 0 0 0 0 0 1 0 0 1 1 1 0 1 0 0 1 0 1 1 1 1 1\n",
      " 0 1 1 0 1 0 0 0 1 0 0 1 0 0 1 0 0 0 1 1 0 1 0 0 1 1 0 1 1]\n"
     ]
    }
   ],
   "source": [
    "# Predict on dataset which model has not seen before\n",
    "print(knn.predict(x_test))\n",
    "pred = knn.predict(x_test)"
   ]
  },
  {
   "cell_type": "code",
   "execution_count": 66,
   "id": "16e3c5dc",
   "metadata": {},
   "outputs": [
    {
     "name": "stdout",
     "output_type": "stream",
     "text": [
      "[[68  4]\n",
      " [ 2 66]]\n",
      "              precision    recall  f1-score   support\n",
      "\n",
      "           0       0.97      0.94      0.96        72\n",
      "           1       0.94      0.97      0.96        68\n",
      "\n",
      "    accuracy                           0.96       140\n",
      "   macro avg       0.96      0.96      0.96       140\n",
      "weighted avg       0.96      0.96      0.96       140\n",
      "\n"
     ]
    }
   ],
   "source": [
    "#evaluate algorithm\n",
    "from sklearn.metrics import classification_report, confusion_matrix\n",
    "print(confusion_matrix(y_test, pred))\n",
    "print(classification_report(y_test, pred))"
   ]
  },
  {
   "cell_type": "code",
   "execution_count": 67,
   "id": "0e71f1d9",
   "metadata": {},
   "outputs": [
    {
     "data": {
      "text/plain": [
       "array([[68,  4],\n",
       "       [ 2, 66]], dtype=int64)"
      ]
     },
     "execution_count": 67,
     "metadata": {},
     "output_type": "execute_result"
    }
   ],
   "source": [
    "# Making the Confusion Matrix\n",
    "from sklearn.metrics import confusion_matrix, accuracy_score\n",
    "pred = knn.predict(x_test)\n",
    "cm = confusion_matrix(y_test, pred)\n",
    "cm\n"
   ]
  },
  {
   "cell_type": "code",
   "execution_count": 68,
   "id": "db2f44b9",
   "metadata": {},
   "outputs": [
    {
     "data": {
      "text/plain": [
       "0.9571428571428572"
      ]
     },
     "execution_count": 68,
     "metadata": {},
     "output_type": "execute_result"
    }
   ],
   "source": [
    "# Calculate the accuracy\n",
    "accuracy = (cm[0,0]+cm[1,1])/cm.sum()\n",
    "accuracy"
   ]
  },
  {
   "cell_type": "code",
   "execution_count": 69,
   "id": "5f575b0a",
   "metadata": {},
   "outputs": [
    {
     "data": {
      "text/plain": [
       "0.9571428571428572"
      ]
     },
     "execution_count": 69,
     "metadata": {},
     "output_type": "execute_result"
    }
   ],
   "source": [
    "#or we can just use the following code to compute the accuracry\n",
    "ac = accuracy_score(y_test,pred)\n",
    "ac"
   ]
  },
  {
   "cell_type": "code",
   "execution_count": 70,
   "id": "1805f9ea",
   "metadata": {},
   "outputs": [],
   "source": [
    "neighbors = np.arange(1, 9)\n",
    "train_accuracy = np.empty(len(neighbors))\n",
    "test_accuracy = np.empty(len(neighbors))"
   ]
  },
  {
   "cell_type": "code",
   "execution_count": 70,
   "id": "1c59f0f1",
   "metadata": {},
   "outputs": [],
   "source": [
    "# Loop over K values\n",
    "for i, k in enumerate(neighbors):\n",
    "    knn = KNeighborsClassifier(n_neighbors=k)\n",
    "    knn.fit(x_train, y_train)\n",
    "     \n",
    "    # Compute training and test data accuracy\n",
    "    train_accuracy[i] = knn.score(x_train, y_train)\n",
    "    test_accuracy[i] = knn.score(x_test, y_test)"
   ]
  },
  {
   "cell_type": "code",
   "execution_count": 71,
   "id": "173484ef",
   "metadata": {},
   "outputs": [
    {
     "data": {
      "image/png": "[encoded data removed]",
      "text/plain": [
       "<Figure size 432x288 with 1 Axes>"
      ]
     },
     "metadata": {},
     "output_type": "display_data"
    }
   ],
   "source": [
    "# Generate plot\n",
    "plt.plot(neighbors, test_accuracy, label = 'Testing dataset Accuracy')\n",
    "plt.plot(neighbors, train_accuracy, label = 'Training dataset Accuracy')\n",
    " \n",
    "plt.legend()\n",
    "plt.xlabel('n_neighbors')\n",
    "plt.ylabel('Accuracy')\n",
    "plt.show()"
   ]
  },
  {
   "cell_type": "markdown",
   "id": "888bb86e",
   "metadata": {},
   "source": [
    "## error for k values "
   ]
  },
  {
   "cell_type": "code",
   "execution_count": 72,
   "id": "9e8dc155",
   "metadata": {},
   "outputs": [],
   "source": [
    "error = []\n",
    "\n",
    "# Calculating error for K values between 1 and 40\n",
    "for i in range(1, 27):\n",
    "    knn = KNeighborsClassifier(n_neighbors=i)\n",
    "    knn.fit(x_train, y_train)\n",
    "    pred_i = knn.predict(x_test)\n",
    "    error.append(np.mean(pred_i != y_test))"
   ]
  },
  {
   "cell_type": "code",
   "execution_count": 73,
   "id": "669eb147",
   "metadata": {},
   "outputs": [
    {
     "data": {
      "text/plain": [
       "Text(0, 0.5, 'Mean Error')"
      ]
     },
     "execution_count": 73,
     "metadata": {},
     "output_type": "execute_result"
    },
    {
     "data": {
      "image/png": "[encoded data removed]",
      "text/plain": [
       "<Figure size 864x432 with 1 Axes>"
      ]
     },
     "metadata": {},
     "output_type": "display_data"
    }
   ],
   "source": [
    "plt.figure(figsize=(12, 6))\n",
    "plt.plot(range(1, 27), error, color='red', linestyle='dashed', marker='o',\n",
    "         markerfacecolor='blue', markersize=10)\n",
    "plt.title('Error Rate K Value')\n",
    "plt.xlabel('K Value')\n",
    "plt.ylabel('Mean Error')"
   ]
  },
  {
   "cell_type": "markdown",
   "id": "fb6a26ab",
   "metadata": {},
   "source": [
    "# Decision Tree"
   ]
  },
  {
   "cell_type": "code",
   "execution_count": 74,
   "id": "fb0d4ce3",
   "metadata": {},
   "outputs": [
    {
     "data": {
      "text/plain": [
       "DecisionTreeClassifier(criterion='entropy')"
      ]
     },
     "execution_count": 74,
     "metadata": {},
     "output_type": "execute_result"
    }
   ],
   "source": [
    "#the process id the same above where we train the data and then scale it.\n",
    "#let's create a new variable for the model\n",
    "from sklearn.tree import DecisionTreeClassifier\n",
    "model=DecisionTreeClassifier(criterion='entropy')\n",
    "model.fit(x_train,y_train)"
   ]
  },
  {
   "cell_type": "code",
   "execution_count": 75,
   "id": "708c0d94",
   "metadata": {},
   "outputs": [
    {
     "data": {
      "text/plain": [
       "array([1, 0, 0, 1, 0, 1, 1, 1, 0, 0, 0, 0, 1, 1, 0, 0, 0, 0, 0, 1, 0, 0,\n",
       "       1, 1, 1, 0, 0, 1, 1, 1, 1, 0, 1, 1, 1, 0, 0, 0, 0, 1, 1, 1, 1, 0,\n",
       "       0, 0, 0, 0, 1, 1, 0, 1, 0, 1, 1, 0, 1, 1, 1, 0, 1, 0, 0, 1, 0, 0,\n",
       "       1, 1, 1, 1, 0, 1, 1, 1, 0, 0, 0, 0, 1, 0, 1, 1, 0, 1, 1, 0, 1, 0,\n",
       "       1, 0, 0, 0, 1, 0, 1, 0, 0, 1, 1, 1, 0, 1, 0, 0, 1, 0, 1, 1, 1, 1,\n",
       "       1, 0, 1, 1, 0, 1, 0, 0, 0, 1, 0, 0, 1, 0, 0, 1, 0, 0, 0, 1, 1, 1,\n",
       "       1, 0, 0, 1, 1, 0, 1, 1], dtype=int64)"
      ]
     },
     "execution_count": 75,
     "metadata": {},
     "output_type": "execute_result"
    }
   ],
   "source": [
    "y_prediction = model.predict(x_test)\n",
    "y_prediction"
   ]
  },
  {
   "cell_type": "code",
   "execution_count": 76,
   "id": "11620014",
   "metadata": {},
   "outputs": [
    {
     "name": "stdout",
     "output_type": "stream",
     "text": [
      "Accuracy of the model is 95.71\n"
     ]
    }
   ],
   "source": [
    "#Find Accuracy of the Model\n",
    "accuracy=accuracy_score(y_prediction,y_test)*100\n",
    "print(\"Accuracy of the model is {:.2f}\".format(accuracy))"
   ]
  },
  {
   "cell_type": "code",
   "execution_count": 77,
   "id": "c4faecac",
   "metadata": {},
   "outputs": [
    {
     "data": {
      "text/plain": [
       "array([[67,  1],\n",
       "       [ 5, 67]], dtype=int64)"
      ]
     },
     "execution_count": 77,
     "metadata": {},
     "output_type": "execute_result"
    }
   ],
   "source": [
    "confusion_matrix(y_prediction,y_test)"
   ]
  },
  {
   "cell_type": "code",
   "execution_count": 78,
   "id": "44eda5d1",
   "metadata": {},
   "outputs": [],
   "source": [
    "#lets plot"
   ]
  },
  {
   "cell_type": "code",
   "execution_count": 79,
   "id": "05c02bb0",
   "metadata": {},
   "outputs": [],
   "source": [
    "from sklearn import tree"
   ]
  },
  {
   "cell_type": "code",
   "execution_count": 80,
   "id": "ce19e51a",
   "metadata": {},
   "outputs": [
    {
     "data": {
      "text/plain": [
       "[Text(205.20000000000002, 206.56799999999998, 'X[1] <= -0.198\\nentropy = 0.979\\nsamples = 559\\nvalue = [327, 232]'),\n",
       " Text(162.0, 184.824, 'X[0] <= 0.233\\nentropy = 0.886\\nsamples = 293\\nvalue = [89, 204]'),\n",
       " Text(140.4, 163.07999999999998, 'X[1] <= -0.2\\nentropy = 0.97\\nsamples = 223\\nvalue = [89, 134]'),\n",
       " Text(86.4, 141.336, 'X[0] <= -0.299\\nentropy = 0.994\\nsamples = 148\\nvalue = [81, 67]'),\n",
       " Text(43.2, 119.592, 'X[0] <= -0.3\\nentropy = 0.684\\nsamples = 66\\nvalue = [12, 54]'),\n",
       " Text(21.6, 97.848, 'entropy = 0.918\\nsamples = 36\\nvalue = [12, 24]'),\n",
       " Text(64.80000000000001, 97.848, 'entropy = 0.0\\nsamples = 30\\nvalue = [0, 30]'),\n",
       " Text(129.60000000000002, 119.592, 'X[0] <= -0.298\\nentropy = 0.631\\nsamples = 82\\nvalue = [69, 13]'),\n",
       " Text(108.0, 97.848, 'entropy = 0.0\\nsamples = 33\\nvalue = [33, 0]'),\n",
       " Text(151.20000000000002, 97.848, 'X[0] <= -0.284\\nentropy = 0.835\\nsamples = 49\\nvalue = [36, 13]'),\n",
       " Text(75.60000000000001, 76.10399999999998, 'X[1] <= -0.21\\nentropy = 0.711\\nsamples = 36\\nvalue = [29, 7]'),\n",
       " Text(54.0, 54.360000000000014, 'entropy = 0.0\\nsamples = 17\\nvalue = [17, 0]'),\n",
       " Text(97.2, 54.360000000000014, 'X[0] <= -0.298\\nentropy = 0.949\\nsamples = 19\\nvalue = [12, 7]'),\n",
       " Text(75.60000000000001, 32.615999999999985, 'X[1] <= -0.202\\nentropy = 0.996\\nsamples = 13\\nvalue = [6, 7]'),\n",
       " Text(54.0, 10.872000000000014, 'entropy = 0.0\\nsamples = 6\\nvalue = [0, 6]'),\n",
       " Text(97.2, 10.872000000000014, 'entropy = 0.592\\nsamples = 7\\nvalue = [6, 1]'),\n",
       " Text(118.80000000000001, 32.615999999999985, 'entropy = 0.0\\nsamples = 6\\nvalue = [6, 0]'),\n",
       " Text(226.8, 76.10399999999998, 'X[0] <= -0.203\\nentropy = 0.996\\nsamples = 13\\nvalue = [7, 6]'),\n",
       " Text(183.60000000000002, 54.360000000000014, 'X[0] <= -0.254\\nentropy = 0.722\\nsamples = 5\\nvalue = [1, 4]'),\n",
       " Text(162.0, 32.615999999999985, 'X[0] <= -0.279\\nentropy = 1.0\\nsamples = 2\\nvalue = [1, 1]'),\n",
       " Text(140.4, 10.872000000000014, 'entropy = 0.0\\nsamples = 1\\nvalue = [0, 1]'),\n",
       " Text(183.60000000000002, 10.872000000000014, 'entropy = 0.0\\nsamples = 1\\nvalue = [1, 0]'),\n",
       " Text(205.20000000000002, 32.615999999999985, 'entropy = 0.0\\nsamples = 3\\nvalue = [0, 3]'),\n",
       " Text(270.0, 54.360000000000014, 'X[0] <= 0.004\\nentropy = 0.811\\nsamples = 8\\nvalue = [6, 2]'),\n",
       " Text(248.4, 32.615999999999985, 'entropy = 0.0\\nsamples = 5\\nvalue = [5, 0]'),\n",
       " Text(291.6, 32.615999999999985, 'X[0] <= 0.16\\nentropy = 0.918\\nsamples = 3\\nvalue = [1, 2]'),\n",
       " Text(270.0, 10.872000000000014, 'entropy = 0.0\\nsamples = 2\\nvalue = [0, 2]'),\n",
       " Text(313.20000000000005, 10.872000000000014, 'entropy = 0.0\\nsamples = 1\\nvalue = [1, 0]'),\n",
       " Text(194.4, 141.336, 'X[1] <= -0.2\\nentropy = 0.49\\nsamples = 75\\nvalue = [8, 67]'),\n",
       " Text(172.8, 119.592, 'entropy = 0.658\\nsamples = 47\\nvalue = [8, 39]'),\n",
       " Text(216.0, 119.592, 'entropy = 0.0\\nsamples = 28\\nvalue = [0, 28]'),\n",
       " Text(183.60000000000002, 163.07999999999998, 'entropy = 0.0\\nsamples = 70\\nvalue = [0, 70]'),\n",
       " Text(248.4, 184.824, 'X[2] <= 1.981\\nentropy = 0.485\\nsamples = 266\\nvalue = [238, 28]'),\n",
       " Text(226.8, 163.07999999999998, 'entropy = 0.0\\nsamples = 236\\nvalue = [236, 0]'),\n",
       " Text(270.0, 163.07999999999998, 'X[1] <= -0.14\\nentropy = 0.353\\nsamples = 30\\nvalue = [2, 28]'),\n",
       " Text(248.4, 141.336, 'entropy = 0.0\\nsamples = 28\\nvalue = [0, 28]'),\n",
       " Text(291.6, 141.336, 'entropy = 0.0\\nsamples = 2\\nvalue = [2, 0]')]"
      ]
     },
     "execution_count": 80,
     "metadata": {},
     "output_type": "execute_result"
    },
    {
     "data": {
      "image/png": "[encoded data removed]",
      "text/plain": [
       "<Figure size 432x288 with 1 Axes>"
      ]
     },
     "metadata": {},
     "output_type": "display_data"
    }
   ],
   "source": [
    "tree.plot_tree(model)"
   ]
  },
  {
   "cell_type": "markdown",
   "id": "b92df5a5",
   "metadata": {},
   "source": [
    "# K-means"
   ]
  },
  {
   "cell_type": "code",
   "execution_count": 81,
   "id": "b7fa0d58",
   "metadata": {},
   "outputs": [],
   "source": [
    "from sklearn.cluster import KMeans"
   ]
  },
  {
   "cell_type": "code",
   "execution_count": 82,
   "id": "89217d6f",
   "metadata": {},
   "outputs": [],
   "source": [
    "x = datat.drop(['is_intrusion', 'duration'], axis = 1)\n",
    "y = datat['is_intrusion']"
   ]
  },
  {
   "cell_type": "code",
   "execution_count": 83,
   "id": "88c44365",
   "metadata": {},
   "outputs": [],
   "source": [
    "#feature scaling\n",
    "cols = x.columns\n",
    "from sklearn.preprocessing import MinMaxScaler\n",
    "\n",
    "ms = MinMaxScaler()\n",
    "\n",
    "x = ms.fit_transform(x)"
   ]
  },
  {
   "cell_type": "code",
   "execution_count": 84,
   "id": "3d864fdd",
   "metadata": {},
   "outputs": [],
   "source": [
    "import pandas as pd\n",
    "x = pd.DataFrame(x, columns=[cols])"
   ]
  },
  {
   "cell_type": "markdown",
   "id": "4390813f",
   "metadata": {},
   "source": [
    "### elbow method to find optimal number of clusters"
   ]
  },
  {
   "cell_type": "code",
   "execution_count": 85,
   "id": "260253f3",
   "metadata": {},
   "outputs": [
    {
     "name": "stderr",
     "output_type": "stream",
     "text": [
      "C:\\Users\\philippe\\anaconda3\\lib\\site-packages\\sklearn\\cluster\\_kmeans.py:881: UserWarning: KMeans is known to have a memory leak on Windows with MKL, when there are less chunks than available threads. You can avoid it by setting the environment variable OMP_NUM_THREADS=3.\n",
      "  warnings.warn(\n"
     ]
    },
    {
     "data": {
      "image/png": "[encoded data removed]",
      "text/plain": [
       "<Figure size 432x288 with 1 Axes>"
      ]
     },
     "metadata": {},
     "output_type": "display_data"
    }
   ],
   "source": [
    "from sklearn.cluster import KMeans\n",
    "cs = []\n",
    "for i in range(1, 15):\n",
    "    kmeans = KMeans(n_clusters = i, init = 'k-means++', max_iter = 300, n_init = 10, random_state = 0)\n",
    "    kmeans.fit(x)\n",
    "    cs.append(kmeans.inertia_)\n",
    "plt.plot(range(1, 15), cs, marker = 'x')\n",
    "plt.title('The Elbow Method')\n",
    "plt.xlabel('Number of clusters')\n",
    "plt.ylabel('CS')\n",
    "plt.show()"
   ]
  },
  {
   "cell_type": "code",
   "execution_count": 86,
   "id": "79a52625",
   "metadata": {},
   "outputs": [
    {
     "data": {
      "text/plain": [
       "KMeans(n_clusters=2, random_state=0)"
      ]
     },
     "execution_count": 86,
     "metadata": {},
     "output_type": "execute_result"
    }
   ],
   "source": [
    "#lets compute the K-means now\n",
    "kmeans = KMeans(n_clusters=2, random_state=0)\n",
    "\n",
    "kmeans.fit(x)"
   ]
  },
  {
   "cell_type": "code",
   "execution_count": 87,
   "id": "ba88123a",
   "metadata": {},
   "outputs": [
    {
     "data": {
      "text/plain": [
       "array([[ 6.69917135e-02,  1.05590767e-02, -1.24900090e-16],\n",
       "       [ 7.21627917e-04,  4.03908918e-03,  1.00000000e+00]])"
      ]
     },
     "execution_count": 87,
     "metadata": {},
     "output_type": "execute_result"
    }
   ],
   "source": [
    "kmeans.cluster_centers_"
   ]
  },
  {
   "cell_type": "code",
   "execution_count": 88,
   "id": "6211d0ec",
   "metadata": {},
   "outputs": [
    {
     "name": "stdout",
     "output_type": "stream",
     "text": [
      "Result: 429 out of 699 samples were correctly labeled.\n",
      "Accuracy score: 0.61\n"
     ]
    }
   ],
   "source": [
    "# check how many of the samples were correctly labeled\n",
    "labels = kmeans.labels_\n",
    "\n",
    "correct_labels = sum(y == labels)\n",
    "print(\"Result: %d out of %d samples were correctly labeled.\" % (correct_labels, y.size))\n",
    "print('Accuracy score: {0:0.2f}'. format(correct_labels/float(y.size)))"
   ]
  },
  {
   "cell_type": "markdown",
   "id": "82b70949",
   "metadata": {},
   "source": [
    "## C. Conclusion"
   ]
  },
  {
   "cell_type": "markdown",
   "id": "fc35dd93",
   "metadata": {},
   "source": [
    "    This study helped uncover a lot of information about the network intrusions from XWZ bank.\n",
    "\n",
    "According to the analysis, 57% of network intrusions are benign and 43%, malicious. Many factors contributed to\n",
    "\n",
    "these intrusions. The number of data bytes from both “source to destination“ and “destination to source”, the length \n",
    "\n",
    "of the connection, the protocol used, and the network service are some of the key factors that help identify the differences\n",
    "\n",
    "between benign and malicious intrusions. Nevertheless, the protocol and service types are proven to be important factors \n",
    "\n",
    "in this study as they display the routes and traces of all intrusions. TCP and UDP protocols were mostly used during the network \n",
    "\n",
    "intrusion which accounts for 76% and 23% respectively. From source to destination, the TCP protocol records 98.6% of malicious \n",
    "\n",
    "intrusion in which network services such as FTP_data and HTTP are the main source.  FTP_data accounts for 73.3% and HTTP, 22.4%.  \n",
    "From destination to source, 92.2 % of benign intrusion comes from TCP protocol where Telnet and HTTP network services are the \n",
    "\n",
    "main source with a percentage of 96% for Telnet and 2.1% for HTTP. Lastly, the length of connection is one of the factors that \n",
    "\n",
    "differentiate benign and malicious intrusion. According to the analysis, TCP accounts for 8% benign and 66% malicious, while UDP \n",
    "\n",
    "accounts for 50% benign and 0% malicious intrusion. Furthermore, FTP, FTP_data, and HTTP network services are mostly used during \n",
    "\n",
    "the malicious intrusion.\n",
    "\n",
    " \n",
    "   The limitation of this study falls around the outliers. The outliers were not removed which limited the outcome of the study \n",
    "    \n",
    "by giving false alerts. Most importantly, the Telnet network service accounted for 1 observation which has more data bytes “from \n",
    "\n",
    "source to destination” and from “destination to source”, leaving only one with conditions compromised and number of files \n",
    "\n",
    "accessed and lots of seconds in length of connection.However, Telnet only accounts for one benign intrusion according to the \n",
    "\n",
    "data. Future research should remove all outliers before drawing conlusion from it.\n"
   ]
  },
  {
   "cell_type": "markdown",
   "id": "632dd92f",
   "metadata": {},
   "source": [
    "# Exporting data to your desktop"
   ]
  },
  {
   "cell_type": "code",
   "execution_count": 93,
   "id": "b9186129",
   "metadata": {},
   "outputs": [],
   "source": [
    "data_df.to_csv(r'C:\\Users\\Philippe\\Dropbox\\Documents\\Python Data Fusion\\intrusion.csv', index = False, header=True)"
   ]
  }
 ],
 "metadata": {
  "kernelspec": {
   "display_name": "Python 3 (ipykernel)",
   "language": "python",
   "name": "python3"
  },
  "language_info": {
   "codemirror_mode": {
    "name": "ipython",
    "version": 3
   },
   "file_extension": ".py",
   "mimetype": "text/x-python",
   "name": "python",
   "nbconvert_exporter": "python",
   "pygments_lexer": "ipython3",
   "version": "3.9.12"
  }
 },
 "nbformat": 4,
 "nbformat_minor": 5
}
